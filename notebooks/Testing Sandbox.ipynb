{
 "cells": [
  {
   "cell_type": "code",
   "execution_count": 70,
   "metadata": {},
   "outputs": [],
   "source": [
    "import requests\n",
    "from datetime import date, timedelta"
   ]
  },
  {
   "cell_type": "code",
   "execution_count": 91,
   "metadata": {},
   "outputs": [],
   "source": [
    "request = {\"StartDate\":\"2015-02-01\"}"
   ]
  },
  {
   "cell_type": "code",
   "execution_count": 92,
   "metadata": {},
   "outputs": [],
   "source": [
    "startDate = datetime.strptime(request['StartDate'], '%Y-%m-%d').date()"
   ]
  },
  {
   "cell_type": "code",
   "execution_count": 93,
   "metadata": {},
   "outputs": [],
   "source": [
    "endDate_max = (datetime.now() + timedelta(days=-1)).date()"
   ]
  },
  {
   "cell_type": "code",
   "execution_count": 94,
   "metadata": {},
   "outputs": [],
   "source": [
    "endDate = ''"
   ]
  },
  {
   "cell_type": "code",
   "execution_count": 95,
   "metadata": {},
   "outputs": [],
   "source": [
    "url = 'https://us-central1-nba-predictions-dev.cloudfunctions.net/nba_basketball_reference_scraper'"
   ]
  },
  {
   "cell_type": "code",
   "execution_count": 99,
   "metadata": {},
   "outputs": [
    {
     "name": "stdout",
     "output_type": "stream",
     "text": [
      "{'StartDate': '2015-03-01', 'EndDate': '2015-03-31'}\n"
     ]
    }
   ],
   "source": [
    "#while endDate != endDate_max:\n",
    "year, month= divmod(startDate.month+1, 12)\n",
    "if month == 0: \n",
    "      month = 12\n",
    "      year = year -1\n",
    "endDate = date(startDate.year + year, month, 1) + timedelta(days=-1)\n",
    "if endDate >= endDate_max:\n",
    "    endDate = endDate_max\n",
    "endDateformat = endDate.strftime('%Y-%m-%d')\n",
    "startDateformat = startDate.strftime('%Y-%m-%d')\n",
    "data = {\"StartDate\":startDateformat,\"EndDate\":endDateformat}\n",
    "print(data)\n",
    "# response = requests.post(url, data)\n",
    "# print(response)\n",
    "year, month= divmod(startDate.month+1, 12)\n",
    "if month == 0: \n",
    "      month = 12\n",
    "      year = year -1\n",
    "startDate = date(startDate.year + year, month, 1)"
   ]
  },
  {
   "cell_type": "code",
   "execution_count": 98,
   "metadata": {},
   "outputs": [
    {
     "name": "stdout",
     "output_type": "stream",
     "text": [
      "<Response [408]>\n"
     ]
    }
   ],
   "source": [
    "response = requests.post(url, data)\n",
    "print(response)"
   ]
  },
  {
   "cell_type": "code",
   "execution_count": null,
   "metadata": {},
   "outputs": [],
   "source": []
  },
  {
   "cell_type": "code",
   "execution_count": 90,
   "metadata": {},
   "outputs": [
    {
     "data": {
      "text/plain": [
       "datetime.date(2021, 3, 1)"
      ]
     },
     "execution_count": 90,
     "metadata": {},
     "output_type": "execute_result"
    }
   ],
   "source": [
    "startDate"
   ]
  },
  {
   "cell_type": "code",
   "execution_count": 1,
   "metadata": {},
   "outputs": [],
   "source": [
    "form_dict = {'HomeTeam':'Atlanta Hawks', 'AwayTeam':'Boston Celtics'}"
   ]
  },
  {
   "cell_type": "code",
   "execution_count": 9,
   "metadata": {},
   "outputs": [],
   "source": [
    "import pandas as pd\n",
    "import numpy as np\n",
    "\n",
    "def predicted_pointspread(form_dict):\n",
    "    try:\n",
    "        df = pd.DataFrame(form_dict, index=[0])\n",
    "        pointspread = np.random.randint(-40,40)\n",
    "        pointspread = 1 if pointspread == 0 else pointspread\n",
    "        if pointspread > 0:\n",
    "            winner = df['HomeTeam'][0]\n",
    "            loser = df['AwayTeam'][0]\n",
    "        else:\n",
    "            winner = df['AwayTeam'][0]\n",
    "            loser = df['HomeTeam'][0]\n",
    "        return f'I predict the {winner} will beat the {loser} by {abs(pointspread)} points'\n",
    "    except:\n",
    "        return 'Sorry, there was a problem processing the data entered... Please go back and double check your entries, thanks!'\n",
    "        "
   ]
  },
  {
   "cell_type": "code",
   "execution_count": 10,
   "metadata": {},
   "outputs": [
    {
     "data": {
      "text/plain": [
       "'I predict the Boston Celtics will beat the Atlanta Hawks by 39 points'"
      ]
     },
     "execution_count": 10,
     "metadata": {},
     "output_type": "execute_result"
    }
   ],
   "source": [
    "predicted_pointspread(form_dict)"
   ]
  },
  {
   "cell_type": "code",
   "execution_count": 5,
   "metadata": {},
   "outputs": [],
   "source": [
    "df = pd.DataFrame(form_dict, index=[0])"
   ]
  },
  {
   "cell_type": "code",
   "execution_count": 8,
   "metadata": {},
   "outputs": [
    {
     "data": {
      "text/plain": [
       "'Atlanta Hawks'"
      ]
     },
     "execution_count": 8,
     "metadata": {},
     "output_type": "execute_result"
    }
   ],
   "source": [
    "df['HomeTeam'][0]"
   ]
  },
  {
   "cell_type": "code",
   "execution_count": 100,
   "metadata": {},
   "outputs": [],
   "source": [
    "import requests\n",
    "from datetime import datetime, timedelta\n",
    "from bs4 import BeautifulSoup\n",
    "import pandas as pd\n",
    "from google.cloud import bigquery\n",
    "import pyarrow\n",
    "\n",
    "request = data"
   ]
  },
  {
   "cell_type": "code",
   "execution_count": 101,
   "metadata": {},
   "outputs": [],
   "source": [
    "def get_max_game_date():\n",
    "    client = bigquery.Client(project=projcet)\n",
    "    \n",
    "    QUERY = (\n",
    "    \"SELECT date_add(max(game_date), INTERVAL 1 day) as max_game_date FROM `nba.raw_basketballreference_game`\"\n",
    "    )\n",
    "    query_job = client.query(QUERY)  # API request\n",
    "    rows = query_job.result()  # Waits for query to finish\n",
    "    \n",
    "    for result in rows:\n",
    "        load_date = result.max_game_date\n",
    "    \n",
    "    return load_date\n",
    "\n",
    "def get_game_players(soup, player_game_data, id_string, game_key, stat_type, h_or_a, team_abbrev, game_date):\n",
    "    rows = soup.find('table', id=id_string).find('tbody').find_all('tr')\n",
    "    cnt = 1\n",
    "\n",
    "    #print(str(rows))\n",
    "    for player in rows:\n",
    "        game_players = {}\n",
    "        game_players['game_key'] = game_key\n",
    "        game_players['game_date'] = game_date\n",
    "        game_players['h_or_a'] = h_or_a\n",
    "        game_players['team_abbrev'] = team_abbrev\n",
    "        game_players['stat_period'] = stat_type\n",
    "        game_players['player'] = player.find('th',{\"data-stat\": \"player\"}).text\n",
    "        #print(game_players['player'])\n",
    "        \n",
    "        player_node = player.find('th',{\"data-stat\": \"player\"})\n",
    "        \n",
    "        # Ignore Header Line\n",
    "        if game_players['player'] != 'Reserves' and player_node.has_attr('data-append-csv'):\n",
    "        \n",
    "            a = player.find('th',{\"data-stat\": \"player\"}).find('a',href=True)\n",
    "            if a is not None:\n",
    "                game_players['player_link'] = a['href']\n",
    "            else:\n",
    "                game_players['player_link'] = None\n",
    "            \n",
    "            game_players['player_key'] = player_node['data-append-csv']\n",
    "            game_players['reason'] = get_text(player.find('td',{\"data-stat\": \"reason\"}))\n",
    "            game_players['mp'] = get_text(player.find('td',{\"data-stat\": \"mp\"}))\n",
    "            game_players['fg'] = get_text(player.find('td',{\"data-stat\": \"fg\"}))\n",
    "            game_players['fga'] = get_text(player.find('td',{\"data-stat\": \"fga\"}))\n",
    "            game_players['fg_pct'] = get_text(player.find('td',{\"data-stat\": \"fg_pct\"}))\n",
    "            game_players['fg3'] = get_text(player.find('td',{\"data-stat\": \"fg3\"}))\n",
    "            game_players['fg3a'] = get_text(player.find('td',{\"data-stat\": \"fg3a\"}))\n",
    "            game_players['fg3_pct'] = get_text(player.find('td',{\"data-stat\": \"fg3_pct\"}))\n",
    "            game_players['ft'] = get_text(player.find('td',{\"data-stat\": \"ft\"}))\n",
    "            game_players['fta'] = get_text(player.find('td',{\"data-stat\": \"fta\"}))\n",
    "            game_players['ft_pct'] = get_text(player.find('td',{\"data-stat\": \"ft_pct\"}))\n",
    "            game_players['orb'] = get_text(player.find('td',{\"data-stat\": \"orb\"}))\n",
    "            game_players['drb'] = get_text(player.find('td',{\"data-stat\": \"drb\"}))\n",
    "            game_players['trb'] = get_text(player.find('td',{\"data-stat\": \"trb\"}))\n",
    "            game_players['ast'] = get_text(player.find('td',{\"data-stat\": \"ast\"}))\n",
    "            game_players['stl'] = get_text(player.find('td',{\"data-stat\": \"stl\"}))\n",
    "            game_players['blk'] = get_text(player.find('td',{\"data-stat\": \"blk\"}))\n",
    "            game_players['tov'] = get_text(player.find('td',{\"data-stat\": \"tov\"}))\n",
    "            game_players['pf'] = get_text(player.find('td',{\"data-stat\": \"pf\"}))\n",
    "            game_players['pts'] = get_text(player.find('td',{\"data-stat\": \"pts\"}))\n",
    "            game_players['plus_minus'] = get_text(player.find('td',{\"data-stat\": \"plus_minus\"}))\n",
    "            game_players['player_stat_key'] = game_players['game_key'] + '|' + game_players['player_key'] + '|' + game_players['stat_period'] \n",
    "            if cnt <= 5:\n",
    "                game_players['starter_flag'] = True \n",
    "            else:\n",
    "                game_players['starter_flag'] = False\n",
    "            game_players['load_datetime'] = datetime.now().strftime(\"%Y-%m-%d %H:%M:%S\")  \n",
    "            #print(game_players)\n",
    "            player_game_data.append(game_players)\n",
    "            cnt += 1\n",
    "\n",
    "    return player_game_data\n",
    "   \n",
    "def get_text(stat):\n",
    "    if stat is not None:\n",
    "        if stat.text != \"\":\n",
    "            txt = stat.text\n",
    "        else:\n",
    "            txt = None\n",
    "    else:\n",
    "        txt = None\n",
    "    return txt"
   ]
  },
  {
   "cell_type": "code",
   "execution_count": 102,
   "metadata": {},
   "outputs": [],
   "source": [
    "    \n",
    "    ##########################################################################\n",
    "    # Input Data Check\n",
    "    ##########################################################################\n",
    "    \n",
    "    try:\n",
    "        request_json = request\n",
    "        if request_json and 'StartDate' in request_json:  \n",
    "            startDate = datetime.strptime(request_json['StartDate'], '%Y-%m-%d').date()            \n",
    "        else:\n",
    "            startDate = get_max_game_date()\n",
    "        if request_json and 'EndDate' in request_json:  \n",
    "            endDate = datetime.strptime(request_json['EndDate'], '%Y-%m-%d').date() \n",
    "        else:\n",
    "            endDate = (datetime.now() + timedelta(days=-1)).date()\n",
    "    except Exception as e:\n",
    "        raise ValueError(\"Start & End dates must be in YYYY-MM-DD format\") from e\n",
    "\n",
    "    # Distinct list of Months between start and end date\n",
    "    delta = endDate - startDate       # as timedelta\n",
    "\n",
    "    if delta.days < 0:\n",
    "        raise ValueError(\"Start Date can't be before End Date\") \n",
    "    \n",
    "    ##########################################################################\n",
    "    # Get Distinct Months for schedule to scrape\n",
    "    ##########################################################################\n",
    "    \n",
    "    yearmonths = []\n",
    "    for i in range(delta.days + 1):\n",
    "        r = {}\n",
    "        day = startDate + timedelta(days=i)\n",
    "        r['monthname'] = day.strftime('%B').lower()\n",
    "        if day.month > 9:\n",
    "            r['year'] = day.year + 1\n",
    "        else:\n",
    "            r['year'] = day.year\n",
    "        if r not in yearmonths: \n",
    "            yearmonths.append(r)\n",
    "    #print(yearmonths)"
   ]
  },
  {
   "cell_type": "code",
   "execution_count": 103,
   "metadata": {},
   "outputs": [
    {
     "data": {
      "text/plain": [
       "[{'monthname': 'march', 'year': 2015}]"
      ]
     },
     "execution_count": 103,
     "metadata": {},
     "output_type": "execute_result"
    }
   ],
   "source": [
    "yearmonths"
   ]
  },
  {
   "cell_type": "code",
   "execution_count": null,
   "metadata": {},
   "outputs": [],
   "source": []
  },
  {
   "cell_type": "code",
   "execution_count": 106,
   "metadata": {},
   "outputs": [
    {
     "name": "stdout",
     "output_type": "stream",
     "text": [
      "https://www.basketball-reference.com/leagues/NBA_2015_games-march.html\n"
     ]
    }
   ],
   "source": [
    "    \n",
    "##########################################################################\n",
    "# Scrape Schedule\n",
    "##########################################################################\n",
    "player_game_rows_loaded = 0\n",
    "game_rows_loaded = 0\n",
    "\n",
    "\n",
    "\n",
    "schedule = []\n",
    "v = yearmonths[0]\n",
    "year = str(v['year'])\n",
    "month = v['monthname']\n",
    "url = 'https://www.basketball-reference.com/leagues/NBA_' + year + '_games-' + month + '.html'\n",
    "print(url)"
   ]
  },
  {
   "cell_type": "code",
   "execution_count": 107,
   "metadata": {},
   "outputs": [
    {
     "name": "stdout",
     "output_type": "stream",
     "text": [
      "[{'game_date': '2015-03-01', 'game_start_time': '1:00p', 'visitor_team_name': 'Los Angeles Clippers', 'away_abbr': 'LAC', 'visitor_pts': '96', 'home_team_name': 'Chicago Bulls', 'home_abbr': 'CHI', 'home_pts': '86', 'box_score_url': '/boxscores/201503010CHI.html', 'attendance': '21,680', 'overtimes': '', 'game_key': 'LAC20150301CHI100p'}, {'game_date': '2015-03-01', 'game_start_time': '3:30p', 'visitor_team_name': 'Cleveland Cavaliers', 'away_abbr': 'CLE', 'visitor_pts': '103', 'home_team_name': 'Houston Rockets', 'home_abbr': 'HOU', 'home_pts': '105', 'box_score_url': '/boxscores/201503010HOU.html', 'attendance': '18,345', 'overtimes': 'OT', 'game_key': 'CLE20150301HOU330p'}, {'game_date': '2015-03-01', 'game_start_time': '6:00p', 'visitor_team_name': 'Golden State Warriors', 'away_abbr': 'GSW', 'visitor_pts': '106', 'home_team_name': 'Boston Celtics', 'home_abbr': 'BOS', 'home_pts': '101', 'box_score_url': '/boxscores/201503010BOS.html', 'attendance': '18,624', 'overtimes': '', 'game_key': 'GSW20150301BOS600p'}, {'game_date': '2015-03-01', 'game_start_time': '6:00p', 'visitor_team_name': 'Philadelphia 76ers', 'away_abbr': 'PHI', 'visitor_pts': '74', 'home_team_name': 'Indiana Pacers', 'home_abbr': 'IND', 'home_pts': '94', 'box_score_url': '/boxscores/201503010IND.html', 'attendance': '16,581', 'overtimes': '', 'game_key': 'PHI20150301IND600p'}, {'game_date': '2015-03-01', 'game_start_time': '6:00p', 'visitor_team_name': 'Charlotte Hornets', 'away_abbr': 'CHO', 'visitor_pts': '98', 'home_team_name': 'Orlando Magic', 'home_abbr': 'ORL', 'home_pts': '83', 'box_score_url': '/boxscores/201503010ORL.html', 'attendance': '15,422', 'overtimes': '', 'game_key': 'CHO20150301ORL600p'}, {'game_date': '2015-03-01', 'game_start_time': '6:00p', 'visitor_team_name': 'Portland Trail Blazers', 'away_abbr': 'POR', 'visitor_pts': '110', 'home_team_name': 'Sacramento Kings', 'home_abbr': 'SAC', 'home_pts': '99', 'box_score_url': '/boxscores/201503010SAC.html', 'attendance': '16,776', 'overtimes': '', 'game_key': 'POR20150301SAC600p'}, {'game_date': '2015-03-01', 'game_start_time': '6:30p', 'visitor_team_name': 'Oklahoma City Thunder', 'away_abbr': 'OKC', 'visitor_pts': '108', 'home_team_name': 'Los Angeles Lakers', 'home_abbr': 'LAL', 'home_pts': '101', 'box_score_url': '/boxscores/201503010LAL.html', 'attendance': '18,997', 'overtimes': '', 'game_key': 'OKC20150301LAL630p'}, {'game_date': '2015-03-01', 'game_start_time': '8:00p', 'visitor_team_name': 'New Orleans Pelicans', 'away_abbr': 'NOP', 'visitor_pts': '99', 'home_team_name': 'Denver Nuggets', 'home_abbr': 'DEN', 'home_pts': '92', 'box_score_url': '/boxscores/201503010DEN.html', 'attendance': '13,109', 'overtimes': '', 'game_key': 'NOP20150301DEN800p'}, {'game_date': '2015-03-02', 'game_start_time': '7:00p', 'visitor_team_name': 'Toronto Raptors', 'away_abbr': 'TOR', 'visitor_pts': '114', 'home_team_name': 'Philadelphia 76ers', 'home_abbr': 'PHI', 'home_pts': '103', 'box_score_url': '/boxscores/201503020PHI.html', 'attendance': '10,742', 'overtimes': '', 'game_key': 'TOR20150302PHI700p'}, {'game_date': '2015-03-02', 'game_start_time': '7:30p', 'visitor_team_name': 'Golden State Warriors', 'away_abbr': 'GSW', 'visitor_pts': '108', 'home_team_name': 'Brooklyn Nets', 'home_abbr': 'BRK', 'home_pts': '110', 'box_score_url': '/boxscores/201503020BRK.html', 'attendance': '17,732', 'overtimes': '', 'game_key': 'GSW20150302BRK730p'}, {'game_date': '2015-03-02', 'game_start_time': '7:30p', 'visitor_team_name': 'Phoenix Suns', 'away_abbr': 'PHO', 'visitor_pts': '98', 'home_team_name': 'Miami Heat', 'home_abbr': 'MIA', 'home_pts': '115', 'box_score_url': '/boxscores/201503020MIA.html', 'attendance': '19,600', 'overtimes': '', 'game_key': 'PHO20150302MIA730p'}, {'game_date': '2015-03-02', 'game_start_time': '8:00p', 'visitor_team_name': 'Los Angeles Clippers', 'away_abbr': 'LAC', 'visitor_pts': '110', 'home_team_name': 'Minnesota Timberwolves', 'home_abbr': 'MIN', 'home_pts': '105', 'box_score_url': '/boxscores/201503020MIN.html', 'attendance': '18,239', 'overtimes': '', 'game_key': 'LAC20150302MIN800p'}, {'game_date': '2015-03-02', 'game_start_time': '8:30p', 'visitor_team_name': 'New Orleans Pelicans', 'away_abbr': 'NOP', 'visitor_pts': '93', 'home_team_name': 'Dallas Mavericks', 'home_abbr': 'DAL', 'home_pts': '102', 'box_score_url': '/boxscores/201503020DAL.html', 'attendance': '20,367', 'overtimes': '', 'game_key': 'NOP20150302DAL830p'}, {'game_date': '2015-03-03', 'game_start_time': '7:00p', 'visitor_team_name': 'Los Angeles Lakers', 'away_abbr': 'LAL', 'visitor_pts': '103', 'home_team_name': 'Charlotte Hornets', 'home_abbr': 'CHO', 'home_pts': '104', 'box_score_url': '/boxscores/201503030CHO.html', 'attendance': '16,947', 'overtimes': '', 'game_key': 'LAL20150303CHO700p'}, {'game_date': '2015-03-03', 'game_start_time': '7:00p', 'visitor_team_name': 'Boston Celtics', 'away_abbr': 'BOS', 'visitor_pts': '79', 'home_team_name': 'Cleveland Cavaliers', 'home_abbr': 'CLE', 'home_pts': '110', 'box_score_url': '/boxscores/201503030CLE.html', 'attendance': '20,562', 'overtimes': '', 'game_key': 'BOS20150303CLE700p'}, {'game_date': '2015-03-03', 'game_start_time': '7:00p', 'visitor_team_name': 'Sacramento Kings', 'away_abbr': 'SAC', 'visitor_pts': '124', 'home_team_name': 'New York Knicks', 'home_abbr': 'NYK', 'home_pts': '86', 'box_score_url': '/boxscores/201503030NYK.html', 'attendance': '19,812', 'overtimes': '', 'game_key': 'SAC20150303NYK700p'}, {'game_date': '2015-03-03', 'game_start_time': '7:30p', 'visitor_team_name': 'Houston Rockets', 'away_abbr': 'HOU', 'visitor_pts': '96', 'home_team_name': 'Atlanta Hawks', 'home_abbr': 'ATL', 'home_pts': '104', 'box_score_url': '/boxscores/201503030ATL.html', 'attendance': '18,968', 'overtimes': '', 'game_key': 'HOU20150303ATL730p'}, {'game_date': '2015-03-03', 'game_start_time': '8:00p', 'visitor_team_name': 'Washington Wizards', 'away_abbr': 'WAS', 'visitor_pts': '92', 'home_team_name': 'Chicago Bulls', 'home_abbr': 'CHI', 'home_pts': '97', 'box_score_url': '/boxscores/201503030CHI.html', 'attendance': '21,468', 'overtimes': '', 'game_key': 'WAS20150303CHI800p'}, {'game_date': '2015-03-03', 'game_start_time': '8:00p', 'visitor_team_name': 'Utah Jazz', 'away_abbr': 'UTA', 'visitor_pts': '93', 'home_team_name': 'Memphis Grizzlies', 'home_abbr': 'MEM', 'home_pts': '82', 'box_score_url': '/boxscores/201503030MEM.html', 'attendance': '16,779', 'overtimes': '', 'game_key': 'UTA20150303MEM800p'}, {'game_date': '2015-03-03', 'game_start_time': '9:00p', 'visitor_team_name': 'Milwaukee Bucks', 'away_abbr': 'MIL', 'visitor_pts': '95', 'home_team_name': 'Denver Nuggets', 'home_abbr': 'DEN', 'home_pts': '106', 'box_score_url': '/boxscores/201503030DEN.html', 'attendance': '12,234', 'overtimes': '', 'game_key': 'MIL20150303DEN900p'}, {'game_date': '2015-03-04', 'game_start_time': '7:00p', 'visitor_team_name': 'New York Knicks', 'away_abbr': 'NYK', 'visitor_pts': '82', 'home_team_name': 'Indiana Pacers', 'home_abbr': 'IND', 'home_pts': '105', 'box_score_url': '/boxscores/201503040IND.html', 'attendance': '15,981', 'overtimes': '', 'game_key': 'NYK20150304IND700p'}, {'game_date': '2015-03-04', 'game_start_time': '7:00p', 'visitor_team_name': 'Phoenix Suns', 'away_abbr': 'PHO', 'visitor_pts': '105', 'home_team_name': 'Orlando Magic', 'home_abbr': 'ORL', 'home_pts': '100', 'box_score_url': '/boxscores/201503040ORL.html', 'attendance': '15,822', 'overtimes': '', 'game_key': 'PHO20150304ORL700p'}, {'game_date': '2015-03-04', 'game_start_time': '7:30p', 'visitor_team_name': 'Utah Jazz', 'away_abbr': 'UTA', 'visitor_pts': '84', 'home_team_name': 'Boston Celtics', 'home_abbr': 'BOS', 'home_pts': '85', 'box_score_url': '/boxscores/201503040BOS.html', 'attendance': '16,354', 'overtimes': '', 'game_key': 'UTA20150304BOS730p'}, {'game_date': '2015-03-04', 'game_start_time': '7:30p', 'visitor_team_name': 'Charlotte Hornets', 'away_abbr': 'CHO', 'visitor_pts': '115', 'home_team_name': 'Brooklyn Nets', 'home_abbr': 'BRK', 'home_pts': '91', 'box_score_url': '/boxscores/201503040BRK.html', 'attendance': '16,691', 'overtimes': '', 'game_key': 'CHO20150304BRK730p'}, {'game_date': '2015-03-04', 'game_start_time': '7:30p', 'visitor_team_name': 'Cleveland Cavaliers', 'away_abbr': 'CLE', 'visitor_pts': '120', 'home_team_name': 'Toronto Raptors', 'home_abbr': 'TOR', 'home_pts': '112', 'box_score_url': '/boxscores/201503040TOR.html', 'attendance': '19,800', 'overtimes': '', 'game_key': 'CLE20150304TOR730p'}, {'game_date': '2015-03-04', 'game_start_time': '8:00p', 'visitor_team_name': 'Memphis Grizzlies', 'away_abbr': 'MEM', 'visitor_pts': '102', 'home_team_name': 'Houston Rockets', 'home_abbr': 'HOU', 'home_pts': '100', 'box_score_url': '/boxscores/201503040HOU.html', 'attendance': '18,224', 'overtimes': '', 'game_key': 'MEM20150304HOU800p'}, {'game_date': '2015-03-04', 'game_start_time': '8:00p', 'visitor_team_name': 'Los Angeles Lakers', 'away_abbr': 'LAL', 'visitor_pts': '94', 'home_team_name': 'Miami Heat', 'home_abbr': 'MIA', 'home_pts': '100', 'box_score_url': '/boxscores/201503040MIA.html', 'attendance': '19,600', 'overtimes': '', 'game_key': 'LAL20150304MIA800p'}, {'game_date': '2015-03-04', 'game_start_time': '8:00p', 'visitor_team_name': 'Denver Nuggets', 'away_abbr': 'DEN', 'visitor_pts': '100', 'home_team_name': 'Minnesota Timberwolves', 'home_abbr': 'MIN', 'home_pts': '85', 'box_score_url': '/boxscores/201503040MIN.html', 'attendance': '13,848', 'overtimes': '', 'game_key': 'DEN20150304MIN800p'}, {'game_date': '2015-03-04', 'game_start_time': '8:00p', 'visitor_team_name': 'Detroit Pistons', 'away_abbr': 'DET', 'visitor_pts': '85', 'home_team_name': 'New Orleans Pelicans', 'home_abbr': 'NOP', 'home_pts': '88', 'box_score_url': '/boxscores/201503040NOP.html', 'attendance': '16,925', 'overtimes': '', 'game_key': 'DET20150304NOP800p'}, {'game_date': '2015-03-04', 'game_start_time': '8:00p', 'visitor_team_name': 'Philadelphia 76ers', 'away_abbr': 'PHI', 'visitor_pts': '118', 'home_team_name': 'Oklahoma City Thunder', 'home_abbr': 'OKC', 'home_pts': '123', 'box_score_url': '/boxscores/201503040OKC.html', 'attendance': '18,203', 'overtimes': 'OT', 'game_key': 'PHI20150304OKC800p'}, {'game_date': '2015-03-04', 'game_start_time': '8:30p', 'visitor_team_name': 'Sacramento Kings', 'away_abbr': 'SAC', 'visitor_pts': '85', 'home_team_name': 'San Antonio Spurs', 'home_abbr': 'SAS', 'home_pts': '112', 'box_score_url': '/boxscores/201503040SAS.html', 'attendance': '18,581', 'overtimes': '', 'game_key': 'SAC20150304SAS830p'}, {'game_date': '2015-03-04', 'game_start_time': '10:30p', 'visitor_team_name': 'Milwaukee Bucks', 'away_abbr': 'MIL', 'visitor_pts': '93', 'home_team_name': 'Golden State Warriors', 'home_abbr': 'GSW', 'home_pts': '102', 'box_score_url': '/boxscores/201503040GSW.html', 'attendance': '19,596', 'overtimes': '', 'game_key': 'MIL20150304GSW1030p'}, {'game_date': '2015-03-04', 'game_start_time': '10:30p', 'visitor_team_name': 'Portland Trail Blazers', 'away_abbr': 'POR', 'visitor_pts': '98', 'home_team_name': 'Los Angeles Clippers', 'home_abbr': 'LAC', 'home_pts': '93', 'box_score_url': '/boxscores/201503040LAC.html', 'attendance': '19,060', 'overtimes': 'OT', 'game_key': 'POR20150304LAC1030p'}, {'game_date': '2015-03-05', 'game_start_time': '8:00p', 'visitor_team_name': 'Oklahoma City Thunder', 'away_abbr': 'OKC', 'visitor_pts': '105', 'home_team_name': 'Chicago Bulls', 'home_abbr': 'CHI', 'home_pts': '108', 'box_score_url': '/boxscores/201503050CHI.html', 'attendance': '21,696', 'overtimes': '', 'game_key': 'OKC20150305CHI800p'}, {'game_date': '2015-03-05', 'game_start_time': '10:30p', 'visitor_team_name': 'Dallas Mavericks', 'away_abbr': 'DAL', 'visitor_pts': '75', 'home_team_name': 'Portland Trail Blazers', 'home_abbr': 'POR', 'home_pts': '94', 'box_score_url': '/boxscores/201503050POR.html', 'attendance': '19,499', 'overtimes': '', 'game_key': 'DAL20150305POR1030p'}, {'game_date': '2015-03-06', 'game_start_time': '7:00p', 'visitor_team_name': 'Toronto Raptors', 'away_abbr': 'TOR', 'visitor_pts': '94', 'home_team_name': 'Charlotte Hornets', 'home_abbr': 'CHO', 'home_pts': '103', 'box_score_url': '/boxscores/201503060CHO.html', 'attendance': '19,080', 'overtimes': '', 'game_key': 'TOR20150306CHO700p'}, {'game_date': '2015-03-06', 'game_start_time': '7:00p', 'visitor_team_name': 'Chicago Bulls', 'away_abbr': 'CHI', 'visitor_pts': '84', 'home_team_name': 'Indiana Pacers', 'home_abbr': 'IND', 'home_pts': '98', 'box_score_url': '/boxscores/201503060IND.html', 'attendance': '18,165', 'overtimes': '', 'game_key': 'CHI20150306IND700p'}, {'game_date': '2015-03-06', 'game_start_time': '7:00p', 'visitor_team_name': 'Sacramento Kings', 'away_abbr': 'SAC', 'visitor_pts': '114', 'home_team_name': 'Orlando Magic', 'home_abbr': 'ORL', 'home_pts': '119', 'box_score_url': '/boxscores/201503060ORL.html', 'attendance': '15,112', 'overtimes': '', 'game_key': 'SAC20150306ORL700p'}, {'game_date': '2015-03-06', 'game_start_time': '7:00p', 'visitor_team_name': 'Utah Jazz', 'away_abbr': 'UTA', 'visitor_pts': '89', 'home_team_name': 'Philadelphia 76ers', 'home_abbr': 'PHI', 'home_pts': '83', 'box_score_url': '/boxscores/201503060PHI.html', 'attendance': '15,811', 'overtimes': '', 'game_key': 'UTA20150306PHI700p'}, {'game_date': '2015-03-06', 'game_start_time': '7:00p', 'visitor_team_name': 'Miami Heat', 'away_abbr': 'MIA', 'visitor_pts': '97', 'home_team_name': 'Washington Wizards', 'home_abbr': 'WAS', 'home_pts': '99', 'box_score_url': '/boxscores/201503060WAS.html', 'attendance': '20,356', 'overtimes': '', 'game_key': 'MIA20150306WAS700p'}, {'game_date': '2015-03-06', 'game_start_time': '7:30p', 'visitor_team_name': 'Cleveland Cavaliers', 'away_abbr': 'CLE', 'visitor_pts': '97', 'home_team_name': 'Atlanta Hawks', 'home_abbr': 'ATL', 'home_pts': '106', 'box_score_url': '/boxscores/201503060ATL.html', 'attendance': '19,244', 'overtimes': '', 'game_key': 'CLE20150306ATL730p'}, {'game_date': '2015-03-06', 'game_start_time': '8:00p', 'visitor_team_name': 'Phoenix Suns', 'away_abbr': 'PHO', 'visitor_pts': '108', 'home_team_name': 'Brooklyn Nets', 'home_abbr': 'BRK', 'home_pts': '100', 'box_score_url': '/boxscores/201503060BRK.html', 'attendance': '16,445', 'overtimes': 'OT', 'game_key': 'PHO20150306BRK800p'}, {'game_date': '2015-03-06', 'game_start_time': '8:00p', 'visitor_team_name': 'Detroit Pistons', 'away_abbr': 'DET', 'visitor_pts': '93', 'home_team_name': 'Houston Rockets', 'home_abbr': 'HOU', 'home_pts': '103', 'box_score_url': '/boxscores/201503060HOU.html', 'attendance': '18,193', 'overtimes': '', 'game_key': 'DET20150306HOU800p'}, {'game_date': '2015-03-06', 'game_start_time': '8:00p', 'visitor_team_name': 'Los Angeles Lakers', 'away_abbr': 'LAL', 'visitor_pts': '90', 'home_team_name': 'Memphis Grizzlies', 'home_abbr': 'MEM', 'home_pts': '97', 'box_score_url': '/boxscores/201503060MEM.html', 'attendance': '17,399', 'overtimes': '', 'game_key': 'LAL20150306MEM800p'}, {'game_date': '2015-03-06', 'game_start_time': '8:00p', 'visitor_team_name': 'Boston Celtics', 'away_abbr': 'BOS', 'visitor_pts': '104', 'home_team_name': 'New Orleans Pelicans', 'home_abbr': 'NOP', 'home_pts': '98', 'box_score_url': '/boxscores/201503060NOP.html', 'attendance': '17,274', 'overtimes': '', 'game_key': 'BOS20150306NOP800p'}, {'game_date': '2015-03-06', 'game_start_time': '8:30p', 'visitor_team_name': 'Denver Nuggets', 'away_abbr': 'DEN', 'visitor_pts': '111', 'home_team_name': 'San Antonio Spurs', 'home_abbr': 'SAS', 'home_pts': '120', 'box_score_url': '/boxscores/201503060SAS.html', 'attendance': '18,581', 'overtimes': '', 'game_key': 'DEN20150306SAS830p'}, {'game_date': '2015-03-06', 'game_start_time': '10:30p', 'visitor_team_name': 'Dallas Mavericks', 'away_abbr': 'DAL', 'visitor_pts': '89', 'home_team_name': 'Golden State Warriors', 'home_abbr': 'GSW', 'home_pts': '104', 'box_score_url': '/boxscores/201503060GSW.html', 'attendance': '19,596', 'overtimes': '', 'game_key': 'DAL20150306GSW1030p'}, {'game_date': '2015-03-07', 'game_start_time': '7:00p', 'visitor_team_name': 'Memphis Grizzlies', 'away_abbr': 'MEM', 'visitor_pts': '89', 'home_team_name': 'New Orleans Pelicans', 'home_abbr': 'NOP', 'home_pts': '95', 'box_score_url': '/boxscores/201503070NOP.html', 'attendance': '17,346', 'overtimes': '', 'game_key': 'MEM20150307NOP700p'}, {'game_date': '2015-03-07', 'game_start_time': '7:30p', 'visitor_team_name': 'Phoenix Suns', 'away_abbr': 'PHO', 'visitor_pts': '79', 'home_team_name': 'Cleveland Cavaliers', 'home_abbr': 'CLE', 'home_pts': '89', 'box_score_url': '/boxscores/201503070CLE.html', 'attendance': '20,562', 'overtimes': '', 'game_key': 'PHO20150307CLE730p'}, {'game_date': '2015-03-07', 'game_start_time': '7:30p', 'visitor_team_name': 'Sacramento Kings', 'away_abbr': 'SAC', 'visitor_pts': '109', 'home_team_name': 'Miami Heat', 'home_abbr': 'MIA', 'home_pts': '114', 'box_score_url': '/boxscores/201503070MIA.html', 'attendance': '19,600', 'overtimes': 'OT', 'game_key': 'SAC20150307MIA730p'}, {'game_date': '2015-03-07', 'game_start_time': '7:30p', 'visitor_team_name': 'Indiana Pacers', 'away_abbr': 'IND', 'visitor_pts': '92', 'home_team_name': 'New York Knicks', 'home_abbr': 'NYK', 'home_pts': '86', 'box_score_url': '/boxscores/201503070NYK.html', 'attendance': '19,812', 'overtimes': '', 'game_key': 'IND20150307NYK730p'}, {'game_date': '2015-03-07', 'game_start_time': '7:30p', 'visitor_team_name': 'Atlanta Hawks', 'away_abbr': 'ATL', 'visitor_pts': '84', 'home_team_name': 'Philadelphia 76ers', 'home_abbr': 'PHI', 'home_pts': '92', 'box_score_url': '/boxscores/201503070PHI.html', 'attendance': '17,624', 'overtimes': '', 'game_key': 'ATL20150307PHI730p'}, {'game_date': '2015-03-07', 'game_start_time': '8:00p', 'visitor_team_name': 'Portland Trail Blazers', 'away_abbr': 'POR', 'visitor_pts': '113', 'home_team_name': 'Minnesota Timberwolves', 'home_abbr': 'MIN', 'home_pts': '121', 'box_score_url': '/boxscores/201503070MIN.html', 'attendance': '19,356', 'overtimes': '', 'game_key': 'POR20150307MIN800p'}, {'game_date': '2015-03-07', 'game_start_time': '8:30p', 'visitor_team_name': 'Washington Wizards', 'away_abbr': 'WAS', 'visitor_pts': '85', 'home_team_name': 'Milwaukee Bucks', 'home_abbr': 'MIL', 'home_pts': '91', 'box_score_url': '/boxscores/201503070MIL.html', 'attendance': '16,216', 'overtimes': '', 'game_key': 'WAS20150307MIL830p'}, {'game_date': '2015-03-07', 'game_start_time': '9:00p', 'visitor_team_name': 'Houston Rockets', 'away_abbr': 'HOU', 'visitor_pts': '114', 'home_team_name': 'Denver Nuggets', 'home_abbr': 'DEN', 'home_pts': '100', 'box_score_url': '/boxscores/201503070DEN.html', 'attendance': '15,231', 'overtimes': '', 'game_key': 'HOU20150307DEN900p'}, {'game_date': '2015-03-08', 'game_start_time': '1:00p', 'visitor_team_name': 'Chicago Bulls', 'away_abbr': 'CHI', 'visitor_pts': '105', 'home_team_name': 'San Antonio Spurs', 'home_abbr': 'SAS', 'home_pts': '116', 'box_score_url': '/boxscores/201503080SAS.html', 'attendance': '18,581', 'overtimes': '', 'game_key': 'CHI20150308SAS100p'}, {'game_date': '2015-03-08', 'game_start_time': '3:30p', 'visitor_team_name': 'Los Angeles Clippers', 'away_abbr': 'LAC', 'visitor_pts': '98', 'home_team_name': 'Golden State Warriors', 'home_abbr': 'GSW', 'home_pts': '106', 'box_score_url': '/boxscores/201503080GSW.html', 'attendance': '19,596', 'overtimes': '', 'game_key': 'LAC20150308GSW330p'}, {'game_date': '2015-03-08', 'game_start_time': '6:00p', 'visitor_team_name': 'Utah Jazz', 'away_abbr': 'UTA', 'visitor_pts': '95', 'home_team_name': 'Brooklyn Nets', 'home_abbr': 'BRK', 'home_pts': '88', 'box_score_url': '/boxscores/201503080BRK.html', 'attendance': '17,041', 'overtimes': '', 'game_key': 'UTA20150308BRK600p'}, {'game_date': '2015-03-08', 'game_start_time': '6:00p', 'visitor_team_name': 'Charlotte Hornets', 'away_abbr': 'CHO', 'visitor_pts': '108', 'home_team_name': 'Detroit Pistons', 'home_abbr': 'DET', 'home_pts': '101', 'box_score_url': '/boxscores/201503080DET.html', 'attendance': '15,673', 'overtimes': '', 'game_key': 'CHO20150308DET600p'}, {'game_date': '2015-03-08', 'game_start_time': '6:00p', 'visitor_team_name': 'Boston Celtics', 'away_abbr': 'BOS', 'visitor_pts': '98', 'home_team_name': 'Orlando Magic', 'home_abbr': 'ORL', 'home_pts': '103', 'box_score_url': '/boxscores/201503080ORL.html', 'attendance': '17,041', 'overtimes': '', 'game_key': 'BOS20150308ORL600p'}, {'game_date': '2015-03-08', 'game_start_time': '7:00p', 'visitor_team_name': 'Toronto Raptors', 'away_abbr': 'TOR', 'visitor_pts': '104', 'home_team_name': 'Oklahoma City Thunder', 'home_abbr': 'OKC', 'home_pts': '108', 'box_score_url': '/boxscores/201503080OKC.html', 'attendance': '18,203', 'overtimes': '', 'game_key': 'TOR20150308OKC700p'}, {'game_date': '2015-03-08', 'game_start_time': '9:30p', 'visitor_team_name': 'Dallas Mavericks', 'away_abbr': 'DAL', 'visitor_pts': '100', 'home_team_name': 'Los Angeles Lakers', 'home_abbr': 'LAL', 'home_pts': '93', 'box_score_url': '/boxscores/201503080LAL.html', 'attendance': '18,997', 'overtimes': '', 'game_key': 'DAL20150308LAL930p'}, {'game_date': '2015-03-09', 'game_start_time': '7:00p', 'visitor_team_name': 'Washington Wizards', 'away_abbr': 'WAS', 'visitor_pts': '95', 'home_team_name': 'Charlotte Hornets', 'home_abbr': 'CHO', 'home_pts': '69', 'box_score_url': '/boxscores/201503090CHO.html', 'attendance': '15,119', 'overtimes': '', 'game_key': 'WAS20150309CHO700p'}, {'game_date': '2015-03-09', 'game_start_time': '7:30p', 'visitor_team_name': 'Sacramento Kings', 'away_abbr': 'SAC', 'visitor_pts': '105', 'home_team_name': 'Atlanta Hawks', 'home_abbr': 'ATL', 'home_pts': '130', 'box_score_url': '/boxscores/201503090ATL.html', 'attendance': '18,418', 'overtimes': '', 'game_key': 'SAC20150309ATL730p'}, {'game_date': '2015-03-09', 'game_start_time': '7:30p', 'visitor_team_name': 'Boston Celtics', 'away_abbr': 'BOS', 'visitor_pts': '100', 'home_team_name': 'Miami Heat', 'home_abbr': 'MIA', 'home_pts': '90', 'box_score_url': '/boxscores/201503090MIA.html', 'attendance': '19,600', 'overtimes': '', 'game_key': 'BOS20150309MIA730p'}, {'game_date': '2015-03-09', 'game_start_time': '8:00p', 'visitor_team_name': 'Memphis Grizzlies', 'away_abbr': 'MEM', 'visitor_pts': '101', 'home_team_name': 'Chicago Bulls', 'home_abbr': 'CHI', 'home_pts': '91', 'box_score_url': '/boxscores/201503090CHI.html', 'attendance': '21,815', 'overtimes': '', 'game_key': 'MEM20150309CHI800p'}, {'game_date': '2015-03-09', 'game_start_time': '8:00p', 'visitor_team_name': 'New Orleans Pelicans', 'away_abbr': 'NOP', 'visitor_pts': '114', 'home_team_name': 'Milwaukee Bucks', 'home_abbr': 'MIL', 'home_pts': '103', 'box_score_url': '/boxscores/201503090MIL.html', 'attendance': '12,218', 'overtimes': '', 'game_key': 'NOP20150309MIL800p'}, {'game_date': '2015-03-09', 'game_start_time': '9:00p', 'visitor_team_name': 'New York Knicks', 'away_abbr': 'NYK', 'visitor_pts': '78', 'home_team_name': 'Denver Nuggets', 'home_abbr': 'DEN', 'home_pts': '106', 'box_score_url': '/boxscores/201503090DEN.html', 'attendance': '14,153', 'overtimes': '', 'game_key': 'NYK20150309DEN900p'}, {'game_date': '2015-03-09', 'game_start_time': '10:00p', 'visitor_team_name': 'Golden State Warriors', 'away_abbr': 'GSW', 'visitor_pts': '98', 'home_team_name': 'Phoenix Suns', 'home_abbr': 'PHO', 'home_pts': '80', 'box_score_url': '/boxscores/201503090PHO.html', 'attendance': '18,055', 'overtimes': '', 'game_key': 'GSW20150309PHO1000p'}, {'game_date': '2015-03-09', 'game_start_time': '10:30p', 'visitor_team_name': 'Minnesota Timberwolves', 'away_abbr': 'MIN', 'visitor_pts': '76', 'home_team_name': 'Los Angeles Clippers', 'home_abbr': 'LAC', 'home_pts': '89', 'box_score_url': '/boxscores/201503090LAC.html', 'attendance': '19,060', 'overtimes': '', 'game_key': 'MIN20150309LAC1030p'}, {'game_date': '2015-03-10', 'game_start_time': '7:00p', 'visitor_team_name': 'Orlando Magic', 'away_abbr': 'ORL', 'visitor_pts': '86', 'home_team_name': 'Indiana Pacers', 'home_abbr': 'IND', 'home_pts': '118', 'box_score_url': '/boxscores/201503100IND.html', 'attendance': '17,295', 'overtimes': '', 'game_key': 'ORL20150310IND700p'}, {'game_date': '2015-03-10', 'game_start_time': '7:30p', 'visitor_team_name': 'New Orleans Pelicans', 'away_abbr': 'NOP', 'visitor_pts': '111', 'home_team_name': 'Brooklyn Nets', 'home_abbr': 'BRK', 'home_pts': '91', 'box_score_url': '/boxscores/201503100BRK.html', 'attendance': '16,422', 'overtimes': '', 'game_key': 'NOP20150310BRK730p'}, {'game_date': '2015-03-10', 'game_start_time': '8:30p', 'visitor_team_name': 'Cleveland Cavaliers', 'away_abbr': 'CLE', 'visitor_pts': '127', 'home_team_name': 'Dallas Mavericks', 'home_abbr': 'DAL', 'home_pts': '94', 'box_score_url': '/boxscores/201503100DAL.html', 'attendance': '20,501', 'overtimes': '', 'game_key': 'CLE20150310DAL830p'}, {'game_date': '2015-03-10', 'game_start_time': '8:30p', 'visitor_team_name': 'Toronto Raptors', 'away_abbr': 'TOR', 'visitor_pts': '107', 'home_team_name': 'San Antonio Spurs', 'home_abbr': 'SAS', 'home_pts': '117', 'box_score_url': '/boxscores/201503100SAS.html', 'attendance': '18,581', 'overtimes': '', 'game_key': 'TOR20150310SAS830p'}, {'game_date': '2015-03-10', 'game_start_time': '9:00p', 'visitor_team_name': 'New York Knicks', 'away_abbr': 'NYK', 'visitor_pts': '82', 'home_team_name': 'Utah Jazz', 'home_abbr': 'UTA', 'home_pts': '87', 'box_score_url': '/boxscores/201503100UTA.html', 'attendance': '17,121', 'overtimes': '', 'game_key': 'NYK20150310UTA900p'}, {'game_date': '2015-03-10', 'game_start_time': '10:30p', 'visitor_team_name': 'Detroit Pistons', 'away_abbr': 'DET', 'visitor_pts': '85', 'home_team_name': 'Los Angeles Lakers', 'home_abbr': 'LAL', 'home_pts': '93', 'box_score_url': '/boxscores/201503100LAL.html', 'attendance': '17,771', 'overtimes': '', 'game_key': 'DET20150310LAL1030p'}, {'game_date': '2015-03-11', 'game_start_time': '7:00p', 'visitor_team_name': 'Sacramento Kings', 'away_abbr': 'SAC', 'visitor_pts': '113', 'home_team_name': 'Charlotte Hornets', 'home_abbr': 'CHO', 'home_pts': '106', 'box_score_url': '/boxscores/201503110CHO.html', 'attendance': '15,885', 'overtimes': '', 'game_key': 'SAC20150311CHO700p'}, {'game_date': '2015-03-11', 'game_start_time': '7:00p', 'visitor_team_name': 'Chicago Bulls', 'away_abbr': 'CHI', 'visitor_pts': '104', 'home_team_name': 'Philadelphia 76ers', 'home_abbr': 'PHI', 'home_pts': '95', 'box_score_url': '/boxscores/201503110PHI.html', 'attendance': '12,400', 'overtimes': 'OT', 'game_key': 'CHI20150311PHI700p'}, {'game_date': '2015-03-11', 'game_start_time': '7:30p', 'visitor_team_name': 'Memphis Grizzlies', 'away_abbr': 'MEM', 'visitor_pts': '92', 'home_team_name': 'Boston Celtics', 'home_abbr': 'BOS', 'home_pts': '95', 'box_score_url': '/boxscores/201503110BOS.html', 'attendance': '17,135', 'overtimes': '', 'game_key': 'MEM20150311BOS730p'}, {'game_date': '2015-03-11', 'game_start_time': '7:30p', 'visitor_team_name': 'Brooklyn Nets', 'away_abbr': 'BRK', 'visitor_pts': '98', 'home_team_name': 'Miami Heat', 'home_abbr': 'MIA', 'home_pts': '104', 'box_score_url': '/boxscores/201503110MIA.html', 'attendance': '19,600', 'overtimes': '', 'game_key': 'BRK20150311MIA730p'}, {'game_date': '2015-03-11', 'game_start_time': '8:00p', 'visitor_team_name': 'Orlando Magic', 'away_abbr': 'ORL', 'visitor_pts': '91', 'home_team_name': 'Milwaukee Bucks', 'home_abbr': 'MIL', 'home_pts': '97', 'box_score_url': '/boxscores/201503110MIL.html', 'attendance': '12,593', 'overtimes': '', 'game_key': 'ORL20150311MIL800p'}, {'game_date': '2015-03-11', 'game_start_time': '8:00p', 'visitor_team_name': 'Los Angeles Clippers', 'away_abbr': 'LAC', 'visitor_pts': '120', 'home_team_name': 'Oklahoma City Thunder', 'home_abbr': 'OKC', 'home_pts': '108', 'box_score_url': '/boxscores/201503110OKC.html', 'attendance': '18,203', 'overtimes': '', 'game_key': 'LAC20150311OKC800p'}, {'game_date': '2015-03-11', 'game_start_time': '9:00p', 'visitor_team_name': 'Atlanta Hawks', 'away_abbr': 'ATL', 'visitor_pts': '102', 'home_team_name': 'Denver Nuggets', 'home_abbr': 'DEN', 'home_pts': '115', 'box_score_url': '/boxscores/201503110DEN.html', 'attendance': '13,217', 'overtimes': '', 'game_key': 'ATL20150311DEN900p'}, {'game_date': '2015-03-11', 'game_start_time': '10:00p', 'visitor_team_name': 'Minnesota Timberwolves', 'away_abbr': 'MIN', 'visitor_pts': '97', 'home_team_name': 'Phoenix Suns', 'home_abbr': 'PHO', 'home_pts': '106', 'box_score_url': '/boxscores/201503110PHO.html', 'attendance': '17,367', 'overtimes': '', 'game_key': 'MIN20150311PHO1000p'}, {'game_date': '2015-03-11', 'game_start_time': '10:30p', 'visitor_team_name': 'Detroit Pistons', 'away_abbr': 'DET', 'visitor_pts': '98', 'home_team_name': 'Golden State Warriors', 'home_abbr': 'GSW', 'home_pts': '105', 'box_score_url': '/boxscores/201503110GSW.html', 'attendance': '19,596', 'overtimes': '', 'game_key': 'DET20150311GSW1030p'}, {'game_date': '2015-03-11', 'game_start_time': '10:30p', 'visitor_team_name': 'Houston Rockets', 'away_abbr': 'HOU', 'visitor_pts': '100', 'home_team_name': 'Portland Trail Blazers', 'home_abbr': 'POR', 'home_pts': '105', 'box_score_url': '/boxscores/201503110POR.html', 'attendance': '19,279', 'overtimes': '', 'game_key': 'HOU20150311POR1030p'}, {'game_date': '2015-03-12', 'game_start_time': '7:00p', 'visitor_team_name': 'Milwaukee Bucks', 'away_abbr': 'MIL', 'visitor_pts': '103', 'home_team_name': 'Indiana Pacers', 'home_abbr': 'IND', 'home_pts': '109', 'box_score_url': '/boxscores/201503120IND.html', 'attendance': '15,729', 'overtimes': 'OT', 'game_key': 'MIL20150312IND700p'}, {'game_date': '2015-03-12', 'game_start_time': '7:00p', 'visitor_team_name': 'Memphis Grizzlies', 'away_abbr': 'MEM', 'visitor_pts': '87', 'home_team_name': 'Washington Wizards', 'home_abbr': 'WAS', 'home_pts': '107', 'box_score_url': '/boxscores/201503120WAS.html', 'attendance': '18,186', 'overtimes': '', 'game_key': 'MEM20150312WAS700p'}, {'game_date': '2015-03-12', 'game_start_time': '9:00p', 'visitor_team_name': 'Houston Rockets', 'away_abbr': 'HOU', 'visitor_pts': '91', 'home_team_name': 'Utah Jazz', 'home_abbr': 'UTA', 'home_pts': '109', 'box_score_url': '/boxscores/201503120UTA.html', 'attendance': '18,781', 'overtimes': '', 'game_key': 'HOU20150312UTA900p'}, {'game_date': '2015-03-12', 'game_start_time': '9:30p', 'visitor_team_name': 'Cleveland Cavaliers', 'away_abbr': 'CLE', 'visitor_pts': '128', 'home_team_name': 'San Antonio Spurs', 'home_abbr': 'SAS', 'home_pts': '125', 'box_score_url': '/boxscores/201503120SAS.html', 'attendance': '18,581', 'overtimes': 'OT', 'game_key': 'CLE20150312SAS930p'}, {'game_date': '2015-03-12', 'game_start_time': '10:30p', 'visitor_team_name': 'New York Knicks', 'away_abbr': 'NYK', 'visitor_pts': '101', 'home_team_name': 'Los Angeles Lakers', 'home_abbr': 'LAL', 'home_pts': '94', 'box_score_url': '/boxscores/201503120LAL.html', 'attendance': '18,997', 'overtimes': '', 'game_key': 'NYK20150312LAL1030p'}, {'game_date': '2015-03-13', 'game_start_time': '7:00p', 'visitor_team_name': 'Chicago Bulls', 'away_abbr': 'CHI', 'visitor_pts': '91', 'home_team_name': 'Charlotte Hornets', 'home_abbr': 'CHO', 'home_pts': '101', 'box_score_url': '/boxscores/201503130CHO.html', 'attendance': '19,183', 'overtimes': '', 'game_key': 'CHI20150313CHO700p'}, {'game_date': '2015-03-13', 'game_start_time': '7:00p', 'visitor_team_name': 'Sacramento Kings', 'away_abbr': 'SAC', 'visitor_pts': '107', 'home_team_name': 'Philadelphia 76ers', 'home_abbr': 'PHI', 'home_pts': '114', 'box_score_url': '/boxscores/201503130PHI.html', 'attendance': '12,331', 'overtimes': '', 'game_key': 'SAC20150313PHI700p'}, {'game_date': '2015-03-13', 'game_start_time': '7:30p', 'visitor_team_name': 'Orlando Magic', 'away_abbr': 'ORL', 'visitor_pts': '88', 'home_team_name': 'Boston Celtics', 'home_abbr': 'BOS', 'home_pts': '95', 'box_score_url': '/boxscores/201503130BOS.html', 'attendance': '18,624', 'overtimes': '', 'game_key': 'ORL20150313BOS730p'}, {'game_date': '2015-03-13', 'game_start_time': '7:30p', 'visitor_team_name': 'Miami Heat', 'away_abbr': 'MIA', 'visitor_pts': '92', 'home_team_name': 'Toronto Raptors', 'home_abbr': 'TOR', 'home_pts': '102', 'box_score_url': '/boxscores/201503130TOR.html', 'attendance': '19,800', 'overtimes': '', 'game_key': 'MIA20150313TOR730p'}, {'game_date': '2015-03-13', 'game_start_time': '8:00p', 'visitor_team_name': 'Minnesota Timberwolves', 'away_abbr': 'MIN', 'visitor_pts': '99', 'home_team_name': 'Oklahoma City Thunder', 'home_abbr': 'OKC', 'home_pts': '113', 'box_score_url': '/boxscores/201503130OKC.html', 'attendance': '18,203', 'overtimes': '', 'game_key': 'MIN20150313OKC800p'}, {'game_date': '2015-03-13', 'game_start_time': '8:30p', 'visitor_team_name': 'Los Angeles Clippers', 'away_abbr': 'LAC', 'visitor_pts': '99', 'home_team_name': 'Dallas Mavericks', 'home_abbr': 'DAL', 'home_pts': '129', 'box_score_url': '/boxscores/201503130DAL.html', 'attendance': '20,444', 'overtimes': '', 'game_key': 'LAC20150313DAL830p'}, {'game_date': '2015-03-13', 'game_start_time': '9:00p', 'visitor_team_name': 'Golden State Warriors', 'away_abbr': 'GSW', 'visitor_pts': '103', 'home_team_name': 'Denver Nuggets', 'home_abbr': 'DEN', 'home_pts': '114', 'box_score_url': '/boxscores/201503130DEN.html', 'attendance': '19,155', 'overtimes': '', 'game_key': 'GSW20150313DEN900p'}, {'game_date': '2015-03-13', 'game_start_time': '10:00p', 'visitor_team_name': 'Atlanta Hawks', 'away_abbr': 'ATL', 'visitor_pts': '96', 'home_team_name': 'Phoenix Suns', 'home_abbr': 'PHO', 'home_pts': '87', 'box_score_url': '/boxscores/201503130PHO.html', 'attendance': '17,136', 'overtimes': '', 'game_key': 'ATL20150313PHO1000p'}, {'game_date': '2015-03-13', 'game_start_time': '10:00p', 'visitor_team_name': 'Detroit Pistons', 'away_abbr': 'DET', 'visitor_pts': '99', 'home_team_name': 'Portland Trail Blazers', 'home_abbr': 'POR', 'home_pts': '118', 'box_score_url': '/boxscores/201503130POR.html', 'attendance': '19,486', 'overtimes': '', 'game_key': 'DET20150313POR1000p'}, {'game_date': '2015-03-14', 'game_start_time': '7:00p', 'visitor_team_name': 'Boston Celtics', 'away_abbr': 'BOS', 'visitor_pts': '93', 'home_team_name': 'Indiana Pacers', 'home_abbr': 'IND', 'home_pts': '89', 'box_score_url': '/boxscores/201503140IND.html', 'attendance': '18,165', 'overtimes': '', 'game_key': 'BOS20150314IND700p'}, {'game_date': '2015-03-14', 'game_start_time': '7:00p', 'visitor_team_name': 'Sacramento Kings', 'away_abbr': 'SAC', 'visitor_pts': '97', 'home_team_name': 'Washington Wizards', 'home_abbr': 'WAS', 'home_pts': '113', 'box_score_url': '/boxscores/201503140WAS.html', 'attendance': '20,356', 'overtimes': '', 'game_key': 'SAC20150314WAS700p'}, {'game_date': '2015-03-14', 'game_start_time': '7:30p', 'visitor_team_name': 'Brooklyn Nets', 'away_abbr': 'BRK', 'visitor_pts': '94', 'home_team_name': 'Philadelphia 76ers', 'home_abbr': 'PHI', 'home_pts': '87', 'box_score_url': '/boxscores/201503140PHI.html', 'attendance': '14,865', 'overtimes': '', 'game_key': 'BRK20150314PHI730p'}, {'game_date': '2015-03-14', 'game_start_time': '8:00p', 'visitor_team_name': 'Milwaukee Bucks', 'away_abbr': 'MIL', 'visitor_pts': '83', 'home_team_name': 'Memphis Grizzlies', 'home_abbr': 'MEM', 'home_pts': '96', 'box_score_url': '/boxscores/201503140MEM.html', 'attendance': '18,119', 'overtimes': '', 'game_key': 'MIL20150314MEM800p'}, {'game_date': '2015-03-14', 'game_start_time': '9:00p', 'visitor_team_name': 'Detroit Pistons', 'away_abbr': 'DET', 'visitor_pts': '85', 'home_team_name': 'Utah Jazz', 'home_abbr': 'UTA', 'home_pts': '88', 'box_score_url': '/boxscores/201503140UTA.html', 'attendance': '19,911', 'overtimes': '', 'game_key': 'DET20150314UTA900p'}, {'game_date': '2015-03-14', 'game_start_time': '10:30p', 'visitor_team_name': 'New York Knicks', 'away_abbr': 'NYK', 'visitor_pts': '94', 'home_team_name': 'Golden State Warriors', 'home_abbr': 'GSW', 'home_pts': '125', 'box_score_url': '/boxscores/201503140GSW.html', 'attendance': '19,596', 'overtimes': '', 'game_key': 'NYK20150314GSW1030p'}, {'game_date': '2015-03-15', 'game_start_time': '1:00p', 'visitor_team_name': 'Chicago Bulls', 'away_abbr': 'CHI', 'visitor_pts': '100', 'home_team_name': 'Oklahoma City Thunder', 'home_abbr': 'OKC', 'home_pts': '109', 'box_score_url': '/boxscores/201503150OKC.html', 'attendance': '18,203', 'overtimes': '', 'game_key': 'CHI20150315OKC100p'}, {'game_date': '2015-03-15', 'game_start_time': '3:30p', 'visitor_team_name': 'Houston Rockets', 'away_abbr': 'HOU', 'visitor_pts': '100', 'home_team_name': 'Los Angeles Clippers', 'home_abbr': 'LAC', 'home_pts': '98', 'box_score_url': '/boxscores/201503150LAC.html', 'attendance': '19,211', 'overtimes': '', 'game_key': 'HOU20150315LAC330p'}, {'game_date': '2015-03-15', 'game_start_time': '6:00p', 'visitor_team_name': 'Denver Nuggets', 'away_abbr': 'DEN', 'visitor_pts': '118', 'home_team_name': 'New Orleans Pelicans', 'home_abbr': 'NOP', 'home_pts': '111', 'box_score_url': '/boxscores/201503150NOP.html', 'attendance': '17,248', 'overtimes': '2OT', 'game_key': 'DEN20150315NOP600p'}, {'game_date': '2015-03-15', 'game_start_time': '6:00p', 'visitor_team_name': 'Cleveland Cavaliers', 'away_abbr': 'CLE', 'visitor_pts': '123', 'home_team_name': 'Orlando Magic', 'home_abbr': 'ORL', 'home_pts': '108', 'box_score_url': '/boxscores/201503150ORL.html', 'attendance': '17,786', 'overtimes': '', 'game_key': 'CLE20150315ORL600p'}, {'game_date': '2015-03-15', 'game_start_time': '7:00p', 'visitor_team_name': 'Minnesota Timberwolves', 'away_abbr': 'MIN', 'visitor_pts': '97', 'home_team_name': 'San Antonio Spurs', 'home_abbr': 'SAS', 'home_pts': '123', 'box_score_url': '/boxscores/201503150SAS.html', 'attendance': '18,581', 'overtimes': '', 'game_key': 'MIN20150315SAS700p'}, {'game_date': '2015-03-15', 'game_start_time': '7:00p', 'visitor_team_name': 'Portland Trail Blazers', 'away_abbr': 'POR', 'visitor_pts': '113', 'home_team_name': 'Toronto Raptors', 'home_abbr': 'TOR', 'home_pts': '97', 'box_score_url': '/boxscores/201503150TOR.html', 'attendance': '19,800', 'overtimes': '', 'game_key': 'POR20150315TOR700p'}, {'game_date': '2015-03-15', 'game_start_time': '9:00p', 'visitor_team_name': 'New York Knicks', 'away_abbr': 'NYK', 'visitor_pts': '89', 'home_team_name': 'Phoenix Suns', 'home_abbr': 'PHO', 'home_pts': '102', 'box_score_url': '/boxscores/201503150PHO.html', 'attendance': '17,264', 'overtimes': '', 'game_key': 'NYK20150315PHO900p'}, {'game_date': '2015-03-15', 'game_start_time': '9:30p', 'visitor_team_name': 'Atlanta Hawks', 'away_abbr': 'ATL', 'visitor_pts': '91', 'home_team_name': 'Los Angeles Lakers', 'home_abbr': 'LAL', 'home_pts': '86', 'box_score_url': '/boxscores/201503150LAL.html', 'attendance': '17,422', 'overtimes': '', 'game_key': 'ATL20150315LAL930p'}, {'game_date': '2015-03-16', 'game_start_time': '7:00p', 'visitor_team_name': 'Toronto Raptors', 'away_abbr': 'TOR', 'visitor_pts': '117', 'home_team_name': 'Indiana Pacers', 'home_abbr': 'IND', 'home_pts': '98', 'box_score_url': '/boxscores/201503160IND.html', 'attendance': '17,060', 'overtimes': '', 'game_key': 'TOR20150316IND700p'}, {'game_date': '2015-03-16', 'game_start_time': '7:00p', 'visitor_team_name': 'Portland Trail Blazers', 'away_abbr': 'POR', 'visitor_pts': '97', 'home_team_name': 'Washington Wizards', 'home_abbr': 'WAS', 'home_pts': '105', 'box_score_url': '/boxscores/201503160WAS.html', 'attendance': '17,324', 'overtimes': '', 'game_key': 'POR20150316WAS700p'}, {'game_date': '2015-03-16', 'game_start_time': '7:30p', 'visitor_team_name': 'Philadelphia 76ers', 'away_abbr': 'PHI', 'visitor_pts': '89', 'home_team_name': 'Boston Celtics', 'home_abbr': 'BOS', 'home_pts': '108', 'box_score_url': '/boxscores/201503160BOS.html', 'attendance': '16,553', 'overtimes': '', 'game_key': 'PHI20150316BOS730p'}, {'game_date': '2015-03-16', 'game_start_time': '8:00p', 'visitor_team_name': 'Denver Nuggets', 'away_abbr': 'DEN', 'visitor_pts': '81', 'home_team_name': 'Memphis Grizzlies', 'home_abbr': 'MEM', 'home_pts': '92', 'box_score_url': '/boxscores/201503160MEM.html', 'attendance': '16,614', 'overtimes': '', 'game_key': 'DEN20150316MEM800p'}, {'game_date': '2015-03-16', 'game_start_time': '8:00p', 'visitor_team_name': 'Cleveland Cavaliers', 'away_abbr': 'CLE', 'visitor_pts': '92', 'home_team_name': 'Miami Heat', 'home_abbr': 'MIA', 'home_pts': '106', 'box_score_url': '/boxscores/201503160MIA.html', 'attendance': '19,626', 'overtimes': '', 'game_key': 'CLE20150316MIA800p'}, {'game_date': '2015-03-16', 'game_start_time': '8:00p', 'visitor_team_name': 'Brooklyn Nets', 'away_abbr': 'BRK', 'visitor_pts': '122', 'home_team_name': 'Minnesota Timberwolves', 'home_abbr': 'MIN', 'home_pts': '106', 'box_score_url': '/boxscores/201503160MIN.html', 'attendance': '14,234', 'overtimes': '', 'game_key': 'BRK20150316MIN800p'}, {'game_date': '2015-03-16', 'game_start_time': '8:30p', 'visitor_team_name': 'Oklahoma City Thunder', 'away_abbr': 'OKC', 'visitor_pts': '115', 'home_team_name': 'Dallas Mavericks', 'home_abbr': 'DAL', 'home_pts': '119', 'box_score_url': '/boxscores/201503160DAL.html', 'attendance': '20,231', 'overtimes': '', 'game_key': 'OKC20150316DAL830p'}, {'game_date': '2015-03-16', 'game_start_time': '9:00p', 'visitor_team_name': 'Charlotte Hornets', 'away_abbr': 'CHO', 'visitor_pts': '66', 'home_team_name': 'Utah Jazz', 'home_abbr': 'UTA', 'home_pts': '94', 'box_score_url': '/boxscores/201503160UTA.html', 'attendance': '16,743', 'overtimes': '', 'game_key': 'CHO20150316UTA900p'}, {'game_date': '2015-03-16', 'game_start_time': '10:00p', 'visitor_team_name': 'Atlanta Hawks', 'away_abbr': 'ATL', 'visitor_pts': '110', 'home_team_name': 'Sacramento Kings', 'home_abbr': 'SAC', 'home_pts': '103', 'box_score_url': '/boxscores/201503160SAC.html', 'attendance': '16,835', 'overtimes': '', 'game_key': 'ATL20150316SAC1000p'}, {'game_date': '2015-03-16', 'game_start_time': '10:30p', 'visitor_team_name': 'Los Angeles Lakers', 'away_abbr': 'LAL', 'visitor_pts': '105', 'home_team_name': 'Golden State Warriors', 'home_abbr': 'GSW', 'home_pts': '108', 'box_score_url': '/boxscores/201503160GSW.html', 'attendance': '19,596', 'overtimes': '', 'game_key': 'LAL20150316GSW1030p'}, {'game_date': '2015-03-17', 'game_start_time': '7:30p', 'visitor_team_name': 'Memphis Grizzlies', 'away_abbr': 'MEM', 'visitor_pts': '95', 'home_team_name': 'Detroit Pistons', 'home_abbr': 'DET', 'home_pts': '105', 'box_score_url': '/boxscores/201503170DET.html', 'attendance': '14,399', 'overtimes': '', 'game_key': 'MEM20150317DET730p'}, {'game_date': '2015-03-17', 'game_start_time': '7:30p', 'visitor_team_name': 'San Antonio Spurs', 'away_abbr': 'SAS', 'visitor_pts': '100', 'home_team_name': 'New York Knicks', 'home_abbr': 'NYK', 'home_pts': '104', 'box_score_url': '/boxscores/201503170NYK.html', 'attendance': '19,812', 'overtimes': 'OT', 'game_key': 'SAS20150317NYK730p'}, {'game_date': '2015-03-17', 'game_start_time': '8:00p', 'visitor_team_name': 'Orlando Magic', 'away_abbr': 'ORL', 'visitor_pts': '94', 'home_team_name': 'Houston Rockets', 'home_abbr': 'HOU', 'home_pts': '107', 'box_score_url': '/boxscores/201503170HOU.html', 'attendance': '18,235', 'overtimes': '', 'game_key': 'ORL20150317HOU800p'}, {'game_date': '2015-03-17', 'game_start_time': '8:00p', 'visitor_team_name': 'Milwaukee Bucks', 'away_abbr': 'MIL', 'visitor_pts': '84', 'home_team_name': 'New Orleans Pelicans', 'home_abbr': 'NOP', 'home_pts': '85', 'box_score_url': '/boxscores/201503170NOP.html', 'attendance': '17,881', 'overtimes': '', 'game_key': 'MIL20150317NOP800p'}, {'game_date': '2015-03-17', 'game_start_time': '10:30p', 'visitor_team_name': 'Charlotte Hornets', 'away_abbr': 'CHO', 'visitor_pts': '92', 'home_team_name': 'Los Angeles Clippers', 'home_abbr': 'LAC', 'home_pts': '99', 'box_score_url': '/boxscores/201503170LAC.html', 'attendance': '19,060', 'overtimes': '', 'game_key': 'CHO20150317LAC1030p'}, {'game_date': '2015-03-18', 'game_start_time': '7:00p', 'visitor_team_name': 'Brooklyn Nets', 'away_abbr': 'BRK', 'visitor_pts': '92', 'home_team_name': 'Cleveland Cavaliers', 'home_abbr': 'CLE', 'home_pts': '117', 'box_score_url': '/boxscores/201503180CLE.html', 'attendance': '20,562', 'overtimes': '', 'game_key': 'BRK20150318CLE700p'}, {'game_date': '2015-03-18', 'game_start_time': '7:00p', 'visitor_team_name': 'Detroit Pistons', 'away_abbr': 'DET', 'visitor_pts': '83', 'home_team_name': 'Philadelphia 76ers', 'home_abbr': 'PHI', 'home_pts': '94', 'box_score_url': '/boxscores/201503180PHI.html', 'attendance': '10,776', 'overtimes': '', 'game_key': 'DET20150318PHI700p'}, {'game_date': '2015-03-18', 'game_start_time': '7:30p', 'visitor_team_name': 'Portland Trail Blazers', 'away_abbr': 'POR', 'visitor_pts': '104', 'home_team_name': 'Miami Heat', 'home_abbr': 'MIA', 'home_pts': '108', 'box_score_url': '/boxscores/201503180MIA.html', 'attendance': '19,621', 'overtimes': '', 'game_key': 'POR20150318MIA730p'}, {'game_date': '2015-03-18', 'game_start_time': '7:30p', 'visitor_team_name': 'Minnesota Timberwolves', 'away_abbr': 'MIN', 'visitor_pts': '100', 'home_team_name': 'Toronto Raptors', 'home_abbr': 'TOR', 'home_pts': '105', 'box_score_url': '/boxscores/201503180TOR.html', 'attendance': '19,800', 'overtimes': '', 'game_key': 'MIN20150318TOR730p'}, {'game_date': '2015-03-18', 'game_start_time': '8:00p', 'visitor_team_name': 'Indiana Pacers', 'away_abbr': 'IND', 'visitor_pts': '86', 'home_team_name': 'Chicago Bulls', 'home_abbr': 'CHI', 'home_pts': '103', 'box_score_url': '/boxscores/201503180CHI.html', 'attendance': '21,753', 'overtimes': '', 'game_key': 'IND20150318CHI800p'}, {'game_date': '2015-03-18', 'game_start_time': '8:00p', 'visitor_team_name': 'Orlando Magic', 'away_abbr': 'ORL', 'visitor_pts': '102', 'home_team_name': 'Dallas Mavericks', 'home_abbr': 'DAL', 'home_pts': '107', 'box_score_url': '/boxscores/201503180DAL.html', 'attendance': '20,294', 'overtimes': '', 'game_key': 'ORL20150318DAL800p'}, {'game_date': '2015-03-18', 'game_start_time': '8:00p', 'visitor_team_name': 'San Antonio Spurs', 'away_abbr': 'SAS', 'visitor_pts': '114', 'home_team_name': 'Milwaukee Bucks', 'home_abbr': 'MIL', 'home_pts': '103', 'box_score_url': '/boxscores/201503180MIL.html', 'attendance': '14,831', 'overtimes': '', 'game_key': 'SAS20150318MIL800p'}, {'game_date': '2015-03-18', 'game_start_time': '8:00p', 'visitor_team_name': 'Boston Celtics', 'away_abbr': 'BOS', 'visitor_pts': '118', 'home_team_name': 'Oklahoma City Thunder', 'home_abbr': 'OKC', 'home_pts': '122', 'box_score_url': '/boxscores/201503180OKC.html', 'attendance': '18,203', 'overtimes': '', 'game_key': 'BOS20150318OKC800p'}, {'game_date': '2015-03-18', 'game_start_time': '10:00p', 'visitor_team_name': 'Los Angeles Clippers', 'away_abbr': 'LAC', 'visitor_pts': '116', 'home_team_name': 'Sacramento Kings', 'home_abbr': 'SAC', 'home_pts': '105', 'box_score_url': '/boxscores/201503180SAC.html', 'attendance': '16,785', 'overtimes': '', 'game_key': 'LAC20150318SAC1000p'}, {'game_date': '2015-03-18', 'game_start_time': '10:30p', 'visitor_team_name': 'Atlanta Hawks', 'away_abbr': 'ATL', 'visitor_pts': '95', 'home_team_name': 'Golden State Warriors', 'home_abbr': 'GSW', 'home_pts': '114', 'box_score_url': '/boxscores/201503180GSW.html', 'attendance': '19,596', 'overtimes': '', 'game_key': 'ATL20150318GSW1030p'}, {'game_date': '2015-03-18', 'game_start_time': '10:30p', 'visitor_team_name': 'Washington Wizards', 'away_abbr': 'WAS', 'visitor_pts': '88', 'home_team_name': 'Utah Jazz', 'home_abbr': 'UTA', 'home_pts': '84', 'box_score_url': '/boxscores/201503180UTA.html', 'attendance': '19,498', 'overtimes': '', 'game_key': 'WAS20150318UTA1030p'}, {'game_date': '2015-03-19', 'game_start_time': '7:30p', 'visitor_team_name': 'Minnesota Timberwolves', 'away_abbr': 'MIN', 'visitor_pts': '95', 'home_team_name': 'New York Knicks', 'home_abbr': 'NYK', 'home_pts': '92', 'box_score_url': '/boxscores/201503190NYK.html', 'attendance': '19,812', 'overtimes': 'OT', 'game_key': 'MIN20150319NYK730p'}, {'game_date': '2015-03-19', 'game_start_time': '8:00p', 'visitor_team_name': 'Denver Nuggets', 'away_abbr': 'DEN', 'visitor_pts': '108', 'home_team_name': 'Houston Rockets', 'home_abbr': 'HOU', 'home_pts': '118', 'box_score_url': '/boxscores/201503190HOU.html', 'attendance': '18,456', 'overtimes': '', 'game_key': 'DEN20150319HOU800p'}, {'game_date': '2015-03-19', 'game_start_time': '10:00p', 'visitor_team_name': 'New Orleans Pelicans', 'away_abbr': 'NOP', 'visitor_pts': '72', 'home_team_name': 'Phoenix Suns', 'home_abbr': 'PHO', 'home_pts': '74', 'box_score_url': '/boxscores/201503190PHO.html', 'attendance': '18,055', 'overtimes': '', 'game_key': 'NOP20150319PHO1000p'}, {'game_date': '2015-03-19', 'game_start_time': '10:30p', 'visitor_team_name': 'Utah Jazz', 'away_abbr': 'UTA', 'visitor_pts': '80', 'home_team_name': 'Los Angeles Lakers', 'home_abbr': 'LAL', 'home_pts': '73', 'box_score_url': '/boxscores/201503190LAL.html', 'attendance': '17,407', 'overtimes': '', 'game_key': 'UTA20150319LAL1030p'}, {'game_date': '2015-03-20', 'game_start_time': '7:00p', 'visitor_team_name': 'Portland Trail Blazers', 'away_abbr': 'POR', 'visitor_pts': '104', 'home_team_name': 'Orlando Magic', 'home_abbr': 'ORL', 'home_pts': '111', 'box_score_url': '/boxscores/201503200ORL.html', 'attendance': '16,203', 'overtimes': '', 'game_key': 'POR20150320ORL700p'}, {'game_date': '2015-03-20', 'game_start_time': '7:00p', 'visitor_team_name': 'New York Knicks', 'away_abbr': 'NYK', 'visitor_pts': '81', 'home_team_name': 'Philadelphia 76ers', 'home_abbr': 'PHI', 'home_pts': '97', 'box_score_url': '/boxscores/201503200PHI.html', 'attendance': '10,079', 'overtimes': '', 'game_key': 'NYK20150320PHI700p'}, {'game_date': '2015-03-20', 'game_start_time': '7:30p', 'visitor_team_name': 'Milwaukee Bucks', 'away_abbr': 'MIL', 'visitor_pts': '127', 'home_team_name': 'Brooklyn Nets', 'home_abbr': 'BRK', 'home_pts': '129', 'box_score_url': '/boxscores/201503200BRK.html', 'attendance': '16,272', 'overtimes': '3OT', 'game_key': 'MIL20150320BRK730p'}, {'game_date': '2015-03-20', 'game_start_time': '7:30p', 'visitor_team_name': 'Indiana Pacers', 'away_abbr': 'IND', 'visitor_pts': '92', 'home_team_name': 'Cleveland Cavaliers', 'home_abbr': 'CLE', 'home_pts': '95', 'box_score_url': '/boxscores/201503200CLE.html', 'attendance': '20,562', 'overtimes': '', 'game_key': 'IND20150320CLE730p'}, {'game_date': '2015-03-20', 'game_start_time': '7:30p', 'visitor_team_name': 'Denver Nuggets', 'away_abbr': 'DEN', 'visitor_pts': '91', 'home_team_name': 'Miami Heat', 'home_abbr': 'MIA', 'home_pts': '108', 'box_score_url': '/boxscores/201503200MIA.html', 'attendance': '19,710', 'overtimes': '', 'game_key': 'DEN20150320MIA730p'}, {'game_date': '2015-03-20', 'game_start_time': '8:00p', 'visitor_team_name': 'Toronto Raptors', 'away_abbr': 'TOR', 'visitor_pts': '92', 'home_team_name': 'Chicago Bulls', 'home_abbr': 'CHI', 'home_pts': '108', 'box_score_url': '/boxscores/201503200CHI.html', 'attendance': '21,998', 'overtimes': '', 'game_key': 'TOR20150320CHI800p'}, {'game_date': '2015-03-20', 'game_start_time': '8:00p', 'visitor_team_name': 'Atlanta Hawks', 'away_abbr': 'ATL', 'visitor_pts': '115', 'home_team_name': 'Oklahoma City Thunder', 'home_abbr': 'OKC', 'home_pts': '123', 'box_score_url': '/boxscores/201503200OKC.html', 'attendance': '18,203', 'overtimes': '', 'game_key': 'ATL20150320OKC800p'}, {'game_date': '2015-03-20', 'game_start_time': '8:30p', 'visitor_team_name': 'Memphis Grizzlies', 'away_abbr': 'MEM', 'visitor_pts': '112', 'home_team_name': 'Dallas Mavericks', 'home_abbr': 'DAL', 'home_pts': '101', 'box_score_url': '/boxscores/201503200DAL.html', 'attendance': '20,399', 'overtimes': '', 'game_key': 'MEM20150320DAL830p'}, {'game_date': '2015-03-20', 'game_start_time': '8:30p', 'visitor_team_name': 'Boston Celtics', 'away_abbr': 'BOS', 'visitor_pts': '89', 'home_team_name': 'San Antonio Spurs', 'home_abbr': 'SAS', 'home_pts': '101', 'box_score_url': '/boxscores/201503200SAS.html', 'attendance': '18,581', 'overtimes': '', 'game_key': 'BOS20150320SAS830p'}, {'game_date': '2015-03-20', 'game_start_time': '10:00p', 'visitor_team_name': 'Charlotte Hornets', 'away_abbr': 'CHO', 'visitor_pts': '91', 'home_team_name': 'Sacramento Kings', 'home_abbr': 'SAC', 'home_pts': '101', 'box_score_url': '/boxscores/201503200SAC.html', 'attendance': '16,799', 'overtimes': '', 'game_key': 'CHO20150320SAC1000p'}, {'game_date': '2015-03-20', 'game_start_time': '10:30p', 'visitor_team_name': 'New Orleans Pelicans', 'away_abbr': 'NOP', 'visitor_pts': '96', 'home_team_name': 'Golden State Warriors', 'home_abbr': 'GSW', 'home_pts': '112', 'box_score_url': '/boxscores/201503200GSW.html', 'attendance': '19,596', 'overtimes': '', 'game_key': 'NOP20150320GSW1030p'}, {'game_date': '2015-03-20', 'game_start_time': '10:30p', 'visitor_team_name': 'Washington Wizards', 'away_abbr': 'WAS', 'visitor_pts': '99', 'home_team_name': 'Los Angeles Clippers', 'home_abbr': 'LAC', 'home_pts': '113', 'box_score_url': '/boxscores/201503200LAC.html', 'attendance': '19,218', 'overtimes': '', 'game_key': 'WAS20150320LAC1030p'}, {'game_date': '2015-03-21', 'game_start_time': '7:00p', 'visitor_team_name': 'Brooklyn Nets', 'away_abbr': 'BRK', 'visitor_pts': '123', 'home_team_name': 'Indiana Pacers', 'home_abbr': 'IND', 'home_pts': '111', 'box_score_url': '/boxscores/201503210IND.html', 'attendance': '16,453', 'overtimes': '', 'game_key': 'BRK20150321IND700p'}, {'game_date': '2015-03-21', 'game_start_time': '7:30p', 'visitor_team_name': 'Chicago Bulls', 'away_abbr': 'CHI', 'visitor_pts': '91', 'home_team_name': 'Detroit Pistons', 'home_abbr': 'DET', 'home_pts': '107', 'box_score_url': '/boxscores/201503210DET.html', 'attendance': '20,347', 'overtimes': '', 'game_key': 'CHI20150321DET730p'}, {'game_date': '2015-03-21', 'game_start_time': '8:00p', 'visitor_team_name': 'Phoenix Suns', 'away_abbr': 'PHO', 'visitor_pts': '117', 'home_team_name': 'Houston Rockets', 'home_abbr': 'HOU', 'home_pts': '102', 'box_score_url': '/boxscores/201503210HOU.html', 'attendance': '18,340', 'overtimes': '', 'game_key': 'PHO20150321HOU800p'}, {'game_date': '2015-03-21', 'game_start_time': '8:00p', 'visitor_team_name': 'Portland Trail Blazers', 'away_abbr': 'POR', 'visitor_pts': '86', 'home_team_name': 'Memphis Grizzlies', 'home_abbr': 'MEM', 'home_pts': '97', 'box_score_url': '/boxscores/201503210MEM.html', 'attendance': '17,898', 'overtimes': '', 'game_key': 'POR20150321MEM800p'}, {'game_date': '2015-03-21', 'game_start_time': '10:30p', 'visitor_team_name': 'Utah Jazz', 'away_abbr': 'UTA', 'visitor_pts': '91', 'home_team_name': 'Golden State Warriors', 'home_abbr': 'GSW', 'home_pts': '106', 'box_score_url': '/boxscores/201503210GSW.html', 'attendance': '19,596', 'overtimes': '', 'game_key': 'UTA20150321GSW1030p'}, {'game_date': '2015-03-22', 'game_start_time': '3:00p', 'visitor_team_name': 'San Antonio Spurs', 'away_abbr': 'SAS', 'visitor_pts': '114', 'home_team_name': 'Atlanta Hawks', 'home_abbr': 'ATL', 'home_pts': '95', 'box_score_url': '/boxscores/201503220ATL.html', 'attendance': '19,193', 'overtimes': '', 'game_key': 'SAS20150322ATL300p'}, {'game_date': '2015-03-22', 'game_start_time': '3:00p', 'visitor_team_name': 'Cleveland Cavaliers', 'away_abbr': 'CLE', 'visitor_pts': '108', 'home_team_name': 'Milwaukee Bucks', 'home_abbr': 'MIL', 'home_pts': '90', 'box_score_url': '/boxscores/201503220MIL.html', 'attendance': '16,687', 'overtimes': '', 'game_key': 'CLE20150322MIL300p'}, {'game_date': '2015-03-22', 'game_start_time': '3:00p', 'visitor_team_name': 'Miami Heat', 'away_abbr': 'MIA', 'visitor_pts': '75', 'home_team_name': 'Oklahoma City Thunder', 'home_abbr': 'OKC', 'home_pts': '93', 'box_score_url': '/boxscores/201503220OKC.html', 'attendance': '18,203', 'overtimes': '', 'game_key': 'MIA20150322OKC300p'}, {'game_date': '2015-03-22', 'game_start_time': '3:30p', 'visitor_team_name': 'New Orleans Pelicans', 'away_abbr': 'NOP', 'visitor_pts': '100', 'home_team_name': 'Los Angeles Clippers', 'home_abbr': 'LAC', 'home_pts': '107', 'box_score_url': '/boxscores/201503220LAC.html', 'attendance': '19,299', 'overtimes': '', 'game_key': 'NOP20150322LAC330p'}, {'game_date': '2015-03-22', 'game_start_time': '4:00p', 'visitor_team_name': 'New York Knicks', 'away_abbr': 'NYK', 'visitor_pts': '89', 'home_team_name': 'Toronto Raptors', 'home_abbr': 'TOR', 'home_pts': '106', 'box_score_url': '/boxscores/201503220TOR.html', 'attendance': '19,800', 'overtimes': '', 'game_key': 'NYK20150322TOR400p'}, {'game_date': '2015-03-22', 'game_start_time': '6:00p', 'visitor_team_name': 'Detroit Pistons', 'away_abbr': 'DET', 'visitor_pts': '105', 'home_team_name': 'Boston Celtics', 'home_abbr': 'BOS', 'home_pts': '97', 'box_score_url': '/boxscores/201503220BOS.html', 'attendance': '18,624', 'overtimes': 'OT', 'game_key': 'DET20150322BOS600p'}, {'game_date': '2015-03-22', 'game_start_time': '6:00p', 'visitor_team_name': 'Denver Nuggets', 'away_abbr': 'DEN', 'visitor_pts': '119', 'home_team_name': 'Orlando Magic', 'home_abbr': 'ORL', 'home_pts': '100', 'box_score_url': '/boxscores/201503220ORL.html', 'attendance': '15,788', 'overtimes': '', 'game_key': 'DEN20150322ORL600p'}, {'game_date': '2015-03-22', 'game_start_time': '6:00p', 'visitor_team_name': 'Washington Wizards', 'away_abbr': 'WAS', 'visitor_pts': '86', 'home_team_name': 'Sacramento Kings', 'home_abbr': 'SAC', 'home_pts': '109', 'box_score_url': '/boxscores/201503220SAC.html', 'attendance': '17,008', 'overtimes': '', 'game_key': 'WAS20150322SAC600p'}, {'game_date': '2015-03-22', 'game_start_time': '7:00p', 'visitor_team_name': 'Charlotte Hornets', 'away_abbr': 'CHO', 'visitor_pts': '109', 'home_team_name': 'Minnesota Timberwolves', 'home_abbr': 'MIN', 'home_pts': '98', 'box_score_url': '/boxscores/201503220MIN.html', 'attendance': '15,262', 'overtimes': '', 'game_key': 'CHO20150322MIN700p'}, {'game_date': '2015-03-22', 'game_start_time': '9:00p', 'visitor_team_name': 'Dallas Mavericks', 'away_abbr': 'DAL', 'visitor_pts': '92', 'home_team_name': 'Phoenix Suns', 'home_abbr': 'PHO', 'home_pts': '98', 'box_score_url': '/boxscores/201503220PHO.html', 'attendance': '17,435', 'overtimes': '', 'game_key': 'DAL20150322PHO900p'}, {'game_date': '2015-03-22', 'game_start_time': '9:30p', 'visitor_team_name': 'Philadelphia 76ers', 'away_abbr': 'PHI', 'visitor_pts': '87', 'home_team_name': 'Los Angeles Lakers', 'home_abbr': 'LAL', 'home_pts': '101', 'box_score_url': '/boxscores/201503220LAL.html', 'attendance': '17,891', 'overtimes': '', 'game_key': 'PHI20150322LAL930p'}, {'game_date': '2015-03-23', 'game_start_time': '7:00p', 'visitor_team_name': 'Houston Rockets', 'away_abbr': 'HOU', 'visitor_pts': '110', 'home_team_name': 'Indiana Pacers', 'home_abbr': 'IND', 'home_pts': '100', 'box_score_url': '/boxscores/201503230IND.html', 'attendance': '16,201', 'overtimes': '', 'game_key': 'HOU20150323IND700p'}, {'game_date': '2015-03-23', 'game_start_time': '7:30p', 'visitor_team_name': 'Boston Celtics', 'away_abbr': 'BOS', 'visitor_pts': '110', 'home_team_name': 'Brooklyn Nets', 'home_abbr': 'BRK', 'home_pts': '91', 'box_score_url': '/boxscores/201503230BRK.html', 'attendance': '16,814', 'overtimes': '', 'game_key': 'BOS20150323BRK730p'}, {'game_date': '2015-03-23', 'game_start_time': '7:30p', 'visitor_team_name': 'Memphis Grizzlies', 'away_abbr': 'MEM', 'visitor_pts': '103', 'home_team_name': 'New York Knicks', 'home_abbr': 'NYK', 'home_pts': '82', 'box_score_url': '/boxscores/201503230NYK.html', 'attendance': '19,812', 'overtimes': '', 'game_key': 'MEM20150323NYK730p'}, {'game_date': '2015-03-23', 'game_start_time': '8:00p', 'visitor_team_name': 'Charlotte Hornets', 'away_abbr': 'CHO', 'visitor_pts': '86', 'home_team_name': 'Chicago Bulls', 'home_abbr': 'CHI', 'home_pts': '98', 'box_score_url': '/boxscores/201503230CHI.html', 'attendance': '21,646', 'overtimes': '', 'game_key': 'CHO20150323CHI800p'}, {'game_date': '2015-03-23', 'game_start_time': '9:00p', 'visitor_team_name': 'Minnesota Timberwolves', 'away_abbr': 'MIN', 'visitor_pts': '106', 'home_team_name': 'Utah Jazz', 'home_abbr': 'UTA', 'home_pts': '104', 'box_score_url': '/boxscores/201503230UTA.html', 'attendance': '19,911', 'overtimes': 'OT', 'game_key': 'MIN20150323UTA900p'}, {'game_date': '2015-03-23', 'game_start_time': '10:30p', 'visitor_team_name': 'Washington Wizards', 'away_abbr': 'WAS', 'visitor_pts': '76', 'home_team_name': 'Golden State Warriors', 'home_abbr': 'GSW', 'home_pts': '107', 'box_score_url': '/boxscores/201503230GSW.html', 'attendance': '19,596', 'overtimes': '', 'game_key': 'WAS20150323GSW1030p'}, {'game_date': '2015-03-24', 'game_start_time': '7:30p', 'visitor_team_name': 'Toronto Raptors', 'away_abbr': 'TOR', 'visitor_pts': '104', 'home_team_name': 'Detroit Pistons', 'home_abbr': 'DET', 'home_pts': '108', 'box_score_url': '/boxscores/201503240DET.html', 'attendance': '14,420', 'overtimes': '', 'game_key': 'TOR20150324DET730p'}, {'game_date': '2015-03-24', 'game_start_time': '8:00p', 'visitor_team_name': 'San Antonio Spurs', 'away_abbr': 'SAS', 'visitor_pts': '94', 'home_team_name': 'Dallas Mavericks', 'home_abbr': 'DAL', 'home_pts': '101', 'box_score_url': '/boxscores/201503240DAL.html', 'attendance': '20,328', 'overtimes': '', 'game_key': 'SAS20150324DAL800p'}, {'game_date': '2015-03-24', 'game_start_time': '8:00p', 'visitor_team_name': 'Miami Heat', 'away_abbr': 'MIA', 'visitor_pts': '88', 'home_team_name': 'Milwaukee Bucks', 'home_abbr': 'MIL', 'home_pts': '89', 'box_score_url': '/boxscores/201503240MIL.html', 'attendance': '12,313', 'overtimes': '', 'game_key': 'MIA20150324MIL800p'}, {'game_date': '2015-03-24', 'game_start_time': '8:00p', 'visitor_team_name': 'Los Angeles Lakers', 'away_abbr': 'LAL', 'visitor_pts': '117', 'home_team_name': 'Oklahoma City Thunder', 'home_abbr': 'OKC', 'home_pts': '127', 'box_score_url': '/boxscores/201503240OKC.html', 'attendance': '18,203', 'overtimes': '', 'game_key': 'LAL20150324OKC800p'}, {'game_date': '2015-03-24', 'game_start_time': '10:00p', 'visitor_team_name': 'Philadelphia 76ers', 'away_abbr': 'PHI', 'visitor_pts': '106', 'home_team_name': 'Sacramento Kings', 'home_abbr': 'SAC', 'home_pts': '107', 'box_score_url': '/boxscores/201503240SAC.html', 'attendance': '16,636', 'overtimes': '', 'game_key': 'PHI20150324SAC1000p'}, {'game_date': '2015-03-24', 'game_start_time': '10:30p', 'visitor_team_name': 'Golden State Warriors', 'away_abbr': 'GSW', 'visitor_pts': '122', 'home_team_name': 'Portland Trail Blazers', 'home_abbr': 'POR', 'home_pts': '108', 'box_score_url': '/boxscores/201503240POR.html', 'attendance': '19,985', 'overtimes': '', 'game_key': 'GSW20150324POR1030p'}, {'game_date': '2015-03-25', 'game_start_time': '7:00p', 'visitor_team_name': 'Brooklyn Nets', 'away_abbr': 'BRK', 'visitor_pts': '91', 'home_team_name': 'Charlotte Hornets', 'home_abbr': 'CHO', 'home_pts': '88', 'box_score_url': '/boxscores/201503250CHO.html', 'attendance': '15,091', 'overtimes': '', 'game_key': 'BRK20150325CHO700p'}, {'game_date': '2015-03-25', 'game_start_time': '7:00p', 'visitor_team_name': 'Los Angeles Clippers', 'away_abbr': 'LAC', 'visitor_pts': '111', 'home_team_name': 'New York Knicks', 'home_abbr': 'NYK', 'home_pts': '80', 'box_score_url': '/boxscores/201503250NYK.html', 'attendance': '19,812', 'overtimes': '', 'game_key': 'LAC20150325NYK700p'}, {'game_date': '2015-03-25', 'game_start_time': '7:00p', 'visitor_team_name': 'Atlanta Hawks', 'away_abbr': 'ATL', 'visitor_pts': '95', 'home_team_name': 'Orlando Magic', 'home_abbr': 'ORL', 'home_pts': '83', 'box_score_url': '/boxscores/201503250ORL.html', 'attendance': '17,224', 'overtimes': '', 'game_key': 'ATL20150325ORL700p'}, {'game_date': '2015-03-25', 'game_start_time': '7:00p', 'visitor_team_name': 'Chicago Bulls', 'away_abbr': 'CHI', 'visitor_pts': '116', 'home_team_name': 'Toronto Raptors', 'home_abbr': 'TOR', 'home_pts': '103', 'box_score_url': '/boxscores/201503250TOR.html', 'attendance': '19,800', 'overtimes': '', 'game_key': 'CHI20150325TOR700p'}, {'game_date': '2015-03-25', 'game_start_time': '7:00p', 'visitor_team_name': 'Indiana Pacers', 'away_abbr': 'IND', 'visitor_pts': '103', 'home_team_name': 'Washington Wizards', 'home_abbr': 'WAS', 'home_pts': '101', 'box_score_url': '/boxscores/201503250WAS.html', 'attendance': '18,514', 'overtimes': '', 'game_key': 'IND20150325WAS700p'}, {'game_date': '2015-03-25', 'game_start_time': '7:30p', 'visitor_team_name': 'Miami Heat', 'away_abbr': 'MIA', 'visitor_pts': '93', 'home_team_name': 'Boston Celtics', 'home_abbr': 'BOS', 'home_pts': '86', 'box_score_url': '/boxscores/201503250BOS.html', 'attendance': '18,624', 'overtimes': '', 'game_key': 'MIA20150325BOS730p'}, {'game_date': '2015-03-25', 'game_start_time': '8:00p', 'visitor_team_name': 'Cleveland Cavaliers', 'away_abbr': 'CLE', 'visitor_pts': '111', 'home_team_name': 'Memphis Grizzlies', 'home_abbr': 'MEM', 'home_pts': '89', 'box_score_url': '/boxscores/201503250MEM.html', 'attendance': '18,119', 'overtimes': '', 'game_key': 'CLE20150325MEM800p'}, {'game_date': '2015-03-25', 'game_start_time': '8:00p', 'visitor_team_name': 'Los Angeles Lakers', 'away_abbr': 'LAL', 'visitor_pts': '101', 'home_team_name': 'Minnesota Timberwolves', 'home_abbr': 'MIN', 'home_pts': '99', 'box_score_url': '/boxscores/201503250MIN.html', 'attendance': '13,438', 'overtimes': 'OT', 'game_key': 'LAL20150325MIN800p'}, {'game_date': '2015-03-25', 'game_start_time': '8:00p', 'visitor_team_name': 'Houston Rockets', 'away_abbr': 'HOU', 'visitor_pts': '95', 'home_team_name': 'New Orleans Pelicans', 'home_abbr': 'NOP', 'home_pts': '93', 'box_score_url': '/boxscores/201503250NOP.html', 'attendance': '17,077', 'overtimes': '', 'game_key': 'HOU20150325NOP800p'}, {'game_date': '2015-03-25', 'game_start_time': '9:00p', 'visitor_team_name': 'Philadelphia 76ers', 'away_abbr': 'PHI', 'visitor_pts': '99', 'home_team_name': 'Denver Nuggets', 'home_abbr': 'DEN', 'home_pts': '85', 'box_score_url': '/boxscores/201503250DEN.html', 'attendance': '14,068', 'overtimes': '', 'game_key': 'PHI20150325DEN900p'}, {'game_date': '2015-03-25', 'game_start_time': '9:00p', 'visitor_team_name': 'Portland Trail Blazers', 'away_abbr': 'POR', 'visitor_pts': '92', 'home_team_name': 'Utah Jazz', 'home_abbr': 'UTA', 'home_pts': '89', 'box_score_url': '/boxscores/201503250UTA.html', 'attendance': '19,911', 'overtimes': '', 'game_key': 'POR20150325UTA900p'}, {'game_date': '2015-03-25', 'game_start_time': '9:30p', 'visitor_team_name': 'Oklahoma City Thunder', 'away_abbr': 'OKC', 'visitor_pts': '91', 'home_team_name': 'San Antonio Spurs', 'home_abbr': 'SAS', 'home_pts': '130', 'box_score_url': '/boxscores/201503250SAS.html', 'attendance': '18,581', 'overtimes': '', 'game_key': 'OKC20150325SAS930p'}, {'game_date': '2015-03-25', 'game_start_time': '10:00p', 'visitor_team_name': 'Sacramento Kings', 'away_abbr': 'SAC', 'visitor_pts': '108', 'home_team_name': 'Phoenix Suns', 'home_abbr': 'PHO', 'home_pts': '99', 'box_score_url': '/boxscores/201503250PHO.html', 'attendance': '17,589', 'overtimes': '', 'game_key': 'SAC20150325PHO1000p'}, {'game_date': '2015-03-26', 'game_start_time': '8:00p', 'visitor_team_name': 'Indiana Pacers', 'away_abbr': 'IND', 'visitor_pts': '107', 'home_team_name': 'Milwaukee Bucks', 'home_abbr': 'MIL', 'home_pts': '111', 'box_score_url': '/boxscores/201503260MIL.html', 'attendance': '15,366', 'overtimes': '', 'game_key': 'IND20150326MIL800p'}, {'game_date': '2015-03-27', 'game_start_time': '7:00p', 'visitor_team_name': 'Detroit Pistons', 'away_abbr': 'DET', 'visitor_pts': '111', 'home_team_name': 'Orlando Magic', 'home_abbr': 'ORL', 'home_pts': '97', 'box_score_url': '/boxscores/201503270ORL.html', 'attendance': '16,427', 'overtimes': '', 'game_key': 'DET20150327ORL700p'}, {'game_date': '2015-03-27', 'game_start_time': '7:00p', 'visitor_team_name': 'Los Angeles Clippers', 'away_abbr': 'LAC', 'visitor_pts': '119', 'home_team_name': 'Philadelphia 76ers', 'home_abbr': 'PHI', 'home_pts': '98', 'box_score_url': '/boxscores/201503270PHI.html', 'attendance': '16,070', 'overtimes': '', 'game_key': 'LAC20150327PHI700p'}, {'game_date': '2015-03-27', 'game_start_time': '7:00p', 'visitor_team_name': 'Charlotte Hornets', 'away_abbr': 'CHO', 'visitor_pts': '107', 'home_team_name': 'Washington Wizards', 'home_abbr': 'WAS', 'home_pts': '110', 'box_score_url': '/boxscores/201503270WAS.html', 'attendance': '18,441', 'overtimes': '2OT', 'game_key': 'CHO20150327WAS700p'}, {'game_date': '2015-03-27', 'game_start_time': '7:30p', 'visitor_team_name': 'Miami Heat', 'away_abbr': 'MIA', 'visitor_pts': '86', 'home_team_name': 'Atlanta Hawks', 'home_abbr': 'ATL', 'home_pts': '99', 'box_score_url': '/boxscores/201503270ATL.html', 'attendance': '19,233', 'overtimes': '', 'game_key': 'MIA20150327ATL730p'}, {'game_date': '2015-03-27', 'game_start_time': '7:30p', 'visitor_team_name': 'Cleveland Cavaliers', 'away_abbr': 'CLE', 'visitor_pts': '98', 'home_team_name': 'Brooklyn Nets', 'home_abbr': 'BRK', 'home_pts': '106', 'box_score_url': '/boxscores/201503270BRK.html', 'attendance': '17,732', 'overtimes': '', 'game_key': 'CLE20150327BRK730p'}, {'game_date': '2015-03-27', 'game_start_time': '7:30p', 'visitor_team_name': 'Boston Celtics', 'away_abbr': 'BOS', 'visitor_pts': '96', 'home_team_name': 'New York Knicks', 'home_abbr': 'NYK', 'home_pts': '92', 'box_score_url': '/boxscores/201503270NYK.html', 'attendance': '19,812', 'overtimes': '', 'game_key': 'BOS20150327NYK730p'}, {'game_date': '2015-03-27', 'game_start_time': '7:30p', 'visitor_team_name': 'Los Angeles Lakers', 'away_abbr': 'LAL', 'visitor_pts': '83', 'home_team_name': 'Toronto Raptors', 'home_abbr': 'TOR', 'home_pts': '94', 'box_score_url': '/boxscores/201503270TOR.html', 'attendance': '19,800', 'overtimes': '', 'game_key': 'LAL20150327TOR730p'}, {'game_date': '2015-03-27', 'game_start_time': '8:00p', 'visitor_team_name': 'Minnesota Timberwolves', 'away_abbr': 'MIN', 'visitor_pts': '110', 'home_team_name': 'Houston Rockets', 'home_abbr': 'HOU', 'home_pts': '120', 'box_score_url': '/boxscores/201503270HOU.html', 'attendance': '18,322', 'overtimes': '', 'game_key': 'MIN20150327HOU800p'}, {'game_date': '2015-03-27', 'game_start_time': '8:00p', 'visitor_team_name': 'Golden State Warriors', 'away_abbr': 'GSW', 'visitor_pts': '107', 'home_team_name': 'Memphis Grizzlies', 'home_abbr': 'MEM', 'home_pts': '84', 'box_score_url': '/boxscores/201503270MEM.html', 'attendance': '18,119', 'overtimes': '', 'game_key': 'GSW20150327MEM800p'}, {'game_date': '2015-03-27', 'game_start_time': '8:00p', 'visitor_team_name': 'Sacramento Kings', 'away_abbr': 'SAC', 'visitor_pts': '88', 'home_team_name': 'New Orleans Pelicans', 'home_abbr': 'NOP', 'home_pts': '102', 'box_score_url': '/boxscores/201503270NOP.html', 'attendance': '17,669', 'overtimes': '', 'game_key': 'SAC20150327NOP800p'}, {'game_date': '2015-03-27', 'game_start_time': '8:30p', 'visitor_team_name': 'Dallas Mavericks', 'away_abbr': 'DAL', 'visitor_pts': '76', 'home_team_name': 'San Antonio Spurs', 'home_abbr': 'SAS', 'home_pts': '94', 'box_score_url': '/boxscores/201503270SAS.html', 'attendance': '18,581', 'overtimes': '', 'game_key': 'DAL20150327SAS830p'}, {'game_date': '2015-03-27', 'game_start_time': '9:00p', 'visitor_team_name': 'Utah Jazz', 'away_abbr': 'UTA', 'visitor_pts': '91', 'home_team_name': 'Denver Nuggets', 'home_abbr': 'DEN', 'home_pts': '107', 'box_score_url': '/boxscores/201503270DEN.html', 'attendance': '15,312', 'overtimes': '', 'game_key': 'UTA20150327DEN900p'}, {'game_date': '2015-03-27', 'game_start_time': '10:00p', 'visitor_team_name': 'Portland Trail Blazers', 'away_abbr': 'POR', 'visitor_pts': '87', 'home_team_name': 'Phoenix Suns', 'home_abbr': 'PHO', 'home_pts': '81', 'box_score_url': '/boxscores/201503270PHO.html', 'attendance': '17,219', 'overtimes': '', 'game_key': 'POR20150327PHO1000p'}, {'game_date': '2015-03-28', 'game_start_time': '7:00p', 'visitor_team_name': 'Atlanta Hawks', 'away_abbr': 'ATL', 'visitor_pts': '100', 'home_team_name': 'Charlotte Hornets', 'home_abbr': 'CHO', 'home_pts': '115', 'box_score_url': '/boxscores/201503280CHO.html', 'attendance': '19,122', 'overtimes': '', 'game_key': 'ATL20150328CHO700p'}, {'game_date': '2015-03-28', 'game_start_time': '8:00p', 'visitor_team_name': 'New York Knicks', 'away_abbr': 'NYK', 'visitor_pts': '80', 'home_team_name': 'Chicago Bulls', 'home_abbr': 'CHI', 'home_pts': '111', 'box_score_url': '/boxscores/201503280CHI.html', 'attendance': '22,152', 'overtimes': '', 'game_key': 'NYK20150328CHI800p'}, {'game_date': '2015-03-28', 'game_start_time': '8:30p', 'visitor_team_name': 'Golden State Warriors', 'away_abbr': 'GSW', 'visitor_pts': '108', 'home_team_name': 'Milwaukee Bucks', 'home_abbr': 'MIL', 'home_pts': '95', 'box_score_url': '/boxscores/201503280MIL.html', 'attendance': '18,717', 'overtimes': '', 'game_key': 'GSW20150328MIL830p'}, {'game_date': '2015-03-28', 'game_start_time': '9:00p', 'visitor_team_name': 'Oklahoma City Thunder', 'away_abbr': 'OKC', 'visitor_pts': '89', 'home_team_name': 'Utah Jazz', 'home_abbr': 'UTA', 'home_pts': '94', 'box_score_url': '/boxscores/201503280UTA.html', 'attendance': '19,911', 'overtimes': '', 'game_key': 'OKC20150328UTA900p'}, {'game_date': '2015-03-28', 'game_start_time': '10:00p', 'visitor_team_name': 'Denver Nuggets', 'away_abbr': 'DEN', 'visitor_pts': '114', 'home_team_name': 'Portland Trail Blazers', 'home_abbr': 'POR', 'home_pts': '120', 'box_score_url': '/boxscores/201503280POR.html', 'attendance': '19,769', 'overtimes': '', 'game_key': 'DEN20150328POR1000p'}, {'game_date': '2015-03-29', 'game_start_time': '12:30p', 'visitor_team_name': 'Houston Rockets', 'away_abbr': 'HOU', 'visitor_pts': '99', 'home_team_name': 'Washington Wizards', 'home_abbr': 'WAS', 'home_pts': '91', 'box_score_url': '/boxscores/201503290WAS.html', 'attendance': '20,356', 'overtimes': '', 'game_key': 'HOU20150329WAS1230p'}, {'game_date': '2015-03-29', 'game_start_time': '3:30p', 'visitor_team_name': 'Los Angeles Lakers', 'away_abbr': 'LAL', 'visitor_pts': '99', 'home_team_name': 'Brooklyn Nets', 'home_abbr': 'BRK', 'home_pts': '107', 'box_score_url': '/boxscores/201503290BRK.html', 'attendance': '17,732', 'overtimes': '', 'game_key': 'LAL20150329BRK330p'}, {'game_date': '2015-03-29', 'game_start_time': '4:00p', 'visitor_team_name': 'Minnesota Timberwolves', 'away_abbr': 'MIN', 'visitor_pts': '88', 'home_team_name': 'New Orleans Pelicans', 'home_abbr': 'NOP', 'home_pts': '110', 'box_score_url': '/boxscores/201503290NOP.html', 'attendance': '17,576', 'overtimes': '', 'game_key': 'MIN20150329NOP400p'}, {'game_date': '2015-03-29', 'game_start_time': '4:30p', 'visitor_team_name': 'Philadelphia 76ers', 'away_abbr': 'PHI', 'visitor_pts': '86', 'home_team_name': 'Cleveland Cavaliers', 'home_abbr': 'CLE', 'home_pts': '87', 'box_score_url': '/boxscores/201503290CLE.html', 'attendance': '20,562', 'overtimes': '', 'game_key': 'PHI20150329CLE430p'}, {'game_date': '2015-03-29', 'game_start_time': '6:00p', 'visitor_team_name': 'Los Angeles Clippers', 'away_abbr': 'LAC', 'visitor_pts': '119', 'home_team_name': 'Boston Celtics', 'home_abbr': 'BOS', 'home_pts': '106', 'box_score_url': '/boxscores/201503290BOS.html', 'attendance': '18,624', 'overtimes': '', 'game_key': 'LAC20150329BOS600p'}, {'game_date': '2015-03-29', 'game_start_time': '6:00p', 'visitor_team_name': 'Detroit Pistons', 'away_abbr': 'DET', 'visitor_pts': '102', 'home_team_name': 'Miami Heat', 'home_abbr': 'MIA', 'home_pts': '109', 'box_score_url': '/boxscores/201503290MIA.html', 'attendance': '19,685', 'overtimes': '', 'game_key': 'DET20150329MIA600p'}, {'game_date': '2015-03-29', 'game_start_time': '7:00p', 'visitor_team_name': 'Dallas Mavericks', 'away_abbr': 'DAL', 'visitor_pts': '99', 'home_team_name': 'Indiana Pacers', 'home_abbr': 'IND', 'home_pts': '104', 'box_score_url': '/boxscores/201503290IND.html', 'attendance': '17,358', 'overtimes': '', 'game_key': 'DAL20150329IND700p'}, {'game_date': '2015-03-29', 'game_start_time': '7:00p', 'visitor_team_name': 'Memphis Grizzlies', 'away_abbr': 'MEM', 'visitor_pts': '89', 'home_team_name': 'San Antonio Spurs', 'home_abbr': 'SAS', 'home_pts': '103', 'box_score_url': '/boxscores/201503290SAS.html', 'attendance': '18,581', 'overtimes': '', 'game_key': 'MEM20150329SAS700p'}, {'game_date': '2015-03-29', 'game_start_time': '9:00p', 'visitor_team_name': 'Oklahoma City Thunder', 'away_abbr': 'OKC', 'visitor_pts': '109', 'home_team_name': 'Phoenix Suns', 'home_abbr': 'PHO', 'home_pts': '97', 'box_score_url': '/boxscores/201503290PHO.html', 'attendance': '17,538', 'overtimes': '', 'game_key': 'OKC20150329PHO900p'}, {'game_date': '2015-03-30', 'game_start_time': '7:00p', 'visitor_team_name': 'Boston Celtics', 'away_abbr': 'BOS', 'visitor_pts': '116', 'home_team_name': 'Charlotte Hornets', 'home_abbr': 'CHO', 'home_pts': '104', 'box_score_url': '/boxscores/201503300CHO.html', 'attendance': '15,140', 'overtimes': '', 'game_key': 'BOS20150330CHO700p'}, {'game_date': '2015-03-30', 'game_start_time': '7:00p', 'visitor_team_name': 'Los Angeles Lakers', 'away_abbr': 'LAL', 'visitor_pts': '113', 'home_team_name': 'Philadelphia 76ers', 'home_abbr': 'PHI', 'home_pts': '111', 'box_score_url': '/boxscores/201503300PHI.html', 'attendance': '13,501', 'overtimes': 'OT', 'game_key': 'LAL20150330PHI700p'}, {'game_date': '2015-03-30', 'game_start_time': '7:30p', 'visitor_team_name': 'Milwaukee Bucks', 'away_abbr': 'MIL', 'visitor_pts': '88', 'home_team_name': 'Atlanta Hawks', 'home_abbr': 'ATL', 'home_pts': '101', 'box_score_url': '/boxscores/201503300ATL.html', 'attendance': '18,453', 'overtimes': '', 'game_key': 'MIL20150330ATL730p'}, {'game_date': '2015-03-30', 'game_start_time': '7:30p', 'visitor_team_name': 'Houston Rockets', 'away_abbr': 'HOU', 'visitor_pts': '96', 'home_team_name': 'Toronto Raptors', 'home_abbr': 'TOR', 'home_pts': '99', 'box_score_url': '/boxscores/201503300TOR.html', 'attendance': '19,800', 'overtimes': '', 'game_key': 'HOU20150330TOR730p'}, {'game_date': '2015-03-30', 'game_start_time': '8:00p', 'visitor_team_name': 'Sacramento Kings', 'away_abbr': 'SAC', 'visitor_pts': '83', 'home_team_name': 'Memphis Grizzlies', 'home_abbr': 'MEM', 'home_pts': '97', 'box_score_url': '/boxscores/201503300MEM.html', 'attendance': '17,218', 'overtimes': '', 'game_key': 'SAC20150330MEM800p'}, {'game_date': '2015-03-30', 'game_start_time': '8:00p', 'visitor_team_name': 'Utah Jazz', 'away_abbr': 'UTA', 'visitor_pts': '104', 'home_team_name': 'Minnesota Timberwolves', 'home_abbr': 'MIN', 'home_pts': '84', 'box_score_url': '/boxscores/201503300MIN.html', 'attendance': '12,229', 'overtimes': '', 'game_key': 'UTA20150330MIN800p'}, {'game_date': '2015-03-30', 'game_start_time': '10:00p', 'visitor_team_name': 'Phoenix Suns', 'away_abbr': 'PHO', 'visitor_pts': '86', 'home_team_name': 'Portland Trail Blazers', 'home_abbr': 'POR', 'home_pts': '109', 'box_score_url': '/boxscores/201503300POR.html', 'attendance': '19,441', 'overtimes': '', 'game_key': 'PHO20150330POR1000p'}, {'game_date': '2015-03-31', 'game_start_time': '7:30p', 'visitor_team_name': 'Indiana Pacers', 'away_abbr': 'IND', 'visitor_pts': '106', 'home_team_name': 'Brooklyn Nets', 'home_abbr': 'BRK', 'home_pts': '111', 'box_score_url': '/boxscores/201503310BRK.html', 'attendance': '16,756', 'overtimes': '', 'game_key': 'IND20150331BRK730p'}, {'game_date': '2015-03-31', 'game_start_time': '7:30p', 'visitor_team_name': 'Atlanta Hawks', 'away_abbr': 'ATL', 'visitor_pts': '95', 'home_team_name': 'Detroit Pistons', 'home_abbr': 'DET', 'home_pts': '105', 'box_score_url': '/boxscores/201503310DET.html', 'attendance': '14,242', 'overtimes': '', 'game_key': 'ATL20150331DET730p'}, {'game_date': '2015-03-31', 'game_start_time': '8:00p', 'visitor_team_name': 'San Antonio Spurs', 'away_abbr': 'SAS', 'visitor_pts': '95', 'home_team_name': 'Miami Heat', 'home_abbr': 'MIA', 'home_pts': '81', 'box_score_url': '/boxscores/201503310MIA.html', 'attendance': '20,047', 'overtimes': '', 'game_key': 'SAS20150331MIA800p'}, {'game_date': '2015-03-31', 'game_start_time': '10:30p', 'visitor_team_name': 'Golden State Warriors', 'away_abbr': 'GSW', 'visitor_pts': '110', 'home_team_name': 'Los Angeles Clippers', 'home_abbr': 'LAC', 'home_pts': '106', 'box_score_url': '/boxscores/201503310LAC.html', 'attendance': '19,601', 'overtimes': '', 'game_key': 'GSW20150331LAC1030p'}]"
     ]
    },
    {
     "name": "stdout",
     "output_type": "stream",
     "text": [
      "\n"
     ]
    }
   ],
   "source": [
    "html = requests.get(url)\n",
    "\n",
    "if html.ok:\n",
    "    soup = BeautifulSoup(html.content, 'html.parser')  \n",
    "else:\n",
    "    print(f'No data for {month} {year} because enountered error code {html.status_code}')\n",
    "    #continue\n",
    "\n",
    "rows = soup.find('table', id=\"schedule\").find('tbody').find_all('tr')\n",
    "#print(rows)\n",
    "\n",
    "for row in rows:\n",
    "    game_date_node = row.find('th',{\"data-stat\": \"date_game\"})\n",
    "    if game_date_node is not None:\n",
    "\n",
    "        game_date = datetime.strptime(game_date_node.text, '%a, %b %d, %Y').date()\n",
    "        if game_date >= startDate and game_date <= endDate:\n",
    "            #cells = row.find_all(['td', 'th'])\n",
    "            r = {}\n",
    "            #r.setdefault(game_start_time, []).append(value)\n",
    "\n",
    "            v1 = row.find('th',{\"data-stat\": \"date_game\"})\n",
    "            #r[k1] = v1.text\n",
    "            r['game_date'] = datetime.strptime(v1.text, '%a, %b %d, %Y').strftime(\"%Y-%m-%d\")\n",
    "\n",
    "            v2 = row.find('td',{\"data-stat\": \"game_start_time\"})\n",
    "            r['game_start_time'] = v2.text if v2 else None\n",
    "\n",
    "            v3 = row.find('td',{\"data-stat\": \"visitor_team_name\"})\n",
    "            r['visitor_team_name'] = v3.text\n",
    "            r['away_abbr'] = v3['csk'].split('.')[0]\n",
    "\n",
    "            v4 = row.find('td',{\"data-stat\": \"visitor_pts\"})\n",
    "            r['visitor_pts'] = v4.text if v4 else None\n",
    "\n",
    "            v5 = row.find('td',{\"data-stat\": \"home_team_name\"})\n",
    "            r['home_team_name'] = v5.text\n",
    "            r['home_abbr'] = v5['csk'].split('.')[0]\n",
    "\n",
    "            v6 = row.find('td',{\"data-stat\": \"home_pts\"})\n",
    "            r['home_pts'] = v6.text if v6 else None\n",
    "\n",
    "            v7 = row.find('td',{\"data-stat\": \"box_score_text\"}).find('a',href=True)\n",
    "            r['box_score_url'] = v7['href'] if v7 else None\n",
    "\n",
    "            v8 = row.find('td',{\"data-stat\": \"attendance\"})\n",
    "            r['attendance'] = v8.text if v8 else None\n",
    "\n",
    "            v9 = row.find('td',{\"data-stat\": \"overtimes\"})\n",
    "            r['overtimes'] = v9.text if v9 else None\n",
    "\n",
    "            if r['game_start_time']:\n",
    "                v12 = r['away_abbr'] + r['game_date'].replace('-','') + r['home_abbr'] + r['game_start_time'].replace(':','')\n",
    "            else:\n",
    "                v12 = r['away_abbr'] + r['game_date'].replace('-','') + r['home_abbr']\n",
    "            r['game_key'] = v12 if v12 else None\n",
    "\n",
    "            schedule.append(r)\n",
    "print(schedule)            "
   ]
  },
  {
   "cell_type": "code",
   "execution_count": 108,
   "metadata": {},
   "outputs": [],
   "source": [
    "        \n",
    "            ##########################################################################\n",
    "            # Scrape Games in Schedule\n",
    "            ##########################################################################\n",
    "            games_data = []\n",
    "            player_game_data = []\n",
    "\n",
    "            for game in schedule:\n",
    "                if 'box_score_url' in game and game['box_score_url'] != \"\" and game['box_score_url'] is not None:\n",
    "\n",
    "\n",
    "                    url = \"https://www.basketball-reference.com\" + game['box_score_url']\n",
    "\n",
    "                    #print(url)\n",
    "                    r = requests.get(url)\n",
    "                    #print('here2')\n",
    "                    soup = BeautifulSoup(str(r.content).replace(\"<!--\",\"\").replace('-->',''), 'html.parser')\n",
    "\n",
    "                    ##############################################\n",
    "                    # Line Score\n",
    "                    rows = soup.find('table', id=\"line_score\").find_all('tr')\n",
    "\n",
    "                    # Away Line Score\n",
    "                    r_num = 1\n",
    "                    for away in rows[2].find_all('td'):\n",
    "                        test_strong = away.find('strong') # Strong represents the total score ... ignore\n",
    "                        if test_strong is None and r_num < 7:\n",
    "                            k='a_g' + str(r_num) + '_score'\n",
    "                            game[k] = away.text if away.text != \"\" else None\n",
    "                        r_num+=1\n",
    "\n",
    "                    # Home Line Score\n",
    "                    r_num = 1\n",
    "                    for home in rows[3].find_all('td'):\n",
    "                        test_strong = home.find('strong') # Strong represents the total score ... ignore\n",
    "                        if test_strong is None and r_num < 7:\n",
    "                            k='h_g' + str(r_num) + '_score'\n",
    "                            game[k] = home.text if home.text != \"\" else None\n",
    "                        r_num+=1    \n",
    "\n",
    "                    ##############################################\n",
    "                    # Four Facts\n",
    "                    rows = soup.find('table', id=\"four_factors\").find_all('tr')\n",
    "\n",
    "                    # Away Four Factors\n",
    "                    game['a_ff_pace'] = rows[2].find('td',{\"data-stat\": \"pace\"}).text\n",
    "                    game['a_ff_efg_pct'] = rows[2].find('td',{\"data-stat\": \"efg_pct\"}).text\n",
    "                    game['a_ff_tov_pct'] = rows[2].find('td',{\"data-stat\": \"tov_pct\"}).text\n",
    "                    game['a_ff_orb_pct'] = rows[2].find('td',{\"data-stat\": \"orb_pct\"}).text\n",
    "                    game['a_ff_ft_rate'] = rows[2].find('td',{\"data-stat\": \"ft_rate\"}).text\n",
    "                    game['a_ff_off_rtg'] = rows[2].find('td',{\"data-stat\": \"off_rtg\"}).text\n",
    "\n",
    "                    # Home Four Factors\n",
    "                    game['h_ff_pace'] = rows[3].find('td',{\"data-stat\": \"pace\"}).text\n",
    "                    game['h_ff_efg_pct'] = rows[3].find('td',{\"data-stat\": \"efg_pct\"}).text\n",
    "                    game['h_ff_tov_pct'] = rows[3].find('td',{\"data-stat\": \"tov_pct\"}).text\n",
    "                    game['h_ff_orb_pct'] = rows[3].find('td',{\"data-stat\": \"orb_pct\"}).text\n",
    "                    game['h_ff_ft_rate'] = rows[3].find('td',{\"data-stat\": \"ft_rate\"}).text\n",
    "                    game['h_ff_off_rtg'] = rows[3].find('td',{\"data-stat\": \"off_rtg\"}).text\n",
    "                    game['load_datetime'] = datetime.now().strftime(\"%Y-%m-%d %H:%M:%S\")        \n",
    "\n",
    "                    #now = datetime.now() # current date and time\n",
    "                    #now.strftime(\"%m/%d/%Y, %H:%M:%S\")\n",
    "\n",
    "\n",
    "                    #player_game_data = []\n",
    "                    game_date = game['game_date']\n",
    "\n",
    "                    ##############################################\n",
    "                    # Game Box - Home\n",
    "                    #box-WAS-q1-basic\n",
    "                    stat_type = \"game\"\n",
    "                    h_or_a = \"h\"\n",
    "                    team_abbrev = game['home_abbr']\n",
    "                    id_string = \"box-\" + game['home_abbr'] + \"-\" + stat_type + \"-basic\"\n",
    "                    player_game_data = get_game_players(soup, player_game_data, id_string, game['game_key'], stat_type, h_or_a, team_abbrev, game_date)\n",
    "\n",
    "                    ##############################################\n",
    "                    # Game Box - Away\n",
    "                    #box-WAS-q1-basic\n",
    "                    stat_type = \"game\"\n",
    "                    h_or_a = \"a\"\n",
    "                    team_abbrev = game['away_abbr']\n",
    "                    id_string = \"box-\" + game['away_abbr'] + \"-\" + stat_type + \"-basic\"\n",
    "                    player_game_data = get_game_players(soup, player_game_data, id_string, game['game_key'], stat_type, h_or_a, team_abbrev, game_date)\n",
    "\n",
    "#                     ##############################################\n",
    "#                     # Q1 Box - Home\n",
    "#                     stat_type = \"q1\"\n",
    "#                     h_or_a = \"h\"\n",
    "#                     team_abbrev = game['home_abbr']\n",
    "#                     id_string = \"box-\" + game['home_abbr'] + \"-\" + stat_type + \"-basic\"\n",
    "#                     player_game_data = get_game_players(soup, player_game_data, id_string, game['game_key'], stat_type, h_or_a, team_abbrev, game_date)\n",
    "\n",
    "#                     ##############################################\n",
    "#                     # Q1 Box - Away\n",
    "#                     stat_type = \"q1\"\n",
    "#                     h_or_a = \"a\"\n",
    "#                     team_abbrev = game['away_abbr']\n",
    "#                     id_string = \"box-\" + game['away_abbr'] + \"-\" + stat_type + \"-basic\"\n",
    "#                     player_game_data = get_game_players(soup, player_game_data, id_string, game['game_key'], stat_type, h_or_a, team_abbrev, game_date)\n",
    "\n",
    "#                     ##############################################\n",
    "#                     # Q2 Box - Home\n",
    "#                     stat_type = \"q2\"\n",
    "#                     h_or_a = \"h\"\n",
    "#                     team_abbrev = game['home_abbr']\n",
    "#                     id_string = \"box-\" + game['home_abbr'] + \"-\" + stat_type + \"-basic\"\n",
    "#                     player_game_data = get_game_players(soup, player_game_data, id_string, game['game_key'], stat_type, h_or_a, team_abbrev, game_date)\n",
    "\n",
    "#                     ##############################################\n",
    "#                     # Q2 Box - Away\n",
    "#                     stat_type = \"q2\"\n",
    "#                     h_or_a = \"a\"\n",
    "#                     team_abbrev = game['away_abbr']\n",
    "#                     id_string = \"box-\" + game['away_abbr'] + \"-\" + stat_type + \"-basic\"\n",
    "#                     player_game_data = get_game_players(soup, player_game_data, id_string, game['game_key'], stat_type, h_or_a, team_abbrev, game_date)\n",
    "\n",
    "#                     ##############################################\n",
    "#                     # Q3 Box - Home\n",
    "#                     stat_type = \"q3\"\n",
    "#                     h_or_a = \"h\"\n",
    "#                     team_abbrev = game['home_abbr']\n",
    "#                     id_string = \"box-\" + game['home_abbr'] + \"-\" + stat_type + \"-basic\"\n",
    "#                     player_game_data = get_game_players(soup, player_game_data, id_string, game['game_key'], stat_type, h_or_a, team_abbrev, game_date)\n",
    "\n",
    "#                     ##############################################\n",
    "#                     # Q3 Box - Away\n",
    "#                     stat_type = \"q3\"\n",
    "#                     h_or_a = \"a\"\n",
    "#                     team_abbrev = game['away_abbr']\n",
    "#                     id_string = \"box-\" + game['away_abbr'] + \"-\" + stat_type + \"-basic\"\n",
    "#                     player_game_data = get_game_players(soup, player_game_data, id_string, game['game_key'], stat_type, h_or_a, team_abbrev, game_date)\n",
    "\n",
    "#                     ##############################################\n",
    "#                     # Q4 Box - Home\n",
    "#                     stat_type = \"q4\"\n",
    "#                     h_or_a = \"h\"\n",
    "#                     team_abbrev = game['home_abbr']\n",
    "#                     id_string = \"box-\" + game['home_abbr'] + \"-\" + stat_type + \"-basic\"\n",
    "#                     player_game_data = get_game_players(soup, player_game_data, id_string, game['game_key'], stat_type, h_or_a, team_abbrev, game_date)\n",
    "\n",
    "#                     ##############################################\n",
    "#                     # Q4 Box - Away\n",
    "#                     stat_type = \"q4\"\n",
    "#                     h_or_a = \"a\"\n",
    "#                     team_abbrev = game['away_abbr']\n",
    "#                     id_string = \"box-\" + game['away_abbr'] + \"-\" + stat_type + \"-basic\"\n",
    "#                     player_game_data = get_game_players(soup, player_game_data, id_string, game['game_key'], stat_type, h_or_a, team_abbrev, game_date)\n",
    "\n",
    "                    games_data.append(game)"
   ]
  },
  {
   "cell_type": "code",
   "execution_count": 27,
   "metadata": {},
   "outputs": [],
   "source": [
    "pandas_games_data = pd.DataFrame(games_data)"
   ]
  },
  {
   "cell_type": "code",
   "execution_count": 29,
   "metadata": {},
   "outputs": [
    {
     "data": {
      "text/plain": [
       "0      8:00p\n",
       "1      8:00p\n",
       "2     10:30p\n",
       "3      7:00p\n",
       "4      7:30p\n",
       "5      7:30p\n",
       "6      7:30p\n",
       "7      7:30p\n",
       "8      7:30p\n",
       "9      8:00p\n",
       "10     8:00p\n",
       "11     8:00p\n",
       "12     8:00p\n",
       "13    10:00p\n",
       "14    10:00p\n",
       "15    10:00p\n",
       "16    10:30p\n",
       "17     7:00p\n",
       "18     8:00p\n",
       "19    10:30p\n",
       "20     7:00p\n",
       "21     7:00p\n",
       "22     7:00p\n",
       "23     7:30p\n",
       "24     7:30p\n",
       "25     8:00p\n",
       "26     8:00p\n",
       "27     8:30p\n",
       "28     9:00p\n",
       "29     9:30p\n",
       "30    10:00p\n",
       "31    10:30p\n",
       "32     7:00p\n",
       "33     7:00p\n",
       "34     7:30p\n",
       "35     8:00p\n",
       "36    10:00p\n",
       "37    10:30p\n",
       "Name: game_start_time, dtype: object"
      ]
     },
     "execution_count": 29,
     "metadata": {},
     "output_type": "execute_result"
    }
   ],
   "source": [
    "pandas_games_data['game_start_time']"
   ]
  },
  {
   "cell_type": "code",
   "execution_count": null,
   "metadata": {},
   "outputs": [],
   "source": [
    "            ##########################################################################\n",
    "            # Check for empty game data\n",
    "            ##########################################################################\n",
    "            # Continue to next month if there were no games in the month starting at the start date\n",
    "            if not games_data:\n",
    "                continue                    \n",
    "  "
   ]
  },
  {
   "cell_type": "code",
   "execution_count": 37,
   "metadata": {},
   "outputs": [],
   "source": [
    "project = 'nba-predictions-dev'"
   ]
  },
  {
   "cell_type": "code",
   "execution_count": 43,
   "metadata": {},
   "outputs": [
    {
     "name": "stdout",
     "output_type": "stream",
     "text": [
      "Loading data for october 2016\n",
      "Job ID: d6e1550a-cf9f-4c71-9e94-7e30078d29c6 was started 2021-02-24 20:46:21.330000+00:00 and ended 2021-02-24 20:46:23.183000+00:00 loading 983 row(s) to nba-predictions-dev.nba.raw_basketballreference_playerbox\n",
      "Job ID: 18777676-ad8a-4154-84eb-1e5b25641c1e was started 2021-02-24 20:46:24.144000+00:00 and ended 2021-02-24 20:46:26.142000+00:00 loading 38 row(s) to nba-predictions-dev.nba.raw_basketballreference_game\n",
      "Successfully loaded 1966 row(s) to raw_basketballreference_playerbox and 38 to raw_basketballreference_game\n"
     ]
    }
   ],
   "source": [
    "  \n",
    "            ##########################################################################\n",
    "            # Save to BigQuery\n",
    "            ##########################################################################\n",
    "\n",
    "            # print(player_game_data)\n",
    "            # print(games_data)\n",
    "\n",
    "            # Config\n",
    "            client = bigquery.Client(project=project)\n",
    "            print(f'Loading data for {month} {year}')\n",
    "            \n",
    "            #player game data\n",
    "            pandas_player_game_data = pd.DataFrame(player_game_data)\n",
    "            pandas_player_game_data['game_date'] = pandas_player_game_data['game_date'].astype('datetime64[ns]')\n",
    "            pandas_player_game_data['load_datetime'] = pandas_player_game_data['load_datetime'].astype('datetime64[ns]')\n",
    "            job_config = bigquery.LoadJobConfig()\n",
    "            job_config.autodetect='True'\n",
    "            job_config.create_disposition = 'CREATE_IF_NEEDED'\n",
    "            job_config.write_disposition = 'WRITE_APPEND'\n",
    "             ## Set schema for specific columns where more information is needed (e.g. not NULLABLE or specific date/time)\n",
    "            job_config.schema = [\n",
    "                bigquery.SchemaField('player_stat_key','STRING', 'REQUIRED'),\n",
    "                bigquery.SchemaField('game_date','DATE'),\n",
    "                bigquery.SchemaField('load_datetime','TIMESTAMP'),\n",
    "                bigquery.SchemaField('starter_flag','BOOL')\n",
    "            ]\n",
    "            job_config.time_partitioning = bigquery.TimePartitioning(\n",
    "                type_=bigquery.TimePartitioningType.DAY,\n",
    "                field=\"game_date\")\n",
    "            job_player = client.load_table_from_dataframe(pandas_player_game_data, 'nba.raw_basketballreference_playerbox' \\\n",
    "                                                          , job_config=job_config, project=project)\n",
    "            player_result = job_player.result()\n",
    "            player_message = (\n",
    "                f'Job ID: {player_result.job_id} '\n",
    "                f'was started {player_result.started} '\n",
    "                f'and ended {player_result.ended} '\n",
    "                f'loading {player_result.output_rows} row(s) '\n",
    "                f'to {player_result.destination}')\n",
    "            print(player_message)\n",
    "            player_game_rows_loaded = player_game_rows_loaded + player_result.output_rows\n",
    "\n",
    "            #game data\n",
    "            pandas_games_data = pd.DataFrame(games_data)\n",
    "            pandas_games_data['game_date'] = pandas_games_data['game_date'].astype('datetime64[ns]')\n",
    "            pandas_games_data['load_datetime'] = pandas_games_data['load_datetime'].astype('datetime64[ns]')\n",
    "            job_config = bigquery.LoadJobConfig()\n",
    "            job_config.autodetect='True'\n",
    "            job_config.create_disposition = 'CREATE_IF_NEEDED'\n",
    "            job_config.write_disposition = 'WRITE_APPEND'\n",
    "            ## Set schema for specific columns where more information is needed (e.g. not NULLABLE or specific date/time)\n",
    "            job_config.schema = [\n",
    "                bigquery.SchemaField('game_key','STRING', 'REQUIRED'),\n",
    "                bigquery.SchemaField('game_date','STRING', 'REQUIRED'),\n",
    "                bigquery.SchemaField('home_team_name','STRING', 'REQUIRED'),\n",
    "                bigquery.SchemaField('home_abbr','STRING', 'REQUIRED'),\n",
    "                bigquery.SchemaField('visitor_team_name','STRING', 'REQUIRED'),\n",
    "                bigquery.SchemaField('away_abbr','STRING', 'REQUIRED'),\n",
    "                bigquery.SchemaField('game_date','DATE'),\n",
    "                bigquery.SchemaField('load_datetime','TIMESTAMP'),\n",
    "            ]\n",
    "            job_config.time_partitioning = bigquery.TimePartitioning(\n",
    "                type_=bigquery.TimePartitioningType.DAY,\n",
    "                field=\"game_date\")\n",
    "            job_game = client.load_table_from_dataframe(pandas_games_data, 'nba.raw_basketballreference_game', \\\n",
    "                                                        job_config=job_config, project=project)\n",
    "            game_result = job_game.result()\n",
    "            game_message = (\n",
    "                f'Job ID: {game_result.job_id} '\n",
    "                f'was started {game_result.started} '\n",
    "                f'and ended {game_result.ended} '\n",
    "                f'loading {game_result.output_rows} row(s) '\n",
    "                f'to {game_result.destination}')\n",
    "            print(game_message)\n",
    "            game_rows_loaded = game_rows_loaded + game_result.output_rows\n",
    "\n",
    "            print(f'Successfully loaded {player_game_rows_loaded} row(s) to raw_basketballreference_playerbox and {game_rows_loaded} to raw_basketballreference_game')"
   ]
  },
  {
   "cell_type": "code",
   "execution_count": null,
   "metadata": {},
   "outputs": [],
   "source": []
  }
 ],
 "metadata": {
  "kernelspec": {
   "display_name": "Python 3",
   "language": "python",
   "name": "python3"
  },
  "language_info": {
   "codemirror_mode": {
    "name": "ipython",
    "version": 3
   },
   "file_extension": ".py",
   "mimetype": "text/x-python",
   "name": "python",
   "nbconvert_exporter": "python",
   "pygments_lexer": "ipython3",
   "version": "3.7.3"
  }
 },
 "nbformat": 4,
 "nbformat_minor": 5
}
