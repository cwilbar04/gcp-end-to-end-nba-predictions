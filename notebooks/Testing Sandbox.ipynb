{
 "cells": [
  {
   "cell_type": "code",
   "execution_count": 1,
   "metadata": {},
   "outputs": [],
   "source": [
    "form_dict = {'HomeTeam':'Atlanta Hawks', 'AwayTeam':'Boston Celtics'}"
   ]
  },
  {
   "cell_type": "code",
   "execution_count": 9,
   "metadata": {},
   "outputs": [],
   "source": [
    "import pandas as pd\n",
    "import numpy as np\n",
    "\n",
    "def predicted_pointspread(form_dict):\n",
    "    try:\n",
    "        df = pd.DataFrame(form_dict, index=[0])\n",
    "        pointspread = np.random.randint(-40,40)\n",
    "        pointspread = 1 if pointspread == 0 else pointspread\n",
    "        if pointspread > 0:\n",
    "            winner = df['HomeTeam'][0]\n",
    "            loser = df['AwayTeam'][0]\n",
    "        else:\n",
    "            winner = df['AwayTeam'][0]\n",
    "            loser = df['HomeTeam'][0]\n",
    "        return f'I predict the {winner} will beat the {loser} by {abs(pointspread)} points'\n",
    "    except:\n",
    "        return 'Sorry, there was a problem processing the data entered... Please go back and double check your entries, thanks!'\n",
    "        "
   ]
  },
  {
   "cell_type": "code",
   "execution_count": 10,
   "metadata": {},
   "outputs": [
    {
     "data": {
      "text/plain": [
       "'I predict the Boston Celtics will beat the Atlanta Hawks by 39 points'"
      ]
     },
     "execution_count": 10,
     "metadata": {},
     "output_type": "execute_result"
    }
   ],
   "source": [
    "predicted_pointspread(form_dict)"
   ]
  },
  {
   "cell_type": "code",
   "execution_count": 5,
   "metadata": {},
   "outputs": [],
   "source": [
    "df = pd.DataFrame(form_dict, index=[0])"
   ]
  },
  {
   "cell_type": "code",
   "execution_count": 8,
   "metadata": {},
   "outputs": [
    {
     "data": {
      "text/plain": [
       "'Atlanta Hawks'"
      ]
     },
     "execution_count": 8,
     "metadata": {},
     "output_type": "execute_result"
    }
   ],
   "source": [
    "df['HomeTeam'][0]"
   ]
  },
  {
   "cell_type": "code",
   "execution_count": null,
   "metadata": {},
   "outputs": [],
   "source": []
  }
 ],
 "metadata": {
  "kernelspec": {
   "display_name": "Python 3",
   "language": "python",
   "name": "python3"
  },
  "language_info": {
   "codemirror_mode": {
    "name": "ipython",
    "version": 3
   },
   "file_extension": ".py",
   "mimetype": "text/x-python",
   "name": "python",
   "nbconvert_exporter": "python",
   "pygments_lexer": "ipython3",
   "version": "3.7.3"
  }
 },
 "nbformat": 4,
 "nbformat_minor": 5
}
