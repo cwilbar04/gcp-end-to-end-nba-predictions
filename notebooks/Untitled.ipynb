{
 "cells": [
  {
   "cell_type": "code",
   "execution_count": 2,
   "id": "successful-paragraph",
   "metadata": {},
   "outputs": [],
   "source": [
    "project_id = 'nba-predictions-test'"
   ]
  },
  {
   "cell_type": "code",
   "execution_count": 7,
   "id": "united-japan",
   "metadata": {},
   "outputs": [
    {
     "name": "stdout",
     "output_type": "stream",
     "text": [
      "^C\n"
     ]
    }
   ],
   "source": [
    "!gcloud init"
   ]
  },
  {
   "cell_type": "code",
   "execution_count": 3,
   "id": "local-hollow",
   "metadata": {},
   "outputs": [
    {
     "name": "stderr",
     "output_type": "stream",
     "text": [
      "ERROR: (gcloud.projects.create) Project creation failed. The project ID you specified is already in use by another project. Please try an alternative ID.\n"
     ]
    }
   ],
   "source": [
    "!gcloud projects create {project_id} --enable-cloud-apis"
   ]
  },
  {
   "cell_type": "code",
   "execution_count": 5,
   "id": "junior-insurance",
   "metadata": {},
   "outputs": [
    {
     "name": "stdout",
     "output_type": "stream",
     "text": [
      "[accessibility]\n",
      "screen_reader = False\n",
      "[compute]\n",
      "region = us-central1\n",
      "zone = us-central1-c\n",
      "[core]\n",
      "account = cwilbar04@gmail.com\n",
      "disable_usage_reporting = True\n",
      "project = nba-predictions-dev\n"
     ]
    },
    {
     "name": "stderr",
     "output_type": "stream",
     "text": [
      "\n",
      "Your active configuration is: [default]\n"
     ]
    }
   ],
   "source": [
    "!gcloud config list"
   ]
  },
  {
   "cell_type": "code",
   "execution_count": 6,
   "id": "female-outline",
   "metadata": {},
   "outputs": [
    {
     "name": "stderr",
     "output_type": "stream",
     "text": [
      "Listed 0 items.\n"
     ]
    }
   ],
   "source": [
    "!gcloud deployment-manager deployments list"
   ]
  },
  {
   "cell_type": "code",
   "execution_count": 8,
   "id": "seven-survey",
   "metadata": {},
   "outputs": [
    {
     "name": "stderr",
     "output_type": "stream",
     "text": [
      "Beginning update. This process may take several minutes.\n",
      "\n",
      "ERROR: (gcloud.components.update) You cannot perform this action because you do not have permission to modify the Google Cloud SDK installation directory [C:\\Program Files (x86)\\Google\\Cloud SDK\\google-cloud-sdk].\n",
      "\n",
      "Click the Google Cloud SDK Shell icon and re-run the command in that window, or re-run the command with elevated privileges by right-clicking cmd.exe and selecting \"Run as Administrator\".\n"
     ]
    }
   ],
   "source": [
    "!gcloud components update"
   ]
  },
  {
   "cell_type": "code",
   "execution_count": null,
   "id": "digital-honduras",
   "metadata": {},
   "outputs": [],
   "source": []
  }
 ],
 "metadata": {
  "kernelspec": {
   "display_name": "Python 3",
   "language": "python",
   "name": "python3"
  },
  "language_info": {
   "codemirror_mode": {
    "name": "ipython",
    "version": 3
   },
   "file_extension": ".py",
   "mimetype": "text/x-python",
   "name": "python",
   "nbconvert_exporter": "python",
   "pygments_lexer": "ipython3",
   "version": "3.9.1"
  }
 },
 "nbformat": 4,
 "nbformat_minor": 5
}
