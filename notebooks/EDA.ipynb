{
 "cells": [
  {
   "cell_type": "markdown",
   "metadata": {
    "colab_type": "text",
    "id": "view-in-github"
   },
   "source": [
    "<a href=\"https://colab.research.google.com/github/cwilbar04/nba-predictions/blob/main/notebooks/EDA.ipynb\" target=\"_parent\"><img src=\"https://colab.research.google.com/assets/colab-badge.svg\" alt=\"Open In Colab\"/></a>"
   ]
  },
  {
   "cell_type": "code",
   "execution_count": 2,
   "metadata": {},
   "outputs": [
    {
     "name": "stdout",
     "output_type": "stream",
     "text": [
      "Collecting seaborn\n",
      "  Downloading seaborn-0.11.1-py3-none-any.whl (285 kB)\n",
      "Requirement already satisfied: numpy>=1.15 in c:\\users\\cwilb\\source\\repos\\nba-predictions\\.venv\\lib\\site-packages (from seaborn) (1.20.1)\n",
      "Requirement already satisfied: matplotlib>=2.2 in c:\\users\\cwilb\\source\\repos\\nba-predictions\\.venv\\lib\\site-packages (from seaborn) (3.3.4)\n",
      "Requirement already satisfied: pandas>=0.23 in c:\\users\\cwilb\\source\\repos\\nba-predictions\\.venv\\lib\\site-packages (from seaborn) (1.2.2)\n",
      "Collecting scipy>=1.0\n",
      "  Downloading scipy-1.6.1-cp39-cp39-win_amd64.whl (32.7 MB)\n",
      "Requirement already satisfied: pyparsing!=2.0.4,!=2.1.2,!=2.1.6,>=2.0.3 in c:\\users\\cwilb\\source\\repos\\nba-predictions\\.venv\\lib\\site-packages (from matplotlib>=2.2->seaborn) (2.4.7)\n",
      "Requirement already satisfied: python-dateutil>=2.1 in c:\\users\\cwilb\\source\\repos\\nba-predictions\\.venv\\lib\\site-packages (from matplotlib>=2.2->seaborn) (2.8.1)\n",
      "Requirement already satisfied: pillow>=6.2.0 in c:\\users\\cwilb\\source\\repos\\nba-predictions\\.venv\\lib\\site-packages (from matplotlib>=2.2->seaborn) (8.1.0)\n",
      "Requirement already satisfied: kiwisolver>=1.0.1 in c:\\users\\cwilb\\source\\repos\\nba-predictions\\.venv\\lib\\site-packages (from matplotlib>=2.2->seaborn) (1.3.1)\n",
      "Requirement already satisfied: cycler>=0.10 in c:\\users\\cwilb\\source\\repos\\nba-predictions\\.venv\\lib\\site-packages (from matplotlib>=2.2->seaborn) (0.10.0)\n",
      "Requirement already satisfied: six in c:\\users\\cwilb\\source\\repos\\nba-predictions\\.venv\\lib\\site-packages (from cycler>=0.10->matplotlib>=2.2->seaborn) (1.15.0)\n",
      "Requirement already satisfied: pytz>=2017.3 in c:\\users\\cwilb\\source\\repos\\nba-predictions\\.venv\\lib\\site-packages (from pandas>=0.23->seaborn) (2021.1)\n",
      "Installing collected packages: scipy, seaborn\n",
      "Successfully installed scipy-1.6.1 seaborn-0.11.1\n"
     ]
    }
   ],
   "source": [
    "!pip install seaborn"
   ]
  },
  {
   "cell_type": "code",
   "execution_count": 8,
   "metadata": {
    "id": "UXn5C2-qCZeV"
   },
   "outputs": [],
   "source": [
    "import matplotlib.pyplot as plt\n",
    "import seaborn as sb\n",
    "import pandas as pd\n",
    "import numpy as np\n",
    "from google.cloud import bigquery\n",
    "from datetime import datetime\n",
    "import os"
   ]
  },
  {
   "cell_type": "code",
   "execution_count": 9,
   "metadata": {
    "colab": {
     "base_uri": "https://localhost:8080/"
    },
    "id": "OhPhLyV5Im2V",
    "outputId": "d33d6c27-6efd-42e6-a43f-8cd1666bbf9c"
   },
   "outputs": [],
   "source": [
    "# from google.colab import auth\n",
    "# auth.authenticate_user()\n",
    "# print('Authenticated')"
   ]
  },
  {
   "cell_type": "code",
   "execution_count": 10,
   "metadata": {
    "colab": {
     "base_uri": "https://localhost:8080/",
     "height": 35
    },
    "id": "aDx51u9uItPq",
    "outputId": "50e2062c-c485-4134-a32e-01852e0c4e64"
   },
   "outputs": [],
   "source": [
    "my_project_id = \"nba-predictions-dev\""
   ]
  },
  {
   "cell_type": "code",
   "execution_count": 11,
   "metadata": {
    "id": "Jel3q5NsIvkX"
   },
   "outputs": [
    {
     "name": "stdout",
     "output_type": "stream",
     "text": [
      "env: GOOGLE_APPLICATION_CREDENTIALS=C:\\GCP\\nba-predictions-dev-d76075f0a064.json\n"
     ]
    }
   ],
   "source": [
    "%env GOOGLE_APPLICATION_CREDENTIALS C:\\GCP\\nba-predictions-dev-d76075f0a064.json"
   ]
  },
  {
   "cell_type": "code",
   "execution_count": 12,
   "metadata": {},
   "outputs": [
    {
     "name": "stdout",
     "output_type": "stream",
     "text": [
      "env: GOOGLE_CLOUD_PROJECT=nba-predictions-dev\n"
     ]
    }
   ],
   "source": [
    "%env GOOGLE_CLOUD_PROJECT nba-predictions-dev"
   ]
  },
  {
   "cell_type": "code",
   "execution_count": 13,
   "metadata": {},
   "outputs": [],
   "source": [
    "credentials = os.environ.get(\"GOOGLE_APPLICATION_CREDENTIALS\")"
   ]
  },
  {
   "cell_type": "code",
   "execution_count": 14,
   "metadata": {},
   "outputs": [],
   "source": [
    "client = bigquery.Client(project=my_project_id)"
   ]
  },
  {
   "cell_type": "code",
   "execution_count": null,
   "metadata": {},
   "outputs": [],
   "source": [
    "def my_func(request)\n",
    "    try:\n",
    "        request_json = request.get_json()\n",
    "    except:\n",
    "        request_json = request\n",
    "    \n",
    "    try:\n",
    "        if request_json and 'StartDate' in request_json:  \n",
    "            startDate = datetime.strptime(request_json['StartDate'], '%Y-%m-%d').date()            \n",
    "        else:\n",
    "            startDate = get_max_game_date()\n",
    "        if request_json and 'EndDate' in request_json:  \n",
    "            endDate = datetime.strptime(request_json['EndDate'], '%Y-%m-%d').date() \n",
    "        else:\n",
    "            endDate = (datetime.now() + timedelta(days=-1)).date()\n",
    "    except Exception as e:\n",
    "        raise ValueError(\"Start & End dates must be in YYYY-MM-DD format\") from e"
   ]
  },
  {
   "cell_type": "code",
   "execution_count": null,
   "metadata": {},
   "outputs": [],
   "source": [
    "    try:\n",
    "        request_json = request.get_json()\n",
    "    except:\n",
    "        request_json = request\n",
    "    \n",
    "    try:\n",
    "        if request_json and 'StartDate' in request_json:  \n",
    "            startDate = datetime.strptime(request_json['StartDate'], '%Y-%m-%d').date()            \n",
    "        else:\n",
    "            startDate = get_max_game_date()\n",
    "        if request_json and 'EndDate' in request_json:  \n",
    "            endDate = datetime.strptime(request_json['EndDate'], '%Y-%m-%d').date() \n",
    "        else:\n",
    "            endDate = (datetime.now() + timedelta(days=-1)).date()\n",
    "    except Exception as e:\n",
    "        raise ValueError(\"Start & End dates must be in YYYY-MM-DD format\") from e"
   ]
  }
 ],
 "metadata": {
  "colab": {
   "include_colab_link": true,
   "name": "EDA.ipynb",
   "provenance": []
  },
  "kernelspec": {
   "display_name": "Python 3",
   "language": "python",
   "name": "python3"
  },
  "language_info": {
   "codemirror_mode": {
    "name": "ipython",
    "version": 3
   },
   "file_extension": ".py",
   "mimetype": "text/x-python",
   "name": "python",
   "nbconvert_exporter": "python",
   "pygments_lexer": "ipython3",
   "version": "3.9.1"
  }
 },
 "nbformat": 4,
 "nbformat_minor": 1
}
