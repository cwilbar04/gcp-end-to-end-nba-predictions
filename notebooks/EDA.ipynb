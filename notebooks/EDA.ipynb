{
  "nbformat": 4,
  "nbformat_minor": 0,
  "metadata": {
    "colab": {
      "name": "EDA.ipynb",
      "provenance": [],
      "include_colab_link": true
    },
    "kernelspec": {
      "name": "python3",
      "display_name": "Python 3"
    }
  },
  "cells": [
    {
      "cell_type": "markdown",
      "metadata": {
        "id": "view-in-github",
        "colab_type": "text"
      },
      "source": [
        "<a href=\"https://colab.research.google.com/github/cwilbar04/nba-predictions/blob/main/notebooks/EDA.ipynb\" target=\"_parent\"><img src=\"https://colab.research.google.com/assets/colab-badge.svg\" alt=\"Open In Colab\"/></a>"
      ]
    },
    {
      "cell_type": "code",
      "metadata": {
        "id": "UXn5C2-qCZeV"
      },
      "source": [
        "import matplotlib.pyplot as plt\r\n",
        "import seaborn as sb\r\n",
        "import pandas as pd\r\n",
        "import numpy as np\r\n",
        "from google.cloud import bigquery\r\n",
        "from google.colab import files"
      ],
      "execution_count": 1,
      "outputs": []
    },
    {
      "cell_type": "code",
      "metadata": {
        "id": "OhPhLyV5Im2V",
        "outputId": "63f7694c-fec2-4f9d-c90c-63e61c38765e",
        "colab": {
          "base_uri": "https://localhost:8080/"
        }
      },
      "source": [
        "from google.colab import auth\r\n",
        "auth.authenticate_user()\r\n",
        "print('Authenticated')"
      ],
      "execution_count": 2,
      "outputs": [
        {
          "output_type": "stream",
          "text": [
            "Authenticated\n"
          ],
          "name": "stdout"
        }
      ]
    },
    {
      "cell_type": "code",
      "metadata": {
        "colab": {
          "base_uri": "https://localhost:8080/",
          "height": 35
        },
        "id": "aDx51u9uItPq",
        "outputId": "475c159a-36f9-4fc1-bfbd-8d755c02f3e5"
      },
      "source": [
        "my_project_id = \"nba-predictions-dev\"\r\n",
        "my_project_id"
      ],
      "execution_count": 8,
      "outputs": [
        {
          "output_type": "execute_result",
          "data": {
            "application/vnd.google.colaboratory.intrinsic+json": {
              "type": "string"
            },
            "text/plain": [
              "'nba-predictions-dev'"
            ]
          },
          "metadata": {
            "tags": []
          },
          "execution_count": 8
        }
      ]
    },
    {
      "cell_type": "code",
      "metadata": {
        "id": "Jel3q5NsIvkX",
        "outputId": "e37ab0cf-02c5-4e65-9e7c-38d3a1449519",
        "colab": {
          "base_uri": "https://localhost:8080/"
        }
      },
      "source": [
        "%%bigquery --project nba-predictions-dev\r\n",
        "  SELECT max(game_date) from `nba.raw_basketballreference_game`"
      ],
      "execution_count": 11,
      "outputs": [
        {
          "output_type": "stream",
          "text": [
            "\n",
            "ERROR:\n",
            " 403 POST https://bigquery.googleapis.com/bigquery/v2/projects/nba-predictions-dev/jobs: Access Denied: Project project_id: \"nba-predictions-dev\"\n",
            "gaia_id: 188994400757\n",
            ": User does not have bigquery.jobs.create permission in project nba-predictions-dev.\n",
            "\n",
            "(job ID: 2fce96d7-a264-490b-8f4e-31f631d18b28)\n",
            "\n",
            "                 -----Query Job SQL Follows-----                  \n",
            "\n",
            "    |    .    |    .    |    .    |    .    |    .    |    .    |\n",
            "   1:SELECT max(game_date) from `nba.raw_basketballreference_game`\n",
            "    |    .    |    .    |    .    |    .    |    .    |    .    |\n"
          ],
          "name": "stderr"
        }
      ]
    }
  ]
}