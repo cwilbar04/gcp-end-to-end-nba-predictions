{
 "cells": [
  {
   "cell_type": "markdown",
   "id": "chronic-jesus",
   "metadata": {},
   "source": [
    "# Google Cloud Platform Project Creation Workbook \n",
    " \n",
    "Use this workbook to create a google cloud project with everything needed to collect new data and host your own web app. \n",
    " \n",
    "Prerequisites:  \n",
    "+ Create Google user account  \n",
    "+ Create your own personal Google Cloud Project and Enable Billing\n",
    "    - Enable Free Tier account by seleting \"Try it Free\" here: [Try Google Cloud Platform for free](https://cloud.google.com/cloud-console)\n",
    "    - Follow steps to activate billing found here: [Create New Billing Account](https://cloud.google.com/billing/docs/how-to/manage-billing-account#create_a_new_billing_account)\n",
    "        - Billing account is required for APIs used in this project\n",
    "        - You will not exceed the $300 free trial setting up this project but make sure to delete the project if you do not want to be charged\n",
    "        - Take note of project name created because this billing account will be used with the new project\n",
    "+ Install and initialize Google Cloud SDK by following instructions found here: [Cloud SDK Quickstart](https://cloud.google.com/sdk/docs/quickstart)\n",
    "+ Set default region and zone following instructions here:"
   ]
  },
  {
   "cell_type": "markdown",
   "id": "distinguished-karma",
   "metadata": {},
   "source": [
    "## Step 1 - Check Prequisites Successfully Completed\n",
    "Check that you have successfully installed and enabled Cloud SDK by running the config list command. If you get an error please refer to Troubleshooting steps found here [Cloud SDK Quickstart](https://cloud.google.com/sdk/docs/quickstart).  \n",
    "You should see an output that includes your account along with any other configuration setup when using gcloud init"
   ]
  },
  {
   "cell_type": "code",
   "execution_count": 31,
   "id": "junior-insurance",
   "metadata": {},
   "outputs": [
    {
     "name": "stdout",
     "output_type": "stream",
     "text": [
      "[accessibility]\n",
      "screen_reader = False\n",
      "[compute]\n",
      "region = us-central1\n",
      "zone = us-central1-c\n",
      "[core]\n",
      "account = cwilbar04@gmail.com\n",
      "disable_usage_reporting = True\n",
      "project = nba-predictions-dev\n"
     ]
    },
    {
     "name": "stderr",
     "output_type": "stream",
     "text": [
      "\n",
      "Your active configuration is: [default]\n"
     ]
    }
   ],
   "source": [
    "!gcloud config list"
   ]
  },
  {
   "cell_type": "markdown",
   "id": "underlying-murray",
   "metadata": {},
   "source": [
    "Update all gcloud components to latest release."
   ]
  },
  {
   "cell_type": "code",
   "execution_count": 32,
   "id": "seven-survey",
   "metadata": {},
   "outputs": [
    {
     "name": "stderr",
     "output_type": "stream",
     "text": [
      "Beginning update. This process may take several minutes.\n",
      "\n",
      "All components are up to date.\n"
     ]
    }
   ],
   "source": [
    "!gcloud components update"
   ]
  },
  {
   "cell_type": "markdown",
   "id": "violent-mentor",
   "metadata": {},
   "source": [
    "## Step 2 - Create GCP Project"
   ]
  },
  {
   "cell_type": "markdown",
   "id": "falling-franklin",
   "metadata": {},
   "source": [
    "###### TO DO: Enter name for new project and biling project then change to Code block and run\n",
    "###### Note: Proect name must be unique across GCP. If you get error when creating project please change the project name here and try again.\n",
    "new_project_id = 'YOUR_NEW_UNIQUE_PROJECT_NAME'\n",
    "billing_project_id = 'YOUR_BILLING_PROJECT_NAME'"
   ]
  },
  {
   "cell_type": "code",
   "execution_count": 52,
   "id": "framed-setting",
   "metadata": {},
   "outputs": [],
   "source": [
    "new_project_id = 'nba-predictions-test'\n",
    "billing_project_id = 'nba-predictions-dev'"
   ]
  },
  {
   "cell_type": "code",
   "execution_count": 53,
   "id": "local-hollow",
   "metadata": {},
   "outputs": [
    {
     "name": "stderr",
     "output_type": "stream",
     "text": [
      "ERROR: (gcloud.projects.create) Project creation failed. The project ID you specified is already in use by another project. Please try an alternative ID.\n"
     ]
    }
   ],
   "source": [
    "!gcloud projects create {new_project_id} --billing-project={billing_project_id}"
   ]
  },
  {
   "cell_type": "markdown",
   "id": "waiting-stock",
   "metadata": {},
   "source": [
    "## Step 3 - Enable Necessary Cloud Services\n",
    "\n",
    "This project uses:\n",
    "+ BigQuery to Store Model Data \n",
    "+ Google Cloud Functions scheduled using Google Cloud Scheduler to Load new Data Daily\n",
    "+ Google App Engine to Host Website\n",
    "+ Google Firestore in Native Mode to store data used by the Web Page  \n",
    "  \n",
    "List below contains all services needed at time of creation of this workbook. Please add/remove from this list if the names/necessary services have changed."
   ]
  },
  {
   "cell_type": "code",
   "execution_count": 54,
   "id": "organized-silence",
   "metadata": {},
   "outputs": [],
   "source": [
    "enable_services_list = [\n",
    "    'appengine.googleapis.com',\n",
    "    'bigquery.googleapis.com',\n",
    "    'bigquerystorage.googleapis.com',\n",
    "    'cloudapis.googleapis.com',\n",
    "    'cloudbuild.googleapis.com',\n",
    "    'clouddebugger.googleapis.com',\n",
    "    'cloudfunctions.googleapis.com',\n",
    "    'cloudresourcemanager.googleapis.com',\n",
    "    'cloudscheduler.googleapis.com',\n",
    "    'cloudtrace.googleapis.com',\n",
    "    'compute.googleapis.com',\n",
    "    'datastudio.googleapis.com',\n",
    "    'deploymentmanager.googleapis.com',\n",
    "    'firebaserules.googleapis.com',\n",
    "    'firestore.googleapis.com',\n",
    "    'logging.googleapis.com',\n",
    "    'monitoring.googleapis.com',\n",
    "    'oslogin.googleapis.com',\n",
    "    'servicemanagement.googleapis.com',\n",
    "    'serviceusage.googleapis.com',\n",
    "    'sql-component.googleapis.com',\n",
    "    'storage-api.googleapis.com',\n",
    "    'storage-component.googleapis.com',\n",
    "    'storage.googleapis.com'    \n",
    "]"
   ]
  },
  {
   "cell_type": "code",
   "execution_count": 55,
   "id": "linear-plasma",
   "metadata": {},
   "outputs": [
    {
     "name": "stderr",
     "output_type": "stream",
     "text": [
      "Operation \"operations/acf.p2-782963386208-47a91a68-40f2-4f5e-9586-0978c13235de\" finished successfully.\n",
      "Operation \"operations/acf.p2-782963386208-42fb2b86-9c7b-447c-a383-72c91d888dcc\" finished successfully.\n"
     ]
    }
   ],
   "source": [
    "## Services can only be enabled 20 at a time at the time of workbook creation. Use this loop to enable 20 at a time.\n",
    "for x in range(0,len(enable_services),20):\n",
    "    !gcloud services enable {' '.join(enable_services[x:(x+20)])} --project={new_project_id}   "
   ]
  },
  {
   "cell_type": "code",
   "execution_count": 100,
   "id": "apart-chaos",
   "metadata": {},
   "outputs": [
    {
     "name": "stdout",
     "output_type": "stream",
     "text": [
      "NAME                                 TITLE\n",
      "appengine.googleapis.com             App Engine Admin API\n",
      "bigquery.googleapis.com              BigQuery API\n",
      "bigquerystorage.googleapis.com       BigQuery Storage API\n",
      "cloudapis.googleapis.com             Google Cloud APIs\n",
      "cloudbuild.googleapis.com            Cloud Build API\n",
      "clouddebugger.googleapis.com         Cloud Debugger API\n",
      "cloudfunctions.googleapis.com        Cloud Functions API\n",
      "cloudresourcemanager.googleapis.com  Cloud Resource Manager API\n",
      "cloudscheduler.googleapis.com        Cloud Scheduler API\n",
      "cloudtrace.googleapis.com            Cloud Trace API\n",
      "compute.googleapis.com               Compute Engine API\n",
      "containerregistry.googleapis.com     Container Registry API\n",
      "datastore.googleapis.com             Cloud Datastore API\n",
      "datastudio.googleapis.com            Data Studio API\n",
      "deploymentmanager.googleapis.com     Cloud Deployment Manager V2 API\n",
      "firebaserules.googleapis.com         Firebase Rules API\n",
      "firestore.googleapis.com             Cloud Firestore API\n",
      "logging.googleapis.com               Cloud Logging API\n",
      "monitoring.googleapis.com            Cloud Monitoring API\n",
      "oslogin.googleapis.com               Cloud OS Login API\n",
      "pubsub.googleapis.com                Cloud Pub/Sub API\n",
      "servicemanagement.googleapis.com     Service Management API\n",
      "serviceusage.googleapis.com          Service Usage API\n",
      "source.googleapis.com                Legacy Cloud Source Repositories API\n",
      "sql-component.googleapis.com         Cloud SQL\n",
      "storage-api.googleapis.com           Google Cloud Storage JSON API\n",
      "storage-component.googleapis.com     Cloud Storage\n",
      "storage.googleapis.com               Cloud Storage API\n"
     ]
    }
   ],
   "source": [
    "!gcloud services list --project={new_project_id}"
   ]
  },
  {
   "cell_type": "markdown",
   "id": "imposed-great",
   "metadata": {},
   "source": [
    "## Step 4 - Create Necessary Service Accounts\n",
    "\n",
    "There are four primary service accounts used in this project:  \n",
    "- App Engine default service account\n",
    "    - This gets created automatically when the App engine API is enabled\n",
    "    - Generally your_project_id@appspot.gserviceaccount.com\n",
    "- Compute Engine default service account\n",
    "    - This gets created automatically when the Compute engine API is enabled\n",
    "    - Generally your_project_number-compute@developer.gserviceaccount.com\n",
    "- Cloud Function service account\n",
    "    - We create this and add necessary roles below using the Cloud SDK\n",
    "    - cloudfunction-service-account@your_project_name.iam.gserviceaccount.com\n",
    "    - This account is used as the service account to run all Cloud Functions in this project\n",
    "    - This account needs access to:\n",
    "        - Run Cloud \n",
    "- CircleCI Service Account\n",
    "    - We create this and add necessary roles below using the Cloud SDK\n",
    "    - circleci-deployer@your_project_name.iam.gserviceaccount.com\n",
    "    - This account is used in CircleCI for CI\\CD to deploy and test App Engine and Cloud Functions\n",
    "    - This account needs access to:\n",
    "        - BigQuery Data Editor\n",
    "        - Cloud Run Service Agent\n",
    "        - BigQuery Edit permissions\n",
    "\n",
    "    \n"
   ]
  },
  {
   "cell_type": "markdown",
   "id": "frank-cookbook",
   "metadata": {},
   "source": [
    "Check what service ccounts are already created (should be the two default ones described above)"
   ]
  },
  {
   "cell_type": "code",
   "execution_count": 82,
   "id": "cosmetic-sample",
   "metadata": {},
   "outputs": [
    {
     "name": "stdout",
     "output_type": "stream",
     "text": [
      "DISPLAY NAME                            EMAIL                                                                       DISABLED\n",
      "App Engine default service account      nba-predictions-test@appspot.gserviceaccount.com                            False\n",
      "Cloud Function Service Account          cloudfunction-service-account@nba-predictions-test.iam.gserviceaccount.com  False\n",
      "Circle CI Service Account               circleci-deployer@nba-predictions-test.iam.gserviceaccount.com              False\n",
      "Compute Engine default service account  782963386208-compute@developer.gserviceaccount.com                          False\n"
     ]
    }
   ],
   "source": [
    "!gcloud iam service-accounts list --project={new_project_id}"
   ]
  },
  {
   "cell_type": "code",
   "execution_count": 76,
   "id": "plastic-special",
   "metadata": {},
   "outputs": [
    {
     "name": "stderr",
     "output_type": "stream",
     "text": [
      "Created service account [cloudfunction-service-account].\n"
     ]
    }
   ],
   "source": [
    "!gcloud iam service-accounts create cloudfunction-service-account \\\n",
    "    --display-name=\"Cloud Function Service Account\" \\\n",
    "    --description=\"Account used to run all Cloud Functions with necessary BigQuery and Firestore Permissions\" \\\n",
    "    --project={new_project_id}"
   ]
  },
  {
   "cell_type": "code",
   "execution_count": 81,
   "id": "generic-disaster",
   "metadata": {},
   "outputs": [
    {
     "name": "stderr",
     "output_type": "stream",
     "text": [
      "Created service account [circleci-deployer].\n"
     ]
    }
   ],
   "source": [
    "!gcloud iam service-accounts create circleci-deployer \\\n",
    "    --display-name=\"Circle CI Service Account\" \\\n",
    "    --description=\"Account used by Circle CI with necessary permissions to Deploy to Cloud Functions and App Engine\" \n",
    "    --circleci-gcf-deployer"
   ]
  },
  {
   "cell_type": "markdown",
   "id": "suspected-primary",
   "metadata": {},
   "source": [
    "Check service accounts were created successfully and display e-mail needed in the next step"
   ]
  },
  {
   "cell_type": "code",
   "execution_count": 134,
   "id": "removed-proceeding",
   "metadata": {},
   "outputs": [
    {
     "name": "stdout",
     "output_type": "stream",
     "text": [
      "DISPLAY NAME                            EMAIL                                                                       DISABLED\n",
      "App Engine default service account      nba-predictions-test@appspot.gserviceaccount.com                            False\n",
      "Cloud Function Service Account          cloudfunction-service-account@nba-predictions-test.iam.gserviceaccount.com  False\n",
      "Circle CI Service Account               circleci-deployer@nba-predictions-test.iam.gserviceaccount.com              False\n",
      "Compute Engine default service account  782963386208-compute@developer.gserviceaccount.com                          False\n"
     ]
    }
   ],
   "source": [
    "!gcloud iam service-accounts list --project={new_project_id}"
   ]
  },
  {
   "cell_type": "markdown",
   "id": "hungarian-ancient",
   "metadata": {},
   "source": [
    "Programatically update the roles for the new service accounts using the guide found here: [Programatic Change Access](https://cloud.google.com/iam/docs/granting-changing-revoking-access#programmatic)"
   ]
  },
  {
   "cell_type": "code",
   "execution_count": 151,
   "id": "senior-shelter",
   "metadata": {},
   "outputs": [],
   "source": [
    "# Save policy file in directory above where the repo is saved so that it is not stored to github\n",
    "file_directory = '..\\..\\policy.json'"
   ]
  },
  {
   "cell_type": "code",
   "execution_count": 152,
   "id": "balanced-activity",
   "metadata": {},
   "outputs": [],
   "source": [
    "# Write current policy to file directory\n",
    "!gcloud projects get-iam-policy {new_project_id} --format json > {file_directory}"
   ]
  },
  {
   "cell_type": "markdown",
   "id": "swedish-processing",
   "metadata": {},
   "source": [
    "**If running jupyter notebook run below cell to load and modify policy file.**"
   ]
  },
  {
   "cell_type": "code",
   "execution_count": 153,
   "id": "central-devon",
   "metadata": {},
   "outputs": [],
   "source": [
    "import json\n",
    "\n",
    "with open('..\\..\\policy.json') as f:\n",
    "    policy = json.load(f)\n",
    "\n",
    "def modify_policy_add_role(policy, role, member):\n",
    "    \"\"\"Adds a new role binding to a policy.\"\"\"\n",
    "\n",
    "    binding = {\"members\": [member],\"role\": role }\n",
    "    policy[\"bindings\"].append(binding)\n",
    "    return policy\n",
    "\n",
    "members = [f'serviceAccount:cloudfunction-service-account@{new_project_id}.iam.gserviceaccount.com', \n",
    "           f'serviceAccount:circleci-deployer@{new_project_id}.iam.gserviceaccount.com']\n",
    "roles = {members[0]:['roles/bigquery.user','roles/datastore.user','roles/run.serviceAgent'],\n",
    "        members[1]:['roles/appengine.deployer','roles/appengine.serviceAdmin','roles/cloudbuild.builds.editor',\n",
    "                   'roles/cloudfunctions.admin','roles/compute.storageAdmin','roles/iam.serviceAccountUser']}\n",
    "\n",
    "for member in members:\n",
    "    for role in roles[member]:\n",
    "        policy = modify_policy_add_role(policy, role, member)\n",
    "\n",
    "with open('..\\..\\policy.json', 'w') as json_file:\n",
    "    json.dump(policy, json_file)"
   ]
  },
  {
   "cell_type": "markdown",
   "id": "continued-cricket",
   "metadata": {},
   "source": [
    "**If running code direct in console, navigate to file path and add the members and roles below in to the file path**\n",
    "\n",
    "{\"members\": [\"serviceAccount:cloudfunction-service-account@nba-predictions-test.iam.gserviceaccount.com\"], \"role\": \"roles/bigquery.user\"},  \n",
    "{\"members\": [\"serviceAccount:cloudfunction-service-account@nba-predictions-test.iam.gserviceaccount.com\"], \"role\": \"roles/datastore.user\"},  \n",
    "{\"members\": [\"serviceAccount:cloudfunction-service-account@nba-predictions-test.iam.gserviceaccount.com\"], \"role\": \"roles/run.serviceAgent\"},  \n",
    "{\"members\": [\"serviceAccount:circleci-deployer@nba-predictions-test.iam.gserviceaccount.com\"], \"role\": \"roles/appengine.deployer\"},   \n",
    "{\"members\": [\"serviceAccount:circleci-deployer@nba-predictions-test.iam.gserviceaccount.com\"], \"role\": \"roles/appengine.serviceAdmin\"},   \n",
    "{\"members\": [\"serviceAccount:circleci-deployer@nba-predictions-test.iam.gserviceaccount.com\"], \"role\": \"roles/cloudbuild.builds.editor\"},   \n",
    "{\"members\": [\"serviceAccount:circleci-deployer@nba-predictions-test.iam.gserviceaccount.com\"], \"role\": \"roles/cloudfunctions.admin\"},  \n",
    "{\"members\": [\"serviceAccount:circleci-deployer@nba-predictions-test.iam.gserviceaccount.com\"], \"role\": \"roles/compute.storageAdmin\"},  \n",
    "{\"members\": [\"serviceAccount:circleci-deployer@nba-predictions-test.iam.gserviceaccount.com\"], \"role\": \"roles/iam.serviceAccountUser\"}"
   ]
  },
  {
   "cell_type": "code",
   "execution_count": null,
   "id": "aggressive-destination",
   "metadata": {},
   "outputs": [],
   "source": [
    "!gcloud projects set-iam-policy {new_project_id} {file_directory} --quiet"
   ]
  },
  {
   "cell_type": "code",
   "execution_count": 155,
   "id": "liberal-teacher",
   "metadata": {},
   "outputs": [],
   "source": [
    "# Remove policy file \n",
    "!del {file_directory}"
   ]
  },
  {
   "cell_type": "code",
   "execution_count": null,
   "id": "noted-forestry",
   "metadata": {},
   "outputs": [],
   "source": []
  },
  {
   "cell_type": "code",
   "execution_count": null,
   "id": "forward-nightlife",
   "metadata": {},
   "outputs": [],
   "source": []
  }
 ],
 "metadata": {
  "kernelspec": {
   "display_name": "Python 3",
   "language": "python",
   "name": "python3"
  },
  "language_info": {
   "codemirror_mode": {
    "name": "ipython",
    "version": 3
   },
   "file_extension": ".py",
   "mimetype": "text/x-python",
   "name": "python",
   "nbconvert_exporter": "python",
   "pygments_lexer": "ipython3",
   "version": "3.9.1"
  }
 },
 "nbformat": 4,
 "nbformat_minor": 5
}
