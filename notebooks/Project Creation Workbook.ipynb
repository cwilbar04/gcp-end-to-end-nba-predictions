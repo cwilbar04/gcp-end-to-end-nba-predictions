{
 "cells": [
  {
   "cell_type": "markdown",
   "id": "compact-currency",
   "metadata": {},
   "source": [
    "# Google Cloud Platform Project Creation Workbook \n",
    " \n",
    "Use this workbook to create a google cloud project with everything needed to collect new data and host your own web app. \n",
    " \n",
    "Prerequisites:  \n",
    "+ Create Google user account  \n",
    "+ Create your own personal Google Cloud Project and Enable Billing\n",
    "    - Enable Free Tier account by seleting \"Try it Free\" here: [Try Google Cloud Platform for free](https://cloud.google.com/cloud-console)\n",
    "    - Follow steps to activate billing found here: [Create New Billing Account](https://cloud.google.com/billing/docs/how-to/manage-billing-account#create_a_new_billing_account)\n",
    "        - Billing account is required for APIs used in this project\n",
    "        - You will not exceed the $300 free trial setting up this project but make sure to delete the project if you do not want to be charged\n",
    "        - Take note of project name created because this billing account will be used with the new project\n",
    "+ Install and initialize Google Cloud SDK by following instructions found here: [Cloud SDK Quickstart](https://cloud.google.com/sdk/docs/quickstart)\n",
    "+ Set default region and zone following instructions here:"
   ]
  },
  {
   "cell_type": "markdown",
   "id": "invisible-kansas",
   "metadata": {},
   "source": [
    "## Step 1 - Check Prequisites Successfully Completed\n",
    "Check that you have successfully installed and enabled Cloud SDK by running the config list command. If you get an error please refer to Troubleshooting steps found here [Cloud SDK Quickstart](https://cloud.google.com/sdk/docs/quickstart).  \n",
    "You should see an output that includes your account along with any other configuration setup when using gcloud init"
   ]
  },
  {
   "cell_type": "code",
   "execution_count": 162,
   "id": "junior-insurance",
   "metadata": {},
   "outputs": [
    {
     "name": "stdout",
     "output_type": "stream",
     "text": [
      "[accessibility]\n",
      "screen_reader = False\n",
      "[compute]\n",
      "region = us-central1\n",
      "zone = us-central1-c\n",
      "[core]\n",
      "account = cwilbar04@gmail.com\n",
      "disable_usage_reporting = True\n",
      "project = nba-predictions-dev\n"
     ]
    },
    {
     "name": "stderr",
     "output_type": "stream",
     "text": [
      "\n",
      "Your active configuration is: [default]\n"
     ]
    }
   ],
   "source": [
    "!gcloud config list"
   ]
  },
  {
   "cell_type": "markdown",
   "id": "convenient-brown",
   "metadata": {},
   "source": [
    "Update all gcloud components to latest release."
   ]
  },
  {
   "cell_type": "code",
   "execution_count": 163,
   "id": "seven-survey",
   "metadata": {},
   "outputs": [
    {
     "name": "stderr",
     "output_type": "stream",
     "text": [
      "Beginning update. This process may take several minutes.\n",
      "\n",
      "All components are up to date.\n"
     ]
    }
   ],
   "source": [
    "!gcloud components update"
   ]
  },
  {
   "cell_type": "markdown",
   "id": "united-cooperation",
   "metadata": {},
   "source": [
    "## Step 2 - Create GCP Project"
   ]
  },
  {
   "cell_type": "markdown",
   "id": "swiss-cherry",
   "metadata": {},
   "source": [
    "###### TO DO: Enter name for new project and biling project then change to Code block and run\n",
    "###### Note: Proect name must be unique across GCP. If you get error when creating project please change the project name here and try again.\n",
    "new_project_id = 'YOUR_NEW_UNIQUE_PROJECT_NAME'"
   ]
  },
  {
   "cell_type": "code",
   "execution_count": 2,
   "id": "deluxe-winner",
   "metadata": {},
   "outputs": [],
   "source": [
    "new_project_id = 'nba-predictions-prod'"
   ]
  },
  {
   "cell_type": "code",
   "execution_count": 167,
   "id": "local-hollow",
   "metadata": {},
   "outputs": [
    {
     "name": "stderr",
     "output_type": "stream",
     "text": [
      "Create in progress for [https://cloudresourcemanager.googleapis.com/v1/projects/nba-predictions-prod].\n",
      "Waiting for [operations/cp.7706508669557220987] to finish...\n",
      "..done.\n",
      "Enabling service [cloudapis.googleapis.com] on project [nba-predictions-prod]...\n",
      "Operation \"operations/acf.p2-130738074716-3c471071-9f24-4528-8e8e-67d53a1207aa\" finished successfully.\n"
     ]
    }
   ],
   "source": [
    "!gcloud projects create {new_project_id}"
   ]
  },
  {
   "cell_type": "markdown",
   "id": "familiar-teacher",
   "metadata": {},
   "source": [
    "**TO DO: Navigate to [Cloud Console](https://console.cloud.google.com/), Change to new project, and enable billing following instructions found here: [Enable Billing](https://cloud.google.com/billing/docs/how-to/modify-project#enable_billing_for_a_project)**"
   ]
  },
  {
   "cell_type": "markdown",
   "id": "boring-prediction",
   "metadata": {},
   "source": [
    "## Step 3 - Enable Necessary Cloud Services\n",
    "\n",
    "This project uses:\n",
    "+ BigQuery to Store Model Data \n",
    "+ Google Cloud Functions scheduled using Google Cloud Scheduler to Load new Data Daily\n",
    "+ Google App Engine to Host Website\n",
    "+ Google Firestore in Native Mode to store data used by the Web Page  \n",
    "  \n",
    "List below contains all services needed at time of creation of this workbook. Please add/remove from this list if the names/necessary services have changed."
   ]
  },
  {
   "cell_type": "code",
   "execution_count": 171,
   "id": "hourly-communications",
   "metadata": {},
   "outputs": [],
   "source": [
    "enable_services_list = [\n",
    "    'appengine.googleapis.com',\n",
    "    'bigquery.googleapis.com',\n",
    "    'bigquerystorage.googleapis.com',\n",
    "    'cloudapis.googleapis.com',\n",
    "    'cloudbuild.googleapis.com',\n",
    "    'clouddebugger.googleapis.com',\n",
    "    'cloudfunctions.googleapis.com',\n",
    "    'cloudresourcemanager.googleapis.com',\n",
    "    'cloudscheduler.googleapis.com',\n",
    "    'cloudtrace.googleapis.com',\n",
    "    'compute.googleapis.com',\n",
    "    'datastudio.googleapis.com',\n",
    "    'deploymentmanager.googleapis.com',\n",
    "    'firebaserules.googleapis.com',\n",
    "    'firestore.googleapis.com',\n",
    "    'logging.googleapis.com',\n",
    "    'monitoring.googleapis.com',\n",
    "    'oslogin.googleapis.com',\n",
    "    'servicemanagement.googleapis.com',\n",
    "    'serviceusage.googleapis.com',\n",
    "    'sql-component.googleapis.com',\n",
    "    'storage-api.googleapis.com',\n",
    "    'storage-component.googleapis.com',\n",
    "    'storage.googleapis.com'    \n",
    "]"
   ]
  },
  {
   "cell_type": "code",
   "execution_count": 172,
   "id": "touched-poverty",
   "metadata": {},
   "outputs": [
    {
     "name": "stderr",
     "output_type": "stream",
     "text": [
      "Operation \"operations/acf.p2-130738074716-2d57f6c4-b755-4e1f-b14d-392c602ef21f\" finished successfully.\n",
      "Operation \"operations/acf.p2-130738074716-7812275a-cb95-4bcc-acd4-a232feeaea7e\" finished successfully.\n"
     ]
    }
   ],
   "source": [
    "## Services can only be enabled 20 at a time at the time of workbook creation. Use this loop to enable 20 at a time.\n",
    "for x in range(0,len(enable_services),20):\n",
    "    !gcloud services enable {' '.join(enable_services[x:(x+20)])} --project={new_project_id}   "
   ]
  },
  {
   "cell_type": "code",
   "execution_count": 173,
   "id": "suspended-politics",
   "metadata": {},
   "outputs": [
    {
     "name": "stdout",
     "output_type": "stream",
     "text": [
      "NAME                                 TITLE\n",
      "appengine.googleapis.com             App Engine Admin API\n",
      "bigquery.googleapis.com              BigQuery API\n",
      "bigquerystorage.googleapis.com       BigQuery Storage API\n",
      "cloudapis.googleapis.com             Google Cloud APIs\n",
      "cloudbuild.googleapis.com            Cloud Build API\n",
      "clouddebugger.googleapis.com         Cloud Debugger API\n",
      "cloudfunctions.googleapis.com        Cloud Functions API\n",
      "cloudresourcemanager.googleapis.com  Cloud Resource Manager API\n",
      "cloudscheduler.googleapis.com        Cloud Scheduler API\n",
      "cloudtrace.googleapis.com            Cloud Trace API\n",
      "compute.googleapis.com               Compute Engine API\n",
      "containerregistry.googleapis.com     Container Registry API\n",
      "datastore.googleapis.com             Cloud Datastore API\n",
      "datastudio.googleapis.com            Data Studio API\n",
      "deploymentmanager.googleapis.com     Cloud Deployment Manager V2 API\n",
      "firebaserules.googleapis.com         Firebase Rules API\n",
      "firestore.googleapis.com             Cloud Firestore API\n",
      "logging.googleapis.com               Cloud Logging API\n",
      "monitoring.googleapis.com            Cloud Monitoring API\n",
      "oslogin.googleapis.com               Cloud OS Login API\n",
      "pubsub.googleapis.com                Cloud Pub/Sub API\n",
      "servicemanagement.googleapis.com     Service Management API\n",
      "serviceusage.googleapis.com          Service Usage API\n",
      "source.googleapis.com                Legacy Cloud Source Repositories API\n",
      "sql-component.googleapis.com         Cloud SQL\n",
      "storage-api.googleapis.com           Google Cloud Storage JSON API\n",
      "storage-component.googleapis.com     Cloud Storage\n",
      "storage.googleapis.com               Cloud Storage API\n"
     ]
    }
   ],
   "source": [
    "!gcloud services list --project={new_project_id}"
   ]
  },
  {
   "cell_type": "markdown",
   "id": "confused-recipient",
   "metadata": {},
   "source": [
    "## Step 4 - Create Necessary Service Accounts\n",
    "\n",
    "There are four primary service accounts used in this project:  \n",
    "- **App Engine default service account**\n",
    "    - This gets created automatically when the App engine API is enabled\n",
    "    - Generally your_project_id@appspot.gserviceaccount.com  \n",
    "      \n",
    "- **Compute Engine default service account**\n",
    "    - This gets created automatically when the Compute engine API is enabled\n",
    "    - Generally your_project_number-compute@developer.gserviceaccount.com  \n",
    "      \n",
    "- **Cloud Function service account**\n",
    "    - We create this and add necessary roles below using the Cloud SDK\n",
    "    - cloudfunction-service-account@your_project_name.iam.gserviceaccount.com\n",
    "    - This account is used as the service account to run all Cloud Functions in this project  \n",
    "      \n",
    "- **CircleCI Service Account**\n",
    "    - We create this and add necessary roles below using the Cloud SDK\n",
    "    - circleci-deployer@your_project_name.iam.gserviceaccount.com\n",
    "    - This account is used in CircleCI for CI\\CD to deploy and test App Engine and Cloud Functions"
   ]
  },
  {
   "cell_type": "markdown",
   "id": "ordinary-climate",
   "metadata": {},
   "source": [
    "Check what service ccounts are already created (should be the two default ones described above)"
   ]
  },
  {
   "cell_type": "code",
   "execution_count": 174,
   "id": "joint-trinity",
   "metadata": {},
   "outputs": [
    {
     "name": "stdout",
     "output_type": "stream",
     "text": [
      "DISPLAY NAME                            EMAIL                                               DISABLED\n",
      "App Engine default service account      nba-predictions-prod@appspot.gserviceaccount.com    False\n",
      "Compute Engine default service account  130738074716-compute@developer.gserviceaccount.com  False\n"
     ]
    }
   ],
   "source": [
    "!gcloud iam service-accounts list --project={new_project_id}"
   ]
  },
  {
   "cell_type": "code",
   "execution_count": 175,
   "id": "marked-costs",
   "metadata": {},
   "outputs": [
    {
     "name": "stderr",
     "output_type": "stream",
     "text": [
      "Created service account [cloudfunction-service-account].\n"
     ]
    }
   ],
   "source": [
    "!gcloud iam service-accounts create cloudfunction-service-account \\\n",
    "    --display-name=\"Cloud Function Service Account\" \\\n",
    "    --description=\"Account used to run all Cloud Functions with necessary BigQuery and Firestore Permissions\" \\\n",
    "    --project={new_project_id}"
   ]
  },
  {
   "cell_type": "code",
   "execution_count": 177,
   "id": "graphic-juice",
   "metadata": {},
   "outputs": [
    {
     "name": "stderr",
     "output_type": "stream",
     "text": [
      "Created service account [circleci-deployer].\n"
     ]
    }
   ],
   "source": [
    "!gcloud iam service-accounts create circleci-deployer \\\n",
    "    --display-name=\"Circle CI Service Account\" \\\n",
    "    --description=\"Account used by Circle CI with necessary permissions to Deploy to Cloud Functions and App Engine\" \\\n",
    "    --project={new_project_id}"
   ]
  },
  {
   "cell_type": "markdown",
   "id": "charged-junior",
   "metadata": {},
   "source": [
    "Check service accounts were created successfully and display e-mail needed in the next step"
   ]
  },
  {
   "cell_type": "code",
   "execution_count": 178,
   "id": "attended-cattle",
   "metadata": {},
   "outputs": [
    {
     "name": "stdout",
     "output_type": "stream",
     "text": [
      "DISPLAY NAME                            EMAIL                                                                       DISABLED\n",
      "App Engine default service account      nba-predictions-prod@appspot.gserviceaccount.com                            False\n",
      "Compute Engine default service account  130738074716-compute@developer.gserviceaccount.com                          False\n",
      "Circle CI Service Account               circleci-deployer@nba-predictions-prod.iam.gserviceaccount.com              False\n",
      "Cloud Function Service Account          cloudfunction-service-account@nba-predictions-prod.iam.gserviceaccount.com  False\n"
     ]
    }
   ],
   "source": [
    "!gcloud iam service-accounts list --project={new_project_id}"
   ]
  },
  {
   "cell_type": "markdown",
   "id": "electrical-collect",
   "metadata": {},
   "source": [
    "Programatically update the roles for the new service accounts using the guide found here: [Programatic Change Access](https://cloud.google.com/iam/docs/granting-changing-revoking-access#programmatic)"
   ]
  },
  {
   "cell_type": "code",
   "execution_count": 179,
   "id": "useful-hurricane",
   "metadata": {},
   "outputs": [],
   "source": [
    "# Save policy file in directory above where the repo is saved so that it is not stored to github\n",
    "file_directory = '..\\..\\policy.json'"
   ]
  },
  {
   "cell_type": "code",
   "execution_count": 180,
   "id": "southwest-cover",
   "metadata": {},
   "outputs": [],
   "source": [
    "# Write current policy to file directory\n",
    "!gcloud projects get-iam-policy {new_project_id} --format json > {file_directory}"
   ]
  },
  {
   "cell_type": "markdown",
   "id": "equivalent-bundle",
   "metadata": {},
   "source": [
    "**If running jupyter notebook run below cell to load and modify policy file.**"
   ]
  },
  {
   "cell_type": "code",
   "execution_count": 181,
   "id": "express-exchange",
   "metadata": {},
   "outputs": [],
   "source": [
    "import json\n",
    "\n",
    "with open('..\\..\\policy.json') as f:\n",
    "    policy = json.load(f)\n",
    "\n",
    "def modify_policy_add_role(policy, role, member):\n",
    "    \"\"\"Adds a new role binding to a policy.\"\"\"\n",
    "\n",
    "    binding = {\"members\": [member],\"role\": role }\n",
    "    policy[\"bindings\"].append(binding)\n",
    "    return policy\n",
    "\n",
    "members = [f'serviceAccount:cloudfunction-service-account@{new_project_id}.iam.gserviceaccount.com', \n",
    "           f'serviceAccount:circleci-deployer@{new_project_id}.iam.gserviceaccount.com']\n",
    "roles = {members[0]:['roles/bigquery.user','roles/datastore.user','roles/run.serviceAgent'],\n",
    "        members[1]:['roles/appengine.deployer','roles/appengine.serviceAdmin','roles/cloudbuild.builds.builder',\n",
    "                   'roles/cloudfunctions.admin','roles/compute.storageAdmin','roles/iam.serviceAccountUser']}\n",
    "\n",
    "for member in members:\n",
    "    for role in roles[member]:\n",
    "        policy = modify_policy_add_role(policy, role, member)\n",
    "\n",
    "with open('..\\..\\policy.json', 'w') as json_file:\n",
    "    json.dump(policy, json_file)"
   ]
  },
  {
   "cell_type": "markdown",
   "id": "rental-sentence",
   "metadata": {},
   "source": [
    "**If running code direct in console, navigate to file path and add the members and roles below in to the file path**  \n",
    "**Change \"your_project_id\" to the name of your project id**\n",
    "\n",
    "{\"members\": [\"serviceAccount:cloudfunction-service-account@your_project_id.iam.gserviceaccount.com\"], \"role\": \"roles/bigquery.user\"},  \n",
    "{\"members\": [\"serviceAccount:cloudfunction-service-account@your_project_id.iam.gserviceaccount.com\"], \"role\": \"roles/datastore.user\"},  \n",
    "{\"members\": [\"serviceAccount:cloudfunction-service-account@your_project_id.iam.gserviceaccount.com\"], \"role\": \"roles/run.serviceAgent\"},  \n",
    "{\"members\": [\"serviceAccount:circleci-deployer@your_project_id.iam.gserviceaccount.com\"], \"role\": \"roles/appengine.deployer\"},   \n",
    "{\"members\": [\"serviceAccount:circleci-deployer@your_project_id.iam.gserviceaccount.com\"], \"role\": \"roles/appengine.serviceAdmin\"},   \n",
    "{\"members\": [\"serviceAccount:circleci-deployer@your_project_id.iam.gserviceaccount.com\"], \"role\": \"roles/cloudbuild.builds.builder\"},   \n",
    "{\"members\": [\"serviceAccount:circleci-deployer@your_project_id.iam.gserviceaccount.com\"], \"role\": \"roles/cloudfunctions.admin\"},  \n",
    "{\"members\": [\"serviceAccount:circleci-deployer@your_project_id.iam.gserviceaccount.com\"], \"role\": \"roles/compute.storageAdmin\"},  \n",
    "{\"members\": [\"serviceAccount:circleci-deployer@your_project_id.iam.gserviceaccount.com\"], \"role\": \"roles/iam.serviceAccountUser\"}"
   ]
  },
  {
   "cell_type": "code",
   "execution_count": 182,
   "id": "opening-command",
   "metadata": {},
   "outputs": [
    {
     "name": "stdout",
     "output_type": "stream",
     "text": [
      "bindings:\n",
      "- members:\n",
      "  - serviceAccount:circleci-deployer@nba-predictions-prod.iam.gserviceaccount.com\n",
      "  role: roles/appengine.deployer\n",
      "- members:\n",
      "  - serviceAccount:circleci-deployer@nba-predictions-prod.iam.gserviceaccount.com\n",
      "  role: roles/appengine.serviceAdmin\n",
      "- members:\n",
      "  - serviceAccount:cloudfunction-service-account@nba-predictions-prod.iam.gserviceaccount.com\n",
      "  role: roles/bigquery.user\n",
      "- members:\n",
      "  - serviceAccount:130738074716@cloudbuild.gserviceaccount.com\n",
      "  - serviceAccount:circleci-deployer@nba-predictions-prod.iam.gserviceaccount.com\n",
      "  role: roles/cloudbuild.builds.builder\n",
      "- members:\n",
      "  - serviceAccount:service-130738074716@gcp-sa-cloudbuild.iam.gserviceaccount.com\n",
      "  role: roles/cloudbuild.serviceAgent\n",
      "- members:\n",
      "  - serviceAccount:circleci-deployer@nba-predictions-prod.iam.gserviceaccount.com\n",
      "  role: roles/cloudfunctions.admin\n",
      "- members:\n",
      "  - serviceAccount:service-130738074716@gcf-admin-robot.iam.gserviceaccount.com\n",
      "  role: roles/cloudfunctions.serviceAgent\n",
      "- members:\n",
      "  - serviceAccount:service-130738074716@gcp-sa-cloudscheduler.iam.gserviceaccount.com\n",
      "  role: roles/cloudscheduler.serviceAgent\n",
      "- members:\n",
      "  - serviceAccount:service-130738074716@compute-system.iam.gserviceaccount.com\n",
      "  role: roles/compute.serviceAgent\n",
      "- members:\n",
      "  - serviceAccount:circleci-deployer@nba-predictions-prod.iam.gserviceaccount.com\n",
      "  role: roles/compute.storageAdmin\n",
      "- members:\n",
      "  - serviceAccount:service-130738074716@containerregistry.iam.gserviceaccount.com\n",
      "  role: roles/containerregistry.ServiceAgent\n",
      "- members:\n",
      "  - serviceAccount:cloudfunction-service-account@nba-predictions-prod.iam.gserviceaccount.com\n",
      "  role: roles/datastore.user\n",
      "- members:\n",
      "  - serviceAccount:130738074716-compute@developer.gserviceaccount.com\n",
      "  - serviceAccount:130738074716@cloudservices.gserviceaccount.com\n",
      "  - serviceAccount:nba-predictions-prod@appspot.gserviceaccount.com\n",
      "  role: roles/editor\n",
      "- members:\n",
      "  - serviceAccount:service-130738074716@firebase-rules.iam.gserviceaccount.com\n",
      "  role: roles/firebaserules.system\n",
      "- members:\n",
      "  - serviceAccount:circleci-deployer@nba-predictions-prod.iam.gserviceaccount.com\n",
      "  role: roles/iam.serviceAccountUser\n",
      "- members:\n",
      "  - user:cwilbar04@gmail.com\n",
      "  role: roles/owner\n",
      "- members:\n",
      "  - serviceAccount:cloudfunction-service-account@nba-predictions-prod.iam.gserviceaccount.com\n",
      "  role: roles/run.serviceAgent\n",
      "etag: BwW9AMW1x80=\n",
      "version: 1\n"
     ]
    },
    {
     "name": "stderr",
     "output_type": "stream",
     "text": [
      "Updated IAM policy for project [nba-predictions-prod].\n"
     ]
    }
   ],
   "source": [
    "!gcloud projects set-iam-policy {new_project_id} {file_directory}"
   ]
  },
  {
   "cell_type": "code",
   "execution_count": 183,
   "id": "governmental-nerve",
   "metadata": {},
   "outputs": [],
   "source": [
    "# Remove policy file \n",
    "!del {file_directory}"
   ]
  },
  {
   "cell_type": "markdown",
   "id": "adverse-hierarchy",
   "metadata": {},
   "source": [
    "## Step 5 - Create App Engine Application\n",
    "\n",
    "In order to deploy a specific application you first need to create a placeholder application. \n",
    "\n",
    "**Change YOUR_REGION to your default region**  \n",
    "See [Regions and Zone](https://cloud.google.com/compute/docs/regions-zones) for more info"
   ]
  },
  {
   "cell_type": "code",
   "execution_count": 184,
   "id": "specified-vertex",
   "metadata": {},
   "outputs": [
    {
     "name": "stderr",
     "output_type": "stream",
     "text": [
      "You are creating an app for project [nba-predictions-prod].\n",
      "WARNING: Creating an App Engine application for a project is irreversible and the region\n",
      "cannot be changed. More information about regions is at\n",
      "<https://cloud.google.com/appengine/docs/locations>.\n",
      "\n",
      "Creating App Engine application in project [nba-predictions-prod] and region [us-central]....\n",
      ".................................done.\n",
      "Success! The app is now created. Please use `gcloud app deploy` to deploy your first app.\n"
     ]
    }
   ],
   "source": [
    "!gcloud app create --region=YOUR_REGION --project={new_project_id}"
   ]
  },
  {
   "cell_type": "markdown",
   "id": "confidential-inspection",
   "metadata": {},
   "source": [
    "## Step 6 - Create BigQuery Dataset\n",
    "\n",
    "Your new project will need a dataset to store the data if you plan on copying/creating your own repository of data.  \n",
    "\n",
    "This has to be a unique name per project.  \n",
    "\n",
    "In my workflows I have named the dataset 'nba' but feel free to change it. Note that if you do change it, then you will also need to change the dataset name in any of the other python scripts in this project appropriately. "
   ]
  },
  {
   "cell_type": "code",
   "execution_count": 6,
   "id": "numeric-swaziland",
   "metadata": {},
   "outputs": [],
   "source": [
    "new_project_id = 'nba-predictions-test'"
   ]
  },
  {
   "cell_type": "code",
   "execution_count": 7,
   "id": "marked-montana",
   "metadata": {},
   "outputs": [
    {
     "name": "stdout",
     "output_type": "stream",
     "text": [
      "Dataset 'nba-predictions-test:nba' successfully created.\n"
     ]
    }
   ],
   "source": [
    "dataset_name = 'nba'\n",
    "!bq --location=US mk -d \\\n",
    "--description \"Stores all National Basketball Association Data. Created using Project Creation workbook found at https://github.com/cwilbar04/nba-predictions/tree/main/notebooks\" \\\n",
    "{new_project_id}:{dataset_name}  "
   ]
  },
  {
   "cell_type": "markdown",
   "id": "parallel-missouri",
   "metadata": {},
   "source": [
    "## Step 7 - Load Raw BigQuery Tables\n",
    "\n",
    "There are two options for loading the data to BigQuery:  \n",
    "1. Navigate to [Initial Load Workbook](https://github.com/cwilbar04/nba-predictions/blob/main/notebooks/NBA%20Data%20Initial%20Load.ipynb) and change start date to desired starting date. For my model I loaded data starting from '10-1-1999'. Always choose a start date in between seasons if you don't want to get partial season data.  \n",
    "  \n",
    "2. Copy data from my public data set by running the code blocks below.\n",
    "\n"
   ]
  },
  {
   "cell_type": "code",
   "execution_count": null,
   "id": "valuable-memphis",
   "metadata": {},
   "outputs": [],
   "source": []
  }
 ],
 "metadata": {
  "kernelspec": {
   "display_name": "Python 3",
   "language": "python",
   "name": "python3"
  },
  "language_info": {
   "codemirror_mode": {
    "name": "ipython",
    "version": 3
   },
   "file_extension": ".py",
   "mimetype": "text/x-python",
   "name": "python",
   "nbconvert_exporter": "python",
   "pygments_lexer": "ipython3",
   "version": "3.8.8"
  }
 },
 "nbformat": 4,
 "nbformat_minor": 5
}
