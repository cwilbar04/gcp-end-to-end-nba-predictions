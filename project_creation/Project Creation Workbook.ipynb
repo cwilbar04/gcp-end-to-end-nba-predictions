{
 "cells": [
  {
   "cell_type": "markdown",
   "id": "compact-currency",
   "metadata": {},
   "source": [
    "# Google Cloud Platform Project Creation Workbook \n",
    " \n",
    "Use this workbook to create a google cloud project with everything needed to collect new data and host your own web app. \n",
    " \n",
    "Prerequisites:  \n",
    "+ Create Google user account  <br><br>\n",
    "+ Create your own personal Google Cloud Project and Enable Billing\n",
    "    - Enable Free Tier account by seleting \"Try it Free\" here: [Try Google Cloud Platform for free](https://cloud.google.com/cloud-console)\n",
    "    - Follow steps to activate billing found here: [Create New Billing Account](https://cloud.google.com/billing/docs/how-to/manage-billing-account#create_a_new_billing_account)\n",
    "        - Billing account is required for APIs used in this project\n",
    "        - You will not exceed the $300 free trial setting up this project but make sure to delete the project if you do not want to be charged\n",
    "        - Take note of project name created because this billing account will be used with the new project <br><br>\n",
    "+ Install and initialize Google Cloud SDK by following instructions found here: [Cloud SDK Quickstart](https://cloud.google.com/sdk/docs/quickstart) <br><br>"
   ]
  },
  {
   "cell_type": "markdown",
   "id": "invisible-kansas",
   "metadata": {},
   "source": [
    "## Step 1 - Check Prequisites Successfully Completed\n",
    "Check that you have successfully installed and enabled Cloud SDK by running the config list command. If you get an error please refer to Troubleshooting steps found here [Cloud SDK Quickstart](https://cloud.google.com/sdk/docs/quickstart).  \n",
    "You should see an output that includes your account along with any other configuration setup when using gcloud init"
   ]
  },
  {
   "cell_type": "code",
   "execution_count": 1,
   "id": "junior-insurance",
   "metadata": {},
   "outputs": [
    {
     "name": "stdout",
     "output_type": "stream",
     "text": [
      "[accessibility]"
     ]
    },
    {
     "name": "stderr",
     "output_type": "stream",
     "text": [
      "\n",
      "Your active configuration is: [default]\n"
     ]
    },
    {
     "name": "stdout",
     "output_type": "stream",
     "text": [
      "\n",
      "screen_reader = False\n",
      "[compute]\n",
      "region = us-central1\n",
      "zone = us-central1-c\n",
      "[core]\n",
      "account = cwilbar04@gmail.com\n",
      "disable_usage_reporting = True\n",
      "project = nba-predictions-dev\n"
     ]
    }
   ],
   "source": [
    "!gcloud config list"
   ]
  },
  {
   "cell_type": "markdown",
   "id": "united-cooperation",
   "metadata": {},
   "source": [
    "## Step 2 - Create GCP Project"
   ]
  },
  {
   "cell_type": "code",
   "execution_count": 3,
   "id": "prescription-yorkshire",
   "metadata": {},
   "outputs": [],
   "source": [
    "###### TO DO: Enter name for new project\n",
    "###### Note: Proect name must be unique across GCP. If you get error when creating project please change the project name here and try again.\n",
    "\n",
    "new_project_id = 'nba-predictions-demo-2'"
   ]
  },
  {
   "cell_type": "code",
   "execution_count": 4,
   "id": "local-hollow",
   "metadata": {},
   "outputs": [
    {
     "name": "stderr",
     "output_type": "stream",
     "text": [
      "Create in progress for [https://cloudresourcemanager.googleapis.com/v1/projects/nba-predictions-demo-1].\n",
      "Waiting for [operations/cp.7150102663148119611] to finish...\n",
      "..done.\n",
      "Enabling service [cloudapis.googleapis.com] on project [nba-predictions-demo-1]...\n",
      "Operation \"operations/acf.p2-684756392010-2492b8c0-3688-446d-b6b9-88fa4809ad20\" finished successfully.\n"
     ]
    }
   ],
   "source": [
    "!gcloud projects create {new_project_id}"
   ]
  },
  {
   "cell_type": "markdown",
   "id": "familiar-teacher",
   "metadata": {},
   "source": [
    "**TO DO: Navigate to [Cloud Console](https://console.cloud.google.com/), Change to new project, and enable billing following instructions found here: [Enable Billing](https://cloud.google.com/billing/docs/how-to/modify-project#enable_billing_for_a_project)**"
   ]
  },
  {
   "cell_type": "markdown",
   "id": "boring-prediction",
   "metadata": {},
   "source": [
    "## Step 3 - Enable Necessary Cloud Services\n",
    "\n",
    "This project uses:\n",
    "+ BigQuery to Store Model Data \n",
    "+ Google Cloud Functions scheduled using Google Cloud Scheduler to Load new Data Daily\n",
    "+ Google App Engine to Host Website\n",
    "+ Google Firestore in Native Mode to store data used by the Web Page  \n",
    "  \n",
    "List below contains all services needed at time of creation of this workbook. Please add/remove from this list if the names/necessary services have changed."
   ]
  },
  {
   "cell_type": "code",
   "execution_count": 5,
   "id": "hourly-communications",
   "metadata": {},
   "outputs": [],
   "source": [
    "enable_services_list = [\n",
    "    'appengine.googleapis.com',\n",
    "    'bigquery.googleapis.com',\n",
    "    'bigquerystorage.googleapis.com',\n",
    "    'cloudapis.googleapis.com',\n",
    "    'cloudbuild.googleapis.com',\n",
    "    'clouddebugger.googleapis.com',\n",
    "    'cloudfunctions.googleapis.com',\n",
    "    'cloudresourcemanager.googleapis.com',\n",
    "    'cloudscheduler.googleapis.com',\n",
    "    'cloudtrace.googleapis.com',\n",
    "    'compute.googleapis.com',\n",
    "    'datastudio.googleapis.com',\n",
    "    'deploymentmanager.googleapis.com',\n",
    "    'firebaserules.googleapis.com',\n",
    "    'firestore.googleapis.com',\n",
    "    'logging.googleapis.com',\n",
    "    'monitoring.googleapis.com',\n",
    "    'oslogin.googleapis.com',\n",
    "    'servicemanagement.googleapis.com',\n",
    "    'serviceusage.googleapis.com',\n",
    "    'sql-component.googleapis.com',\n",
    "    'storage-api.googleapis.com',\n",
    "    'storage-component.googleapis.com',\n",
    "    'storage.googleapis.com'    \n",
    "]"
   ]
  },
  {
   "cell_type": "code",
   "execution_count": 6,
   "id": "touched-poverty",
   "metadata": {},
   "outputs": [
    {
     "name": "stderr",
     "output_type": "stream",
     "text": [
      "Operation \"operations/acf.p2-684756392010-b6282a1c-00eb-476b-a451-c750d33df3f9\" finished successfully.\n",
      "Operation \"operations/acf.p2-684756392010-554b76ed-7f8d-4a73-983c-5351b37ee4dc\" finished successfully.\n"
     ]
    }
   ],
   "source": [
    "## Services can only be enabled 20 at a time at the time of workbook creation. Use this loop to enable 20 at a time.\n",
    "for x in range(0,len(enable_services_list),20):\n",
    "    !gcloud services enable {' '.join(enable_services_list[x:(x+20)])} --project={new_project_id}   "
   ]
  },
  {
   "cell_type": "code",
   "execution_count": 7,
   "id": "suspended-politics",
   "metadata": {},
   "outputs": [
    {
     "name": "stdout",
     "output_type": "stream",
     "text": [
      "NAME                                 TITLE\n",
      "appengine.googleapis.com             App Engine Admin API\n",
      "bigquery.googleapis.com              BigQuery API\n",
      "bigquerystorage.googleapis.com       BigQuery Storage API\n",
      "cloudapis.googleapis.com             Google Cloud APIs\n",
      "cloudbuild.googleapis.com            Cloud Build API\n",
      "clouddebugger.googleapis.com         Cloud Debugger API\n",
      "cloudfunctions.googleapis.com        Cloud Functions API\n",
      "cloudresourcemanager.googleapis.com  Cloud Resource Manager API\n",
      "cloudscheduler.googleapis.com        Cloud Scheduler API\n",
      "cloudtrace.googleapis.com            Cloud Trace API\n",
      "compute.googleapis.com               Compute Engine API\n",
      "containerregistry.googleapis.com     Container Registry API\n",
      "datastore.googleapis.com             Cloud Datastore API\n",
      "datastudio.googleapis.com            Data Studio API\n",
      "deploymentmanager.googleapis.com     Cloud Deployment Manager V2 API\n",
      "firebaserules.googleapis.com         Firebase Rules API\n",
      "firestore.googleapis.com             Cloud Firestore API\n",
      "logging.googleapis.com               Cloud Logging API\n",
      "monitoring.googleapis.com            Cloud Monitoring API\n",
      "oslogin.googleapis.com               Cloud OS Login API\n",
      "pubsub.googleapis.com                Cloud Pub/Sub API\n",
      "servicemanagement.googleapis.com     Service Management API\n",
      "serviceusage.googleapis.com          Service Usage API\n",
      "source.googleapis.com                Legacy Cloud Source Repositories API\n",
      "sql-component.googleapis.com         Cloud SQL\n",
      "storage-api.googleapis.com           Google Cloud Storage JSON API\n",
      "storage-component.googleapis.com     Cloud Storage\n",
      "storage.googleapis.com               Cloud Storage API\n"
     ]
    }
   ],
   "source": [
    "# Check that services were enabled\n",
    "!gcloud services list --project={new_project_id}"
   ]
  },
  {
   "cell_type": "markdown",
   "id": "confused-recipient",
   "metadata": {},
   "source": [
    "## Step 4 - Create Necessary Service Accounts\n",
    "\n",
    "There are four primary service accounts used in this project:  \n",
    "- **App Engine default service account**\n",
    "    - This gets created automatically when the App engine API is enabled\n",
    "    - Generally your_project_id@appspot.gserviceaccount.com  <br><br>\n",
    "      \n",
    "- **Compute Engine default service account**\n",
    "    - This gets created automatically when the Compute engine API is enabled\n",
    "    - Generally your_project_number-compute@developer.gserviceaccount.com  <br><br>\n",
    "      \n",
    "- **Cloud Function service account**\n",
    "    - We create this and add necessary roles below using the Cloud SDK\n",
    "    - cloudfunction-service-account@your_project_name.iam.gserviceaccount.com\n",
    "    - This account is used as the service account to run all Cloud Functions in this project  <br><br>\n",
    "      \n",
    "- **CircleCI Service Account**\n",
    "    - We create this and add necessary roles below using the Cloud SDK\n",
    "    - circleci-deployer@your_project_name.iam.gserviceaccount.com\n",
    "    - This account is used in CircleCI for CI\\CD to deploy and test App Engine and Cloud Functions "
   ]
  },
  {
   "cell_type": "markdown",
   "id": "ordinary-climate",
   "metadata": {},
   "source": [
    "Check what service ccounts are already created (should be the two default ones described above)"
   ]
  },
  {
   "cell_type": "code",
   "execution_count": 8,
   "id": "joint-trinity",
   "metadata": {},
   "outputs": [
    {
     "name": "stdout",
     "output_type": "stream",
     "text": [
      "DISPLAY NAME                            EMAIL                                               DISABLED\n",
      "Compute Engine default service account  684756392010-compute@developer.gserviceaccount.com  False\n",
      "App Engine default service account      nba-predictions-demo-1@appspot.gserviceaccount.com  False\n"
     ]
    }
   ],
   "source": [
    "!gcloud iam service-accounts list --project={new_project_id}"
   ]
  },
  {
   "cell_type": "code",
   "execution_count": 9,
   "id": "marked-costs",
   "metadata": {},
   "outputs": [
    {
     "name": "stderr",
     "output_type": "stream",
     "text": [
      "Created service account [cloudfunction-service-account].\n"
     ]
    }
   ],
   "source": [
    "!gcloud iam service-accounts create cloudfunction-service-account \\\n",
    "    --display-name=\"Cloud Function Service Account\" \\\n",
    "    --description=\"Account used to run all Cloud Functions with necessary BigQuery and Firestore Permissions\" \\\n",
    "    --project={new_project_id}"
   ]
  },
  {
   "cell_type": "code",
   "execution_count": 10,
   "id": "graphic-juice",
   "metadata": {},
   "outputs": [
    {
     "name": "stderr",
     "output_type": "stream",
     "text": [
      "Created service account [circleci-deployer].\n"
     ]
    }
   ],
   "source": [
    "!gcloud iam service-accounts create circleci-deployer \\\n",
    "    --display-name=\"Circle CI Service Account\" \\\n",
    "    --description=\"Account used by Circle CI with necessary permissions to Deploy to Cloud Functions and App Engine\" \\\n",
    "    --project={new_project_id}"
   ]
  },
  {
   "cell_type": "markdown",
   "id": "charged-junior",
   "metadata": {},
   "source": [
    "Check service accounts were created successfully"
   ]
  },
  {
   "cell_type": "code",
   "execution_count": 11,
   "id": "attended-cattle",
   "metadata": {},
   "outputs": [
    {
     "name": "stdout",
     "output_type": "stream",
     "text": [
      "DISPLAY NAME                            EMAIL                                                                         DISABLED\n",
      "Compute Engine default service account  684756392010-compute@developer.gserviceaccount.com                            False\n",
      "Circle CI Service Account               circleci-deployer@nba-predictions-demo-1.iam.gserviceaccount.com              False\n",
      "Cloud Function Service Account          cloudfunction-service-account@nba-predictions-demo-1.iam.gserviceaccount.com  False\n",
      "App Engine default service account      nba-predictions-demo-1@appspot.gserviceaccount.com                            False\n"
     ]
    }
   ],
   "source": [
    "!gcloud iam service-accounts list --project={new_project_id}"
   ]
  },
  {
   "cell_type": "markdown",
   "id": "electrical-collect",
   "metadata": {},
   "source": [
    "Programatically update the roles for the new service accounts using the guide found here: [Programatic Change Access](https://cloud.google.com/iam/docs/granting-changing-revoking-access#programmatic)"
   ]
  },
  {
   "cell_type": "code",
   "execution_count": 12,
   "id": "useful-hurricane",
   "metadata": {},
   "outputs": [],
   "source": [
    "# Save policy file in directory above where the repo is saved so that it is not stored to github\n",
    "file_directory = '..\\..\\policy.json'"
   ]
  },
  {
   "cell_type": "code",
   "execution_count": 13,
   "id": "golden-congo",
   "metadata": {},
   "outputs": [],
   "source": [
    "# Write current policy to file directory\n",
    "!gcloud projects get-iam-policy {new_project_id} --format json > {file_directory}"
   ]
  },
  {
   "cell_type": "markdown",
   "id": "equivalent-bundle",
   "metadata": {},
   "source": [
    "**If running jupyter notebook run below cell to load and modify policy file.**"
   ]
  },
  {
   "cell_type": "code",
   "execution_count": 14,
   "id": "express-exchange",
   "metadata": {},
   "outputs": [],
   "source": [
    "import json\n",
    "\n",
    "with open('..\\..\\policy.json') as f:\n",
    "    policy = json.load(f)\n",
    "\n",
    "def modify_policy_add_role(policy, role, member):\n",
    "    \"\"\"Adds a new role binding to a policy.\"\"\"\n",
    "\n",
    "    binding = {\"members\": [member],\"role\": role }\n",
    "    policy[\"bindings\"].append(binding)\n",
    "    return policy\n",
    "\n",
    "members = [f'serviceAccount:cloudfunction-service-account@{new_project_id}.iam.gserviceaccount.com', \n",
    "           f'serviceAccount:circleci-deployer@{new_project_id}.iam.gserviceaccount.com']\n",
    "roles = {members[0]:['roles/bigquery.dataEditor','roles/datastore.user','roles/run.serviceAgent', 'roles/bigquery.user',\n",
    "                    'roles/storage.admin'],\n",
    "        members[1]:['roles/appengine.deployer','roles/appengine.serviceAdmin','roles/cloudbuild.builds.builder',\n",
    "                   'roles/cloudfunctions.admin','roles/compute.storageAdmin','roles/iam.serviceAccountUser']}\n",
    "\n",
    "for member in members:\n",
    "    for role in roles[member]:\n",
    "        policy = modify_policy_add_role(policy, role, member)\n",
    "\n",
    "with open('..\\..\\policy.json', 'w') as json_file:\n",
    "    json.dump(policy, json_file)"
   ]
  },
  {
   "cell_type": "markdown",
   "id": "rental-sentence",
   "metadata": {},
   "source": [
    "**If running code direct in console, navigate to file path and add the members and roles below in to the file path**  \n",
    "**Change \"your_project_id\" to the name of your project id**\n",
    "\n",
    "{\"members\": [\"serviceAccount:cloudfunction-service-account@your_project_id.iam.gserviceaccount.com\"], \"role\": \"roles/bigquery.user\"},  \n",
    "{\"members\": [\"serviceAccount:cloudfunction-service-account@your_project_id.iam.gserviceaccount.com\"], \"role\": \"roles/datastore.user\"},  \n",
    "{\"members\": [\"serviceAccount:cloudfunction-service-account@your_project_id.iam.gserviceaccount.com\"], \"role\": \"roles/run.serviceAgent\"},  \n",
    "{\"members\": [\"serviceAccount:circleci-deployer@your_project_id.iam.gserviceaccount.com\"], \"role\": \"roles/appengine.deployer\"},   \n",
    "{\"members\": [\"serviceAccount:circleci-deployer@your_project_id.iam.gserviceaccount.com\"], \"role\": \"roles/appengine.serviceAdmin\"},   \n",
    "{\"members\": [\"serviceAccount:circleci-deployer@your_project_id.iam.gserviceaccount.com\"], \"role\": \"roles/cloudbuild.builds.builder\"},   \n",
    "{\"members\": [\"serviceAccount:circleci-deployer@your_project_id.iam.gserviceaccount.com\"], \"role\": \"roles/cloudfunctions.admin\"},  \n",
    "{\"members\": [\"serviceAccount:circleci-deployer@your_project_id.iam.gserviceaccount.com\"], \"role\": \"roles/compute.storageAdmin\"},  \n",
    "{\"members\": [\"serviceAccount:circleci-deployer@your_project_id.iam.gserviceaccount.com\"], \"role\": \"roles/iam.serviceAccountUser\"}"
   ]
  },
  {
   "cell_type": "code",
   "execution_count": 15,
   "id": "opening-command",
   "metadata": {},
   "outputs": [
    {
     "name": "stdout",
     "output_type": "stream",
     "text": [
      "bindings:\n",
      "- members:\n",
      "  - serviceAccount:circleci-deployer@nba-predictions-demo-1.iam.gserviceaccount.com\n",
      "  role: roles/appengine.deployer\n",
      "- members:\n",
      "  - serviceAccount:circleci-deployer@nba-predictions-demo-1.iam.gserviceaccount.com\n",
      "  role: roles/appengine.serviceAdmin\n",
      "- members:\n",
      "  - serviceAccount:cloudfunction-service-account@nba-predictions-demo-1.iam.gserviceaccount.com\n",
      "  role: roles/bigquery.dataEditor\n",
      "- members:\n",
      "  - serviceAccount:cloudfunction-service-account@nba-predictions-demo-1.iam.gserviceaccount.com\n",
      "  role: roles/bigquery.user\n",
      "- members:\n",
      "  - serviceAccount:684756392010@cloudbuild.gserviceaccount.com\n",
      "  - serviceAccount:circleci-deployer@nba-predictions-demo-1.iam.gserviceaccount.com\n",
      "  role: roles/cloudbuild.builds.builder\n",
      "- members:\n",
      "  - serviceAccount:service-684756392010@gcp-sa-cloudbuild.iam.gserviceaccount.com\n",
      "  role: roles/cloudbuild.serviceAgent\n",
      "- members:\n",
      "  - serviceAccount:circleci-deployer@nba-predictions-demo-1.iam.gserviceaccount.com\n",
      "  role: roles/cloudfunctions.admin\n",
      "- members:\n",
      "  - serviceAccount:service-684756392010@gcf-admin-robot.iam.gserviceaccount.com\n",
      "  role: roles/cloudfunctions.serviceAgent\n",
      "- members:\n",
      "  - serviceAccount:service-684756392010@gcp-sa-cloudscheduler.iam.gserviceaccount.com\n",
      "  role: roles/cloudscheduler.serviceAgent\n",
      "- members:\n",
      "  - serviceAccount:service-684756392010@compute-system.iam.gserviceaccount.com\n",
      "  role: roles/compute.serviceAgent\n",
      "- members:\n",
      "  - serviceAccount:circleci-deployer@nba-predictions-demo-1.iam.gserviceaccount.com\n",
      "  role: roles/compute.storageAdmin\n",
      "- members:\n",
      "  - serviceAccount:service-684756392010@containerregistry.iam.gserviceaccount.com\n",
      "  role: roles/containerregistry.ServiceAgent\n",
      "- members:\n",
      "  - serviceAccount:cloudfunction-service-account@nba-predictions-demo-1.iam.gserviceaccount.com\n",
      "  role: roles/datastore.user\n",
      "- members:\n",
      "  - serviceAccount:684756392010-compute@developer.gserviceaccount.com\n",
      "  - serviceAccount:684756392010@cloudservices.gserviceaccount.com\n",
      "  - serviceAccount:nba-predictions-demo-1@appspot.gserviceaccount.com\n",
      "  role: roles/editor\n",
      "- members:\n",
      "  - serviceAccount:service-684756392010@firebase-rules.iam.gserviceaccount.com\n",
      "  role: roles/firebaserules.system\n",
      "- members:"
     ]
    },
    {
     "name": "stderr",
     "output_type": "stream",
     "text": [
      "Updated IAM policy for project [nba-predictions-demo-1].\n"
     ]
    },
    {
     "name": "stdout",
     "output_type": "stream",
     "text": [
      "\n",
      "  - serviceAccount:circleci-deployer@nba-predictions-demo-1.iam.gserviceaccount.com\n",
      "  role: roles/iam.serviceAccountUser\n",
      "- members:\n",
      "  - user:cwilbar04@gmail.com\n",
      "  role: roles/owner\n",
      "- members:\n",
      "  - serviceAccount:cloudfunction-service-account@nba-predictions-demo-1.iam.gserviceaccount.com\n",
      "  role: roles/run.serviceAgent\n",
      "- members:\n",
      "  - serviceAccount:cloudfunction-service-account@nba-predictions-demo-1.iam.gserviceaccount.com\n",
      "  role: roles/storage.admin\n",
      "etag: BwW9iJLM8Bk=\n",
      "version: 1\n"
     ]
    }
   ],
   "source": [
    "!gcloud projects set-iam-policy {new_project_id} {file_directory}"
   ]
  },
  {
   "cell_type": "code",
   "execution_count": 16,
   "id": "governmental-nerve",
   "metadata": {},
   "outputs": [],
   "source": [
    "# Remove policy file \n",
    "!del {file_directory}"
   ]
  },
  {
   "cell_type": "markdown",
   "id": "adverse-hierarchy",
   "metadata": {},
   "source": [
    "## Step 5 - Create App Engine Application & Firestore in Native Mode Database\n",
    "\n",
    "In order to deploy a specific application you first need to create a placeholder application.\n",
    "\n",
    "This application will get the latest infomration for each team from storage in Firestore in Native Mode. We create an empty database here to change the Firestore mode from Datastore Mode to Native Mode.\n",
    "\n",
    "**Change YOUR_REGION to your default region**  \n",
    "See [Regions and Zone](https://cloud.google.com/compute/docs/regions-zones) for more info"
   ]
  },
  {
   "cell_type": "code",
   "execution_count": 17,
   "id": "wanted-acting",
   "metadata": {},
   "outputs": [],
   "source": [
    "## TO DO: Change region to your default region\n",
    "region = 'us-central'"
   ]
  },
  {
   "cell_type": "code",
   "execution_count": 18,
   "id": "specified-vertex",
   "metadata": {},
   "outputs": [
    {
     "name": "stderr",
     "output_type": "stream",
     "text": [
      "You are creating an app for project [nba-predictions-demo-1].\n",
      "WARNING: Creating an App Engine application for a project is irreversible and the region\n",
      "cannot be changed. More information about regions is at\n",
      "<https://cloud.google.com/appengine/docs/locations>.\n",
      "\n",
      "Creating App Engine application in project [nba-predictions-demo-1] and region [us-central]....\n",
      ".................................done.\n",
      "Success! The app is now created. Please use `gcloud app deploy` to deploy your first app.\n"
     ]
    }
   ],
   "source": [
    "!gcloud app create --region={region} --project={new_project_id}"
   ]
  },
  {
   "cell_type": "code",
   "execution_count": 19,
   "id": "furnished-window",
   "metadata": {},
   "outputs": [
    {
     "name": "stderr",
     "output_type": "stream",
     "text": [
      "Waiting for operation [apps/nba-predictions-demo-1/operations/1dc611dd-16a9-4f9e-a3b6-799e4570bba8] to complete...\n",
      ".....done.\n",
      "Success! Selected Google Cloud Firestore Native database for nba-predictions-demo-1\n"
     ]
    }
   ],
   "source": [
    "!gcloud firestore databases create --region={region} --project={new_project_id}"
   ]
  },
  {
   "cell_type": "markdown",
   "id": "confidential-inspection",
   "metadata": {},
   "source": [
    "## Step 6 - Create BigQuery Dataset\n",
    "\n",
    "Your new project will need a dataset to store the data if you plan on copying/creating your own repository of data.  \n",
    "\n",
    "This has to be a unique name per project.  \n",
    "\n",
    "In my workflows I have named the dataset 'nba' but feel free to change it. Note that if you do change it, then you will also need to change the dataset name in any of the other python scripts in this project appropriately. "
   ]
  },
  {
   "cell_type": "code",
   "execution_count": 20,
   "id": "empirical-provision",
   "metadata": {},
   "outputs": [],
   "source": [
    "dataset_name = 'nba'"
   ]
  },
  {
   "cell_type": "code",
   "execution_count": 22,
   "id": "marked-montana",
   "metadata": {},
   "outputs": [
    {
     "name": "stdout",
     "output_type": "stream",
     "text": [
      "Dataset 'nba-predictions-demo-1:nba' successfully created.\n"
     ]
    }
   ],
   "source": [
    "#Stop and re-run if this takes more than a minute\n",
    "!bq --location=US mk --dataset \\\n",
    "--description \"Stores all National Basketball Association Data. Created using Project Creation workbook found at https://github.com/cwilbar04/nba-predictions/tree/main/notebooks\" \\\n",
    "{new_project_id}:{dataset_name}  "
   ]
  },
  {
   "cell_type": "markdown",
   "id": "parallel-missouri",
   "metadata": {},
   "source": [
    "## Step 7 - Load BigQuery Tables\n",
    "\n",
    "All data in this project is taken from [BASEKTBALL REFERENCE](https://www.basketball-reference.com/)\n",
    "\n",
    "There are two options for loading the data to BigQuery:  \n",
    "1. **Load the data yourself** \n",
    "    - Part 1: Raw Data\n",
    "        - Navigate to [Initial Load Workbook](https://github.com/cwilbar04/nba-predictions/blob/main/notebooks/NBA%20Data%20Initial%20Load.ipynb) and change start date to desired starting date. For my model I loaded data starting from '10-1-1999'. Always choose a start date in between seasons if you don't want to get partial season data. Warning this may take a couple days and require re-starts. \n",
    "    - Part 2: Model Data\n",
    "        - Navigate to [Initial Model Load Workbook](https://github.com/cwilbar04/nba-predictions/blob/main/notebooks/NBA%20Model%20Table%20Initial%20Load.ipynb) and change project and dataset names to what you used in the workbook then run all. <br><br>\n",
    "2. **Copy Data**\n",
    "    - For a quicker load process, simply copy the data directly from my public data set by running the code blocks below. You must completed Step 6 - Create BigQuery Dataset first. Be careful of costs if dataset you create is in a different region than US. At time of creation this is still in beta and there is no cost. See documentation here for latest info: [Copy Datasets](https://cloud.google.com/bigquery/docs/copying-datasets)"
   ]
  },
  {
   "cell_type": "code",
   "execution_count": 23,
   "id": "valuable-memphis",
   "metadata": {},
   "outputs": [
    {
     "name": "stderr",
     "output_type": "stream",
     "text": [
      "Operation \"operations/acf.p2-684756392010-6e25b1ba-3f45-4940-b5c1-8981a9921ec4\" finished successfully.\n"
     ]
    }
   ],
   "source": [
    "##### Copy Dataset Code Block. Only run if choosing option 2 above ####\n",
    "## You first have to enable Data Transfer Service API ##\n",
    "!gcloud services enable bigquerydatatransfer.googleapis.com --project={new_project_id}"
   ]
  },
  {
   "cell_type": "code",
   "execution_count": 37,
   "id": "adequate-duration",
   "metadata": {},
   "outputs": [
    {
     "name": "stdout",
     "output_type": "stream",
     "text": [
      "Transfer configuration 'projects/684756392010/locations/us/transferConfigs/60b230a8-0000-2aca-84d7-94eb2c032f92' successfully created.\n"
     ]
    }
   ],
   "source": [
    "##### Copy Dataset Code Block. Only run if choosing option 2 above ####\n",
    "## Enabling the Data Transfer Service API can take a minute. Please wait and retry if you get an error\"   ##\n",
    "## Below code must be run in python. To run outside of python please replace {} with correct information. ##\n",
    "## Params must be JSON formatted                                                                          ##\n",
    "## Data will be transfered from my public data set to the dataset you created in Step 6 above ##\n",
    "\n",
    "import json\n",
    "source_parameters = '{\"source_dataset_id\":\"nba\", \"source_project_id\":\"nba-predictions-prod\", \"overwrite_destination_table\":\"true\"}'\n",
    "source_parameters_json = json.dumps(source_parameters)\n",
    "run = f'bq mk --transfer_config\\\n",
    "                --project_id={new_project_id}\\\n",
    "                --data_source=cross_region_copy\\\n",
    "                --target_dataset={dataset_name}\\\n",
    "                --display_name=\"Initial load of public NBA dataset\"\\\n",
    "                --params={source_parameters_json}'\n",
    "!{run}"
   ]
  },
  {
   "cell_type": "code",
   "execution_count": 48,
   "id": "every-participant",
   "metadata": {},
   "outputs": [],
   "source": [
    "## TO DO! Replace the bottom line with the text in quotes from the successful setup step above (the resource name)\n",
    "## Must delete the transfer config after creation so that it only runs once\n",
    "## Any job in progress will complete prior to deletion\n",
    "!bq rm \\\n",
    "-f \\\n",
    "--transfer_config \\\n",
    "projects/684756392010/locations/us/transferConfigs/60caf9d5-0000-26d1-b574-94eb2c0bc71a"
   ]
  },
  {
   "cell_type": "code",
   "execution_count": 49,
   "id": "premier-lyric",
   "metadata": {},
   "outputs": [],
   "source": [
    "## If you accidentally re-ran the create step, run this to get a list of Transfer services and delete them all\n",
    "## Also run to check that it was actually deleted.\n",
    "!bq ls \\\n",
    "--transfer_config \\\n",
    "--transfer_location=US\\\n",
    "--project_id={new_project_id}\\\n",
    "--filter=dataSourceIds:cross_region_copy"
   ]
  },
  {
   "cell_type": "markdown",
   "id": "contrary-sheep",
   "metadata": {},
   "source": [
    "## Step 8 - Deploy Cloud Functions\n",
    "\n",
    "This project uses three cloud functions that we will set up schedules for using Cloud Scheduler in order to update the data daily:\n",
    "1. **nba_basketball_reference_scraper**\n",
    "    - This funciton allows you to specify a start date and end date in a JSON header ({\"StartDate\":\"1-1-1000\",\"EndDate\":\"1-1-100\"}) for game box scores and game player box scores from [BASEKTBALL REFERENCE](https://www.basketball-reference.com/) to nba.raw_basketballreference_game and nba.raw_basketballreference_playerbox.\n",
    "    - If you don't provide a start date then it automatically uses the max game date from the raw_basketballreference_game table.\n",
    "    - If you don't specify an end date then it automatically loads data up to yesterday (aka the last day games were guaranteed to be completed).\n",
    "    - When we schedule this job we will not provide a start date or end date so it will always load the most recent data that is not already in the raw_basketballreference_game and raw_basketballreference_playerbox tables. <br><br>\n",
    "       \n",
    "2. **nba_model_game_refresh**\n",
    "    - This function uses the view we will create in the next step to identify games that have been loaded to the raw_basketballreference_game table but have not been loaded in to the model_game_data table yet. It then performs all of the necessary transformations to combine specific player data stats and create moving average columns and load the data in to the model_game_data table.\n",
    "    - This job also loads the most recent information for each team to Firestore that our web app uses when making predictions.\n",
    "    - This job does not care what is in the JSON header.\n",
    "    - We will schedule this to run daily one hour after the scraper function. <br><br>\n",
    "    \n",
    "3. **nba_get_upcoming_games**\n",
    "    - This function gets the schedule from [BASEKTBALL REFERENCE](https://www.basketball-reference.com/) for one week, including \"today\" and overwrites the schedule file stored in the App Engine default cloud storage bucket. This schedule will be used to display upcoming games on our web page.\n",
    "    - This function will be scheduled to run one hour before the scraper function.\n",
    "  \n",
    "**NOTE:** All three functions are set to be allow all users to invoke them in the current build. This is to avoid setting up credentialing for cloud scheduler. Future build will seek to remove this vulnerability by properly setting up Cloud Scheduler credentials.\n",
    "\n",
    "**IMPORTANT** The deploy functions will only run if you have launched this notebook from a git cloned folder. Otherwise, you will need to change the \"source\" to the file path where the folders containing the relevant functions and requirements exist.\n",
    "\n",
    "**NOTE:** Deploying can take some time, up to 5 minutes, for each function."
   ]
  },
  {
   "cell_type": "code",
   "execution_count": 25,
   "id": "ideal-nickel",
   "metadata": {},
   "outputs": [],
   "source": [
    "## Set variables used in each deploy. You should not need to change these if you have followed \n",
    "# all of the steps about in creating the service account and creating the app engine.\n",
    "CLOUD_FUNCTION_SERVICE_ACCOUNT = f'cloudfunction-service-account@{new_project_id}.iam.gserviceaccount.com'\n",
    "CLOUD_STORAGE_BUCKET = f'{new_project_id}.appspot.com'"
   ]
  },
  {
   "cell_type": "code",
   "execution_count": 26,
   "id": "curious-anniversary",
   "metadata": {},
   "outputs": [
    {
     "name": "stdout",
     "output_type": "stream",
     "text": [
      "availableMemoryMb: 1024"
     ]
    },
    {
     "name": "stderr",
     "output_type": "stream",
     "text": [
      "Deploying function (may take a while - up to 2 minutes)...\n",
      "..\n",
      "For Cloud Build Stackdriver Logs, visit: https://console.cloud.google.com/logs/viewer?project=nba-predictions-demo-1&advancedFilter=resource.type%3Dbuild%0Aresource.labels.build_id%3Db132aa67-0f53-4751-b7aa-a76941a3f299%0AlogName%3Dprojects%2Fnba-predictions-demo-1%2Flogs%2Fcloudbuild\n",
      "..................................................................done.\n"
     ]
    },
    {
     "name": "stdout",
     "output_type": "stream",
     "text": [
      "\n",
      "buildId: b132aa67-0f53-4751-b7aa-a76941a3f299\n",
      "entryPoint: nba_basketballreference_scraper\n",
      "httpsTrigger:\n",
      "  securityLevel: SECURE_OPTIONAL\n",
      "  url: https://us-central1-nba-predictions-demo-1.cloudfunctions.net/nba_basketball_reference_scraper\n",
      "ingressSettings: ALLOW_ALL\n",
      "labels:\n",
      "  deployment-tool: cli-gcloud\n",
      "name: projects/nba-predictions-demo-1/locations/us-central1/functions/nba_basketball_reference_scraper\n",
      "runtime: python38\n",
      "serviceAccountEmail: cloudfunction-service-account@nba-predictions-demo-1.iam.gserviceaccount.com\n",
      "sourceUploadUrl: https://storage.googleapis.com/gcf-upload-us-central1-41052b96-210b-4ea8-9587-afe12470ad8a/98c6f9d8-c120-4540-985b-bcf78c8e10fb.zip?GoogleAccessId=service-684756392010@gcf-admin-robot.iam.gserviceaccount.com&Expires=1615771359&Signature=rUVKbgWZyLZtrIQHYwq8MBE%2FoUBuXyKA69IQG1sqEoi11y5Xe0n6H4oHe4B4aOdJtQJGQ%2B0k5S7dNsvN6Eod2lXVj2kaHceGSHuyVgOBtF0rgOiQ%2B5OEg0kt5jewyY6T1C%2FrDm42cEi42nVHVB1sztsR5n%2F3jXAzUy4p1CtU8m9pgWLyjQLYxvRaDOqef2VgrA8%2FV%2BrV2S%2BWnZjt4iuvKRIRY0Gd2AAuO45i%2BsP7La%2FeQyZNxVwrAhXXGOYyXuWPem9BIaOl6U1cWTCJhI0nEgI%2FPdszNPIb9%2Bb%2FH2Z89o2ex9BjCwYNsSApY4mnYn8USWPkEv4sTzxaWtt33M6fqA%3D%3D\n",
      "status: ACTIVE\n",
      "timeout: 300s\n",
      "updateTime: '2021-03-15T00:54:27.643Z'\n",
      "versionId: '1'\n",
      "bindings:\n",
      "- members:\n",
      "  - allUsers\n",
      "  role: roles/cloudfunctions.invoker\n",
      "etag: BwW9iLFIM3g=\n",
      "version: 1\n"
     ]
    }
   ],
   "source": [
    "# Deploy function\n",
    "FUNCTION_NAME='nba_basketball_reference_scraper'\n",
    "\n",
    "!gcloud functions deploy {FUNCTION_NAME} \\\n",
    "  --source=../scraper \\\n",
    "  --project={new_project_id} \\\n",
    "  --allow-unauthenticated \\\n",
    "  --entry-point=nba_basketballreference_scraper \\\n",
    "  --memory=1024MB \\\n",
    "  --runtime=python38 \\\n",
    "  --service-account={CLOUD_FUNCTION_SERVICE_ACCOUNT} \\\n",
    "  --trigger-http \\\n",
    "  --timeout=300\n",
    "\n",
    "# Set policy on function to allow allUsers to invoke\n",
    "!gcloud functions add-iam-policy-binding {FUNCTION_NAME} \\\n",
    "  --member=allUsers \\\n",
    "  --role=roles/cloudfunctions.invoker \\\n",
    "  --project={new_project_id}"
   ]
  },
  {
   "cell_type": "code",
   "execution_count": 27,
   "id": "later-reading",
   "metadata": {},
   "outputs": [
    {
     "name": "stdout",
     "output_type": "stream",
     "text": [
      "availableMemoryMb: 1024\n",
      "buildId: 7a99c4c7-2ea6-49f8-904e-b03427a6f248\n",
      "entryPoint: create_model_data\n",
      "httpsTrigger:\n",
      "  securityLevel: SECURE_OPTIONAL\n",
      "  url: https://us-central1-nba-predictions-demo-1.cloudfunctions.net/nba_model_game_refresh\n",
      "ingressSettings: ALLOW_ALL\n",
      "labels:\n",
      "  deployment-tool: cli-gcloud\n",
      "name: projects/nba-predictions-demo-1/locations/us-central1/functions/nba_model_game_refresh\n",
      "runtime: python38\n",
      "serviceAccountEmail: cloudfunction-service-account@nba-predictions-demo-1.iam.gserviceaccount.com\n",
      "sourceUploadUrl: https://storage.googleapis.com/gcf-upload-us-central1-41052b96-210b-4ea8-9587-afe12470ad8a/121b2299-54ea-4957-81ab-9b2a4e34bb95.zip?GoogleAccessId=service-684756392010@gcf-admin-robot.iam.gserviceaccount.com&Expires=1615771473&Signature=RgRh0kus5oN0Tj5b4FEWijkOSLdzGxITaNU1P4hM7reaMSCfj%2BqJwW%2F1r56Ej%2FFg8KYrd4ReUfXgCmT9J7GDUWCdHu%2B%2FyBACLN3rxKpsaN2xSQbGZ3k4OFFKdk%2B7LybFKFRKItLdda9GkohsH%2BJNHSy0C8YdMMP1rqiJEiSeiB8d4x2eg1cqwQSFrliQEHqKNw%2B3LOKknCu%2BH69VkJ8Nw9wq0voymC7NWobM3eT3UkjqnomAJqU0ZHG9ZiblZ8IXhYd97wH6wVrcNs7c9FWCNghhz3QqgJkAfIwSIf9UPibOIS1bGgOSmqnM9hgobbQujHoXH4o8%2B%2FnFBwIj%2BqabEg%3D%3D\n",
      "status: ACTIVE\n",
      "timeout: 300s\n",
      "updateTime: '2021-03-15T00:56:43.910Z'\n",
      "versionId: '1'\n"
     ]
    },
    {
     "name": "stderr",
     "output_type": "stream",
     "text": [
      "Deploying function (may take a while - up to 2 minutes)...\n",
      ".\n",
      "For Cloud Build Stackdriver Logs, visit: https://console.cloud.google.com/logs/viewer?project=nba-predictions-demo-1&advancedFilter=resource.type%3Dbuild%0Aresource.labels.build_id%3D7a99c4c7-2ea6-49f8-904e-b03427a6f248%0AlogName%3Dprojects%2Fnba-predictions-demo-1%2Flogs%2Fcloudbuild\n",
      "...........................................................................done.\n"
     ]
    },
    {
     "name": "stdout",
     "output_type": "stream",
     "text": [
      "bindings:\n",
      "- members:\n",
      "  - allUsers\n",
      "  role: roles/cloudfunctions.invoker\n",
      "etag: BwW9iLlk664=\n",
      "version: 1\n"
     ]
    }
   ],
   "source": [
    "#Deploy function\n",
    "FUNCTION_NAME='nba_model_game_refresh'\n",
    "\n",
    "!gcloud functions deploy {FUNCTION_NAME} \\\n",
    "  --source=../data_model \\\n",
    "  --project={new_project_id} \\\n",
    "  --allow-unauthenticated \\\n",
    "  --entry-point=create_model_data \\\n",
    "  --memory=1024MB \\\n",
    "  --runtime=python38 \\\n",
    "  --service-account={CLOUD_FUNCTION_SERVICE_ACCOUNT} \\\n",
    "  --trigger-http \\\n",
    "  --timeout=300\n",
    "\n",
    "# Set policy on function to allow allUsers to invoke\n",
    "!gcloud functions add-iam-policy-binding {FUNCTION_NAME} \\\n",
    "  --member=allUsers \\\n",
    "  --role=roles/cloudfunctions.invoker \\\n",
    "  --project={new_project_id}"
   ]
  },
  {
   "cell_type": "code",
   "execution_count": 28,
   "id": "domestic-carbon",
   "metadata": {},
   "outputs": [
    {
     "name": "stdout",
     "output_type": "stream",
     "text": [
      "availableMemoryMb: 512\n",
      "buildId: d0973e7c-09f2-4fc4-abbe-0d6d7a741498\n",
      "entryPoint: write_to_bucket\n",
      "environmentVariables:\n",
      "  CLOUD_STORAGE_BUCKET: nba-predictions-demo-1.appspot.com\n",
      "httpsTrigger:\n",
      "  securityLevel: SECURE_OPTIONAL\n",
      "  url: https://us-central1-nba-predictions-demo-1.cloudfunctions.net/nba_get_upcoming_games\n",
      "ingressSettings: ALLOW_ALL\n",
      "labels:\n",
      "  deployment-tool: cli-gcloud\n",
      "name: projects/nba-predictions-demo-1/locations/us-central1/functions/nba_get_upcoming_games\n",
      "runtime: python38\n",
      "serviceAccountEmail: cloudfunction-service-account@nba-predictions-demo-1.iam.gserviceaccount.com\n",
      "sourceUploadUrl: https://storage.googleapis.com/gcf-upload-us-central1-41052b96-210b-4ea8-9587-afe12470ad8a/1b6c1b10-d3db-4af5-abe1-470a46a9afde.zip?GoogleAccessId=service-684756392010@gcf-admin-robot.iam.gserviceaccount.com&Expires=1615771609&Signature=GY4JQkwao8tzvcCACCx7Gud2I50rTZSxXl1U7mucH77Pq597hddZ7LWSA78HPFP8%2BaJ9qe1LMPTI9UFCrVRH5fM6P6pLNJNSsNImRlsLdCzhDS%2BIK1rlkd5bKzFYYGjGZVCx61jyVJm7eRPPgmPKCYbnpO%2BFfjRtYgwrBwkd2Ez5q9lNnv7kmcqdAY%2FPpheT3pULRduzxEgZjc5QuWYZFoEZWM1R8e9XpHlWjQc%2B2mPK%2FmzRtoNX2lO9OPYmcrEgP6BRJOeso0sxBKWNwuV%2FBow49qk0wjm%2FVqKbxiU70uPw5OXVAZ6RHmR8AnN2D7dnu4CbERtoFZhdFQmtPzu0eg%3D%3D\n",
      "status: ACTIVE\n",
      "timeout: 60s\n",
      "updateTime: '2021-03-15T00:58:27.104Z'\n",
      "versionId: '1'\n"
     ]
    },
    {
     "name": "stderr",
     "output_type": "stream",
     "text": [
      "Deploying function (may take a while - up to 2 minutes)...\n",
      ".\n",
      "For Cloud Build Stackdriver Logs, visit: https://console.cloud.google.com/logs/viewer?project=nba-predictions-demo-1&advancedFilter=resource.type%3Dbuild%0Aresource.labels.build_id%3Dd0973e7c-09f2-4fc4-abbe-0d6d7a741498%0AlogName%3Dprojects%2Fnba-predictions-demo-1%2Flogs%2Fcloudbuild\n",
      ".............................................................done.\n"
     ]
    },
    {
     "name": "stdout",
     "output_type": "stream",
     "text": [
      "bindings:\n",
      "- members:\n",
      "  - allUsers\n",
      "  role: roles/cloudfunctions.invoker\n",
      "etag: BwW9iL-NQGY=\n",
      "version: 1\n"
     ]
    }
   ],
   "source": [
    "# Deploy function\n",
    "FUNCTION_NAME='nba_get_upcoming_games'\n",
    "\n",
    "!gcloud functions deploy {FUNCTION_NAME} \\\n",
    "  --source=../get_schedule \\\n",
    "  --project={new_project_id} \\\n",
    "  --allow-unauthenticated \\\n",
    "  --entry-point=write_to_bucket \\\n",
    "  --memory=512MB \\\n",
    "  --runtime=python38 \\\n",
    "  --service-account={CLOUD_FUNCTION_SERVICE_ACCOUNT} \\\n",
    "  --trigger-http \\\n",
    "  --timeout=60 \\\n",
    "  --set-env-vars=CLOUD_STORAGE_BUCKET={CLOUD_STORAGE_BUCKET}\n",
    "\n",
    "# Set policy on function to allow allUsers to invoke\n",
    "!gcloud functions add-iam-policy-binding {FUNCTION_NAME} \\\n",
    "  --member=allUsers \\\n",
    "  --role=roles/cloudfunctions.invoker \\\n",
    "  --project={new_project_id}"
   ]
  },
  {
   "cell_type": "markdown",
   "id": "expected-chest",
   "metadata": {},
   "source": [
    "## Step 9 - Create BigQuery View\n",
    "\n",
    "In order to use the nba_model_game_refresh function we need to create a Big Query view that identifies what games have been loaded in to the raw_basektballrefernce_game table but have not been loaded in to the model_game_data table yet. Copying datasets does not copy views so we will always need to run this step even if you copied the entire dataset directly.\n",
    "\n",
    "**IMPORTANT** If you ever change the number of games to use for the weighted moving average (W) then you will need to update this view as well. The game_number < filter needs to change to however many games you are averaging over. Future release will seek to remove this change dependency as it is too easy to miss."
   ]
  },
  {
   "cell_type": "code",
   "execution_count": 56,
   "id": "dramatic-cedar",
   "metadata": {},
   "outputs": [],
   "source": [
    "## Choose how many games you want to include for the weighted moving average\n",
    "W = 20"
   ]
  },
  {
   "cell_type": "code",
   "execution_count": 77,
   "id": "level-logic",
   "metadata": {},
   "outputs": [
    {
     "name": "stdout",
     "output_type": "stream",
     "text": [
      "Replaced nba-predictions-demo-1.nba.games_to_load_to_model\n",
      "\n"
     ]
    },
    {
     "name": "stderr",
     "output_type": "stream",
     "text": [
      "\n",
      "Waiting on bqjob_r78cfbe5ed764c4cd_00000178338f452c_1 ... (0s) Current status: RUNNING\n",
      "                                                                                      \n",
      "Waiting on bqjob_r78cfbe5ed764c4cd_00000178338f452c_1 ... (0s) Current status: DONE   \n"
     ]
    }
   ],
   "source": [
    "## Change dataset name (nba) if you chose a different dataset name earlier\n",
    "view_name = 'nba.games_to_load_to_model'\n",
    "view_query = f'CREATE OR REPLACE VIEW `{view_name}` AS \\\n",
    "WITH model_load_games as (SELECT \\\n",
    "distinct game_key as game_key \\\n",
    "FROM `nba.model_game` \\\n",
    ") \\\n",
    "    SELECT distinct order_of_games_per_team.game_key, \\\n",
    "    CASE WHEN model_load_games.game_key is NULL THEN 1 ELSE 0 END as NEEDS_TO_LOAD_TO_MODEL \\\n",
    "    FROM ( \\\n",
    "            SELECT team, game_key, row_number() OVER (PARTITION BY team ORDER BY game_date desc) as game_number \\\n",
    "            FROM ( \\\n",
    "                    SELECT \\\n",
    "                        home_team_name as team, game_date, game_key \\\n",
    "                    FROM  `nba.raw_basketballreference_game` \\\n",
    "                    UNION DISTINCT \\\n",
    "                    SELECT \\\n",
    "                        visitor_team_name as team, game_date, game_key \\\n",
    "                    FROM  `nba.raw_basketballreference_game` \\\n",
    "                 ) games_per_team \\\n",
    "            )order_of_games_per_team \\\n",
    "    LEFT JOIN model_load_games ON model_load_games.game_key = order_of_games_per_team.game_key \\\n",
    "    WHERE team in ( \\\n",
    "                    SELECT \\\n",
    "                        distinct home_team_name as team_to_load \\\n",
    "                    FROM `nba.raw_basketballreference_game` \\\n",
    "                    WHERE \\\n",
    "                        game_key not in (SELECT game_key FROM model_load_games) \\\n",
    "                    UNION DISTINCT \\\n",
    "                    SELECT \\\n",
    "                        distinct visitor_team_name as team_to_load \\\n",
    "                    FROM `nba.raw_basketballreference_game` \\\n",
    "                    WHERE \\\n",
    "                        game_key not in (SELECT game_key FROM model_load_games))'\n",
    "\n",
    "run_view = f'''bq query --use_legacy_sql=false --project_id={new_project_id} \"{view_query}\"'''\n",
    "!{run_view}"
   ]
  },
  {
   "cell_type": "markdown",
   "id": "liked-championship",
   "metadata": {},
   "source": [
    "## Step 10 - Create Cloud Scheduler Jobs\n",
    "\n",
    "This is only required if you wish to keep your data up to date. If you do not need to keep the data up to date, simply make sure you execute the nba_model_game_refresh and nba_get_upcoming_games functions once in order for the Web App to be able to function with most recent game and upcoming schedule information."
   ]
  },
  {
   "cell_type": "code",
   "execution_count": 31,
   "id": "endless-underground",
   "metadata": {},
   "outputs": [],
   "source": [
    "## TO DO: Replace region with the region your cloud functions are deployed to and timezone with your desired scheduled time zone\n",
    "region = 'us-central1'\n",
    "timezone = 'America/Chicago'"
   ]
  },
  {
   "cell_type": "code",
   "execution_count": 32,
   "id": "silver-fruit",
   "metadata": {},
   "outputs": [],
   "source": [
    "# Create daily scraper schedule\n",
    "uri = f'https://{region}-{new_project_id}.cloudfunctions.net/nba_basketball_reference_scraper'\n",
    "!gcloud scheduler jobs create http nba_basketball_reference_scraper_daily --project {new_project_id} \\\n",
    "--schedule \"0 6 * * *\" --uri {uri} --http-method GET \\\n",
    "--time-zone={timezone} \\\n",
    "--description=\"Calls http cloud function nba_basketball_reference_scraper every day to scrape the most recent days information and add to big query tables\"\n",
    "\n",
    "# Create daily model refresh schedule\n",
    "uri = f'https://{region}-{new_project_id}.cloudfunctions.net/nba_model_game_refresh'\n",
    "!gcloud scheduler jobs create http nba_model_game_refresh_daily --project {new_project_id} \\\n",
    "--schedule \"0 7 * * *\" --uri {uri} --http-method GET \\\n",
    "--time-zone={timezone} \\\n",
    "--description=\"Calls http cloud function nba_model_game_refresh every day to load the most recently scraped data in to the model table and most recent data for each team to firestore\"\n",
    "\n",
    "# Create upcoming games refresh schedule\n",
    "uri = f'https://{region}-{new_project_id}.cloudfunctions.net/nba_get_upcoming_games'\n",
    "!gcloud scheduler jobs create http nba_get_upcoming_games --project {new_project_id} \\\n",
    "--schedule \"0 5 * * *\" --uri {uri} --http-method GET \\\n",
    "--time-zone={timezone} \\\n",
    "--description=\"Calls http cloud function nba_get_upcoming_games every day to scrape the schedule for the upcoming week and store to cloud storage\""
   ]
  },
  {
   "cell_type": "markdown",
   "id": "brazilian-porter",
   "metadata": {},
   "source": [
    "## Step 11 - Trigger Cloud Functions\n",
    "\n",
    "In order to populate Firestore with the most recent game data and cloud storage with the upcoming games the fdeploy functions must be triggered. This can be done in the Console or by using the script below."
   ]
  },
  {
   "cell_type": "code",
   "execution_count": 52,
   "id": "sealed-control",
   "metadata": {},
   "outputs": [],
   "source": [
    "empty_data = '{}'\n",
    "empty_data = json.dumps(empty_data)"
   ]
  },
  {
   "cell_type": "code",
   "execution_count": 53,
   "id": "heavy-mystery",
   "metadata": {},
   "outputs": [
    {
     "name": "stdout",
     "output_type": "stream",
     "text": [
      "executionId: wz9mpsv9yh9u\n",
      "result: Successfully loaded 0 row(s) to raw_basketballreference_playerbox and 0 to\n",
      "  raw_basketballreference_game\n"
     ]
    }
   ],
   "source": [
    "!gcloud functions call --project {new_project_id} nba_basketball_reference_scraper --data {empty_data}"
   ]
  },
  {
   "cell_type": "code",
   "execution_count": 66,
   "id": "responsible-chrome",
   "metadata": {},
   "outputs": [
    {
     "name": "stdout",
     "output_type": "stream",
     "text": [
      "executionId: pomjmnllnfgu\n",
      "result: 'Job ID: 12c464c1-9f0d-4a41-9ce4-a4fcc2607d49 was started 2021-03-15 01:39:33.594000+00:00\n",
      "  and ended 2021-03-15 01:39:36.843000+00:00 loading 54262 row(s) to nba-predictions-demo-1.nba.model_game'\n"
     ]
    }
   ],
   "source": [
    "!gcloud functions call nba_model_game_refresh --project {new_project_id} --data {empty_data}"
   ]
  },
  {
   "cell_type": "code",
   "execution_count": 55,
   "id": "minimal-recovery",
   "metadata": {},
   "outputs": [
    {
     "name": "stdout",
     "output_type": "stream",
     "text": [
      "executionId: daji5rrz9oay\n",
      "result: Successfully updated bucket with upcoming games for the next 14 days\n"
     ]
    }
   ],
   "source": [
    "!gcloud functions call nba_get_upcoming_games --project {new_project_id} --data {empty_data}"
   ]
  },
  {
   "cell_type": "markdown",
   "id": "approximate-reflection",
   "metadata": {},
   "source": [
    "## Step 12 - Create Static Model Training Data View\n",
    "\n",
    "For tranparency and auditability we create a view using the model_game table for specific dates and a timestamped name. This will allow us to come back to train different models on the same data. These are created as views so they are not part of what is copied externally but you could create these as tables instead if desired but would have to pay for additional storage costs."
   ]
  },
  {
   "cell_type": "code",
   "execution_count": 67,
   "id": "scientific-roman",
   "metadata": {},
   "outputs": [],
   "source": [
    "#TO DO: Change timezone to your timezone if desired\n",
    "timezone = 'America/Chicago'"
   ]
  },
  {
   "cell_type": "code",
   "execution_count": 68,
   "id": "grave-extent",
   "metadata": {},
   "outputs": [
    {
     "name": "stdout",
     "output_type": "stream",
     "text": [
      "CREATE OR REPLACE VIEW `nba.model_training_data_20210314` AS                 SELECT * FROM (                     SELECT                         *,                         ROW_NUMBER() OVER (PARTITION BY g.SEASON, g.TEAM ORDER BY g.game_date asc) as SEASON_GAME_NUMBER,                     FROM nba.model_game g             ) WHERE SEASON_GAME_NUMBER > 1 and is_home_team = 1                 and game_date < DATE_SUB(CURRENT_DATE(\"America/Chicago\"), INTERVAL 1 WEEK); "
     ]
    },
    {
     "name": "stderr",
     "output_type": "stream",
     "text": [
      "\n",
      "Waiting on bqjob_r18b54d738d750d5f_00000178338a483f_1 ... (0s) Current status: RUNNING\n",
      "                                                                                      \n",
      "Waiting on bqjob_r18b54d738d750d5f_00000178338a483f_1 ... (0s) Current status: DONE   \n"
     ]
    },
    {
     "name": "stdout",
     "output_type": "stream",
     "text": [
      "\n",
      "-- at Dynamic SQL[1:18]\n",
      "-- at [1:1]\n",
      "Replaced nba-predictions-demo-1.nba.model_training_data_20210314\n",
      "\n"
     ]
    }
   ],
   "source": [
    "## Create view that excludes first game in every seasons because rest days will be way off. \n",
    "#It will use moving average dating back to previous season.\n",
    "\n",
    "query = f\"\"\"EXECUTE IMMEDIATE CONCAT(' \\\n",
    "                CREATE OR REPLACE VIEW `nba.model_training_data_' \\\n",
    "                , FORMAT_DATE('%Y%m%d', CURRENT_DATE(\\\\\"{timezone}\\\\\")) \\\n",
    "            ,'` AS \\\n",
    "                SELECT * FROM ( \\\n",
    "                    SELECT \\\n",
    "                        *, \\\n",
    "                        ROW_NUMBER() OVER (PARTITION BY g.SEASON, g.TEAM ORDER BY g.game_date asc) as SEASON_GAME_NUMBER, \\\n",
    "                    FROM nba.model_game g \\\n",
    "            ) WHERE SEASON_GAME_NUMBER > 1 and is_home_team = 1 \\\n",
    "                and game_date < DATE_SUB(CURRENT_DATE(\\\\\"{timezone}\\\\\"), INTERVAL 1 WEEK)')\"\"\"\n",
    "\n",
    "run_query = f'''bq query --use_legacy_sql=false --project_id={new_project_id} \"{query}\"'''\n",
    "\n",
    "!{run_query}"
   ]
  },
  {
   "cell_type": "markdown",
   "id": "lasting-principal",
   "metadata": {},
   "source": [
    "## Step 13 - Create Baseline Linear Model using View\n",
    "\n",
    "We will now use the data in the view we just created to generate a linear model on all of the relevant variables. \n",
    "\n",
    "You definiltey will want to open the Console to explore the model further but that is left as a separate task.\n",
    "\n",
    "**NOTE:** This is the most time consuming and costly step. Be careful with running this too many times but definitely expirement with different modeling types."
   ]
  },
  {
   "cell_type": "code",
   "execution_count": 61,
   "id": "medieval-birmingham",
   "metadata": {},
   "outputs": [],
   "source": [
    "## If running Step 13 on the same date as Step 12 execute this cell to set the view date\n",
    "from datetime import datetime\n",
    "view_date = datetime.now().strftime('%Y%m%d')"
   ]
  },
  {
   "cell_type": "markdown",
   "id": "noticed-failing",
   "metadata": {},
   "source": [
    "##If running Step 13 on a different day than Step 12 change the date here to the date you created the view in Step 12  \n",
    "view_date = '20210310'"
   ]
  },
  {
   "cell_type": "code",
   "execution_count": 70,
   "id": "detected-graham",
   "metadata": {},
   "outputs": [
    {
     "name": "stdout",
     "output_type": "stream",
     "text": [
      "Created nba-predictions-demo-1.nba.baseline_linear_model\n"
     ]
    },
    {
     "name": "stderr",
     "output_type": "stream",
     "text": [
      "\n",
      "Waiting on bqjob_r1a0dc41ccc050023_00000178338a7c1c_1 ... (0s) Current status: RUNNING\n",
      "                                                                                      \n",
      "Waiting on bqjob_r1a0dc41ccc050023_00000178338a7c1c_1 ... (1s) Current status: RUNNING\n",
      "                                                                                      \n",
      "Waiting on bqjob_r1a0dc41ccc050023_00000178338a7c1c_1 ... (2s) Current status: RUNNING\n",
      "                                                                                      \n",
      "Waiting on bqjob_r1a0dc41ccc050023_00000178338a7c1c_1 ... (3s) Current status: RUNNING\n",
      "                                                                                      \n",
      "Waiting on bqjob_r1a0dc41ccc050023_00000178338a7c1c_1 ... (4s) Current status: RUNNING\n",
      "                                                                                      "
     ]
    },
    {
     "name": "stdout",
     "output_type": "stream",
     "text": [
      "\n"
     ]
    },
    {
     "name": "stderr",
     "output_type": "stream",
     "text": [
      "\n",
      "Waiting on bqjob_r1a0dc41ccc050023_00000178338a7c1c_1 ... (5s) Current status: RUNNING\n",
      "                                                                                      \n",
      "Waiting on bqjob_r1a0dc41ccc050023_00000178338a7c1c_1 ... (6s) Current status: RUNNING\n",
      "                                                                                      \n",
      "Waiting on bqjob_r1a0dc41ccc050023_00000178338a7c1c_1 ... (7s) Current status: RUNNING\n",
      "                                                                                      \n",
      "Waiting on bqjob_r1a0dc41ccc050023_00000178338a7c1c_1 ... (8s) Current status: RUNNING\n",
      "                                                                                      \n",
      "Waiting on bqjob_r1a0dc41ccc050023_00000178338a7c1c_1 ... (9s) Current status: RUNNING\n",
      "                                                                                      \n",
      "Waiting on bqjob_r1a0dc41ccc050023_00000178338a7c1c_1 ... (30s) Current status: RUNNING\n",
      "                                                                                       \n",
      "Waiting on bqjob_r1a0dc41ccc050023_00000178338a7c1c_1 ... (31s) Current status: RUNNING\n",
      "                                                                                       \n",
      "Waiting on bqjob_r1a0dc41ccc050023_00000178338a7c1c_1 ... (32s) Current status: RUNNING\n",
      "                                                                                       \n",
      "Waiting on bqjob_r1a0dc41ccc050023_00000178338a7c1c_1 ... (33s) Current status: RUNNING\n",
      "                                                                                       \n",
      "Waiting on bqjob_r1a0dc41ccc050023_00000178338a7c1c_1 ... (34s) Current status: RUNNING\n",
      "                                                                                       \n",
      "Waiting on bqjob_r1a0dc41ccc050023_00000178338a7c1c_1 ... (34s) Current status: DONE   \n"
     ]
    }
   ],
   "source": [
    "model_query = f\"\"\"CREATE OR REPLACE MODEL nba.baseline_linear_model \\\n",
    "  OPTIONS(model_type='LINEAR_REG', input_label_cols=['spread']) \\\n",
    "    AS SELECT spread, \\\n",
    "        is_home_team, \\\n",
    "        incoming_is_win_streak, \\\n",
    "        incoming_is_win_streak_opponent, \\\n",
    "        incoming_wma_{W}_pace, \\\n",
    "        incoming_wma_{W}_efg_pct, \\\n",
    "        incoming_wma_{W}_tov_pct, \\\n",
    "        incoming_wma_{W}_ft_rate, \\\n",
    "        incoming_wma_{W}_off_rtg, \\\n",
    "        incoming_wma_{W}_opponent_efg_pct, \\\n",
    "        incoming_wma_{W}_opponent_tov_pct, \\\n",
    "        incoming_wma_{W}_opponent_ft_rate, \\\n",
    "        incoming_wma_{W}_opponent_off_rtg, \\\n",
    "        incoming_wma_{W}_starter_minutes_played_proportion, \\\n",
    "        incoming_wma_{W}_bench_plus_minus,\\\n",
    "        incoming_wma_{W}_opponnent_starter_minutes_played_proportion, \\\n",
    "        incoming_wma_{W}_opponent_bench_plus_minus, \\\n",
    "        incoming_rest_days - incoming_rest_days_opponent as rest_days_difference \\\n",
    "    FROM `nba.model_training_data_{view_date}`\"\"\"\n",
    "\n",
    "model_query = f'''bq query --use_legacy_sql=false --project_id={new_project_id} \"{model_query}\"'''\n",
    "\n",
    "!{model_query}"
   ]
  },
  {
   "cell_type": "markdown",
   "id": "useful-square",
   "metadata": {},
   "source": [
    "## Step 14 Deploy App Engine App\n",
    "\n",
    "We are finally ready to deploy the app engine web app! If you have sucessfully completed all steps above then you should be able to navigate to a webpage that works the same as the [webpage](https://nba-predictions-prod.uc.r.appspot.com/) in the Readme.\n",
    "\n",
    "As a prequisite, make sure you are running this notebook in the folder from the gitclone or be sure to replace the file paths below with the correct file path. "
   ]
  },
  {
   "cell_type": "code",
   "execution_count": 71,
   "id": "engaged-transparency",
   "metadata": {},
   "outputs": [
    {
     "name": "stdout",
     "output_type": "stream",
     "text": [
      "Check you your new web page at https://nba-predictions-demo-1.uc.r.appspot.com/\n"
     ]
    },
    {
     "name": "stderr",
     "output_type": "stream",
     "text": [
      "Services to deploy:\n",
      "\n",
      "descriptor:      [C:\\Users\\cwilb\\source\\repos\\nba-predictions\\nba-predictions\\webapp\\app.yaml]\n",
      "source:          [C:\\Users\\cwilb\\source\\repos\\nba-predictions\\nba-predictions\\webapp]\n",
      "target project:  [nba-predictions-demo-1]\n",
      "target service:  [default]\n",
      "target version:  [20210314t204101]\n",
      "target url:      [http://nba-predictions-demo-1.uc.r.appspot.com]\n",
      "\n",
      "\n",
      "Beginning deployment of service [default]...\n",
      "#============================================================#\n",
      "#= Uploading 11 files to Google Cloud Storage               =#\n",
      "#============================================================#\n",
      "File upload done.\n",
      "Updating service [default]...\n",
      "................................................................................................................................................................................................................................................................................................................................................................................................................................................................................................................................................................................................................done.\n",
      "Setting traffic split for service [default]...\n",
      "...............................done.\n",
      "Deployed service [default] to [http://nba-predictions-demo-1.uc.r.appspot.com]\n",
      "\n",
      "You can stream logs from the command line by running:\n",
      "  $ gcloud app logs tail -s default\n",
      "\n",
      "To view your application in the web browser run:\n",
      "  $ gcloud app browse --project=nba-predictions-demo-1\n"
     ]
    }
   ],
   "source": [
    "!gcloud app deploy ../webapp/app.yaml --project={new_project_id} --promote --quiet\n",
    "print(f'Check you your new web page at https://{new_project_id}.uc.r.appspot.com/')"
   ]
  },
  {
   "cell_type": "markdown",
   "id": "underlying-aberdeen",
   "metadata": {},
   "source": [
    "## Optional - Delete Project\n",
    "\n",
    "To avoid on-going charges for everything created in this workbook run the below command to delete the project that you just created. Note it will take approximately 30 days for full completion and you will stil be charged for any charges accrued during this walkthrough. Check out [Deleting GCP Project](https://cloud.google.com/resource-manager/docs/creating-managing-projects?visit_id=637510410447506984-2569255859&rd=1#shutting_down_projects) for more information."
   ]
  },
  {
   "cell_type": "code",
   "execution_count": null,
   "id": "surprised-tampa",
   "metadata": {},
   "outputs": [],
   "source": [
    "### Uncomment code to delete project\n",
    "# !gcloud projects delete {new_project_id}"
   ]
  },
  {
   "cell_type": "code",
   "execution_count": null,
   "id": "dangerous-release",
   "metadata": {},
   "outputs": [],
   "source": []
  }
 ],
 "metadata": {
  "kernelspec": {
   "display_name": "Python 3",
   "language": "python",
   "name": "python3"
  },
  "language_info": {
   "codemirror_mode": {
    "name": "ipython",
    "version": 3
   },
   "file_extension": ".py",
   "mimetype": "text/x-python",
   "name": "python",
   "nbconvert_exporter": "python",
   "pygments_lexer": "ipython3",
   "version": "3.9.1"
  }
 },
 "nbformat": 4,
 "nbformat_minor": 5
}
